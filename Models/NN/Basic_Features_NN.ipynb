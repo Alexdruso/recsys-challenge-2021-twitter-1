{
  "nbformat": 4,
  "nbformat_minor": 0,
  "metadata": {
    "colab": {
      "name": "Basic Features NN.ipynb",
      "provenance": [],
      "collapsed_sections": [
        "5kJQMKLWGz5k",
        "lfhi57xq-vaJ",
        "jGQ5_xwJ-yx0"
      ],
      "toc_visible": true
    },
    "kernelspec": {
      "name": "python3",
      "display_name": "Python 3"
    },
    "language_info": {
      "name": "python"
    }
  },
  "cells": [
    {
      "cell_type": "code",
      "metadata": {
        "id": "yIkd0HIYXT59"
      },
      "source": [
        "%%capture\n",
        "import os, json, zipfile, shutil, platform, time\n",
        "\n",
        "import scipy.sparse as sps\n",
        "from pandas import DataFrame\n",
        "import pandas as pd\n",
        "import numpy as np\n",
        "\n",
        "import multiprocessing\n",
        "import multiprocessing.pool\n",
        "import time\n",
        "\n",
        "import gc \n",
        "from random import randint\n",
        "targetCol=\"reply\"\n",
        "targets=[\"like\",\t\"retweet\",\t\"retweetCom\",\t\"reply\",\t\"interaction\"]\n",
        "droppable=[t for t in targets if t!=targetCol]\n",
        "all_features = [\"text_tokens\", \"hashtags\", \"tweet_id\", \"present_media\", \"present_links\", \"present_domains\",\\\n",
        "                \"tweet_type\",\"language\", \"tweet_timestamp\", \"engaged_with_user_id\", \"engaged_with_user_follower_count\",\\\n",
        "               \"engaged_with_user_following_count\", \"engaged_with_user_is_verified\", \"engaged_with_user_account_creation\",\\\n",
        "               \"engaging_user_id\", \"engaging_user_follower_count\", \"engaging_user_following_count\", \"engaging_user_is_verified\",\\\n",
        "               \"engaging_user_account_creation\", \"engagee_follows_engager\",\"reply_timestamp\", \"retweet_timestamp\", \"retweet_with_comment_timestamp\", \"like_timestamp\"]"
      ],
      "execution_count": null,
      "outputs": []
    },
    {
      "cell_type": "markdown",
      "metadata": {
        "id": "5kJQMKLWGz5k"
      },
      "source": [
        "#Join feature with  dataset"
      ]
    },
    {
      "cell_type": "code",
      "metadata": {
        "id": "VlOpr3ypAf6P"
      },
      "source": [
        "import pandas as pd"
      ],
      "execution_count": null,
      "outputs": []
    },
    {
      "cell_type": "code",
      "metadata": {
        "id": "O2soeQABA0XG"
      },
      "source": [
        "origin=\"drive/MyDrive/twitter/onechunk/\""
      ],
      "execution_count": null,
      "outputs": []
    },
    {
      "cell_type": "code",
      "metadata": {
        "colab": {
          "base_uri": "https://localhost:8080/"
        },
        "id": "hFHLqS8cAs91",
        "outputId": "80515d8e-f371-4dba-a203-e1c98881eeb8"
      },
      "source": [
        "import os   \n",
        "os.system(f\"cp {origin}train.bz2 ../content/\")\n",
        "os.system(f\"cp {origin}test.bz2 ../content/\")"
      ],
      "execution_count": null,
      "outputs": [
        {
          "output_type": "execute_result",
          "data": {
            "text/plain": [
              "0"
            ]
          },
          "metadata": {
            "tags": []
          },
          "execution_count": 135
        }
      ]
    },
    {
      "cell_type": "code",
      "metadata": {
        "id": "umLtY-kUBuge"
      },
      "source": [
        "!bunzip2 train.bz2\n",
        "!bunzip2 test.bz2\n",
        "!mv train train.csv\n",
        "!mv test test.csv"
      ],
      "execution_count": null,
      "outputs": []
    },
    {
      "cell_type": "code",
      "metadata": {
        "colab": {
          "base_uri": "https://localhost:8080/"
        },
        "id": "JVyl4GshA5BO",
        "outputId": "ae3f0cea-5532-4741-c9cf-f155411de2a0"
      },
      "source": [
        "train=pd.read_csv(\"train.csv\", index_col=0)\n",
        "test=pd.read_csv(\"test.csv\", index_col=0)\n"
      ],
      "execution_count": null,
      "outputs": [
        {
          "output_type": "stream",
          "text": [
            "/usr/local/lib/python3.7/dist-packages/numpy/lib/arraysetops.py:580: FutureWarning: elementwise comparison failed; returning scalar instead, but in the future will perform elementwise comparison\n",
            "  mask |= (ar1 == a)\n"
          ],
          "name": "stderr"
        }
      ]
    },
    {
      "cell_type": "code",
      "metadata": {
        "colab": {
          "base_uri": "https://localhost:8080/"
        },
        "id": "Lt6pVearB_yT",
        "outputId": "21bc90ae-eb3c-49ac-e8f9-cbfec3f45aef"
      },
      "source": [
        "for col in train.columns:\n",
        "    if col  in droppable:\n",
        "        train.drop(col,axis=1,inplace=True)\n",
        "    if col in [\"engaged_with_user_id\",\"engaging_user_id\",\"language\"]:\n",
        "        train.drop(col,axis=1,inplace=True)\n",
        "\n",
        "train[\"engaged_with_user_is_verified\"] = train[\"engaged_with_user_is_verified\"].astype(int)\n",
        "train[\"engaging_user_is_verified\"] = train[\"engaging_user_is_verified\"].astype(int)\n",
        "train[\"engagee_follows_engager\"] = train[\"engagee_follows_engager\"].astype(int)\n",
        "import gc \n",
        "gc.collect()"
      ],
      "execution_count": null,
      "outputs": [
        {
          "output_type": "execute_result",
          "data": {
            "text/plain": [
              "3750"
            ]
          },
          "metadata": {
            "tags": []
          },
          "execution_count": 138
        }
      ]
    },
    {
      "cell_type": "code",
      "metadata": {
        "colab": {
          "base_uri": "https://localhost:8080/"
        },
        "id": "U0JDgsfjCOuY",
        "outputId": "344ab5ee-5adf-461e-8226-223c037382f5"
      },
      "source": [
        "train.head()"
      ],
      "execution_count": null,
      "outputs": [
        {
          "output_type": "execute_result",
          "data": {
            "text/html": [
              "<div>\n",
              "<style scoped>\n",
              "    .dataframe tbody tr th:only-of-type {\n",
              "        vertical-align: middle;\n",
              "    }\n",
              "\n",
              "    .dataframe tbody tr th {\n",
              "        vertical-align: top;\n",
              "    }\n",
              "\n",
              "    .dataframe thead th {\n",
              "        text-align: right;\n",
              "    }\n",
              "</style>\n",
              "<table border=\"1\" class=\"dataframe\">\n",
              "  <thead>\n",
              "    <tr style=\"text-align: right;\">\n",
              "      <th></th>\n",
              "      <th>text_tokens</th>\n",
              "      <th>hashtags</th>\n",
              "      <th>present_media</th>\n",
              "      <th>present_links</th>\n",
              "      <th>present_domains</th>\n",
              "      <th>engaged_with_user_follower_count</th>\n",
              "      <th>engaged_with_user_following_count</th>\n",
              "      <th>engaged_with_user_is_verified</th>\n",
              "      <th>engaging_user_follower_count</th>\n",
              "      <th>engaging_user_following_count</th>\n",
              "      <th>engaging_user_is_verified</th>\n",
              "      <th>engagee_follows_engager</th>\n",
              "      <th>reply</th>\n",
              "      <th>photos</th>\n",
              "      <th>gifs</th>\n",
              "      <th>videos</th>\n",
              "      <th>tweet_type_Quote</th>\n",
              "      <th>tweet_type_Retweet</th>\n",
              "      <th>tweet_type_TopLevel</th>\n",
              "    </tr>\n",
              "  </thead>\n",
              "  <tbody>\n",
              "    <tr>\n",
              "      <th>0</th>\n",
              "      <td>50</td>\n",
              "      <td>0</td>\n",
              "      <td>0</td>\n",
              "      <td>0</td>\n",
              "      <td>0</td>\n",
              "      <td>2473</td>\n",
              "      <td>662</td>\n",
              "      <td>0</td>\n",
              "      <td>169</td>\n",
              "      <td>339</td>\n",
              "      <td>0</td>\n",
              "      <td>0</td>\n",
              "      <td>0</td>\n",
              "      <td>0</td>\n",
              "      <td>0</td>\n",
              "      <td>0</td>\n",
              "      <td>0</td>\n",
              "      <td>1</td>\n",
              "      <td>0</td>\n",
              "    </tr>\n",
              "    <tr>\n",
              "      <th>2</th>\n",
              "      <td>39</td>\n",
              "      <td>0</td>\n",
              "      <td>0</td>\n",
              "      <td>1</td>\n",
              "      <td>1</td>\n",
              "      <td>219715</td>\n",
              "      <td>3685</td>\n",
              "      <td>1</td>\n",
              "      <td>629</td>\n",
              "      <td>1473</td>\n",
              "      <td>0</td>\n",
              "      <td>0</td>\n",
              "      <td>0</td>\n",
              "      <td>0</td>\n",
              "      <td>0</td>\n",
              "      <td>0</td>\n",
              "      <td>0</td>\n",
              "      <td>0</td>\n",
              "      <td>1</td>\n",
              "    </tr>\n",
              "    <tr>\n",
              "      <th>3</th>\n",
              "      <td>40</td>\n",
              "      <td>0</td>\n",
              "      <td>0</td>\n",
              "      <td>0</td>\n",
              "      <td>0</td>\n",
              "      <td>2388283</td>\n",
              "      <td>13511</td>\n",
              "      <td>1</td>\n",
              "      <td>123</td>\n",
              "      <td>200</td>\n",
              "      <td>0</td>\n",
              "      <td>0</td>\n",
              "      <td>0</td>\n",
              "      <td>0</td>\n",
              "      <td>0</td>\n",
              "      <td>0</td>\n",
              "      <td>0</td>\n",
              "      <td>1</td>\n",
              "      <td>0</td>\n",
              "    </tr>\n",
              "    <tr>\n",
              "      <th>4</th>\n",
              "      <td>66</td>\n",
              "      <td>0</td>\n",
              "      <td>1</td>\n",
              "      <td>0</td>\n",
              "      <td>0</td>\n",
              "      <td>414</td>\n",
              "      <td>720</td>\n",
              "      <td>0</td>\n",
              "      <td>134</td>\n",
              "      <td>379</td>\n",
              "      <td>0</td>\n",
              "      <td>1</td>\n",
              "      <td>0</td>\n",
              "      <td>1</td>\n",
              "      <td>0</td>\n",
              "      <td>0</td>\n",
              "      <td>0</td>\n",
              "      <td>0</td>\n",
              "      <td>1</td>\n",
              "    </tr>\n",
              "    <tr>\n",
              "      <th>5</th>\n",
              "      <td>3</td>\n",
              "      <td>0</td>\n",
              "      <td>0</td>\n",
              "      <td>0</td>\n",
              "      <td>0</td>\n",
              "      <td>673</td>\n",
              "      <td>561</td>\n",
              "      <td>0</td>\n",
              "      <td>2322</td>\n",
              "      <td>996</td>\n",
              "      <td>0</td>\n",
              "      <td>1</td>\n",
              "      <td>0</td>\n",
              "      <td>0</td>\n",
              "      <td>0</td>\n",
              "      <td>0</td>\n",
              "      <td>1</td>\n",
              "      <td>0</td>\n",
              "      <td>0</td>\n",
              "    </tr>\n",
              "  </tbody>\n",
              "</table>\n",
              "</div>"
            ],
            "text/plain": [
              "   text_tokens  hashtags  ...  tweet_type_Retweet  tweet_type_TopLevel\n",
              "0           50         0  ...                   1                    0\n",
              "2           39         0  ...                   0                    1\n",
              "3           40         0  ...                   1                    0\n",
              "4           66         0  ...                   0                    1\n",
              "5            3         0  ...                   0                    0\n",
              "\n",
              "[5 rows x 19 columns]"
            ]
          },
          "metadata": {
            "tags": []
          },
          "execution_count": 139
        }
      ]
    },
    {
      "cell_type": "code",
      "metadata": {
        "colab": {
          "base_uri": "https://localhost:8080/"
        },
        "id": "HOU5Aw2IaG9b",
        "outputId": "146ba190-ea64-46aa-c521-57a0f8f3b9d3"
      },
      "source": [
        "for col in test.columns:\n",
        "    if col  in droppable:\n",
        "        test.drop(col,axis=1,inplace=True)\n",
        "    if col in [\"engaged_with_user_id\",\"engaging_user_id\",\"language\"]:\n",
        "        test.drop(col,axis=1,inplace=True)\n",
        "\n",
        "test[\"engaged_with_user_is_verified\"] = test[\"engaged_with_user_is_verified\"].astype(int)\n",
        "test[\"engaging_user_is_verified\"] = test[\"engaging_user_is_verified\"].astype(int)\n",
        "test[\"engagee_follows_engager\"] = test[\"engagee_follows_engager\"].astype(int)\n",
        "import gc \n",
        "gc.collect()"
      ],
      "execution_count": null,
      "outputs": [
        {
          "output_type": "execute_result",
          "data": {
            "text/plain": [
              "62"
            ]
          },
          "metadata": {
            "tags": []
          },
          "execution_count": 140
        }
      ]
    },
    {
      "cell_type": "code",
      "metadata": {
        "colab": {
          "base_uri": "https://localhost:8080/"
        },
        "id": "6cTt_rPyetSY",
        "outputId": "d261a1dc-037c-46e1-ccac-14d9e7337ac0"
      },
      "source": [
        "test.head()"
      ],
      "execution_count": null,
      "outputs": [
        {
          "output_type": "execute_result",
          "data": {
            "text/html": [
              "<div>\n",
              "<style scoped>\n",
              "    .dataframe tbody tr th:only-of-type {\n",
              "        vertical-align: middle;\n",
              "    }\n",
              "\n",
              "    .dataframe tbody tr th {\n",
              "        vertical-align: top;\n",
              "    }\n",
              "\n",
              "    .dataframe thead th {\n",
              "        text-align: right;\n",
              "    }\n",
              "</style>\n",
              "<table border=\"1\" class=\"dataframe\">\n",
              "  <thead>\n",
              "    <tr style=\"text-align: right;\">\n",
              "      <th></th>\n",
              "      <th>text_tokens</th>\n",
              "      <th>hashtags</th>\n",
              "      <th>present_media</th>\n",
              "      <th>present_links</th>\n",
              "      <th>present_domains</th>\n",
              "      <th>engaged_with_user_follower_count</th>\n",
              "      <th>engaged_with_user_following_count</th>\n",
              "      <th>engaged_with_user_is_verified</th>\n",
              "      <th>engaging_user_follower_count</th>\n",
              "      <th>engaging_user_following_count</th>\n",
              "      <th>engaging_user_is_verified</th>\n",
              "      <th>engagee_follows_engager</th>\n",
              "      <th>reply</th>\n",
              "      <th>photos</th>\n",
              "      <th>gifs</th>\n",
              "      <th>videos</th>\n",
              "      <th>tweet_type_Quote</th>\n",
              "      <th>tweet_type_Retweet</th>\n",
              "      <th>tweet_type_TopLevel</th>\n",
              "    </tr>\n",
              "  </thead>\n",
              "  <tbody>\n",
              "    <tr>\n",
              "      <th>1</th>\n",
              "      <td>78</td>\n",
              "      <td>0</td>\n",
              "      <td>0</td>\n",
              "      <td>1</td>\n",
              "      <td>1</td>\n",
              "      <td>4418640</td>\n",
              "      <td>228</td>\n",
              "      <td>1</td>\n",
              "      <td>393</td>\n",
              "      <td>1190</td>\n",
              "      <td>0</td>\n",
              "      <td>0</td>\n",
              "      <td>0</td>\n",
              "      <td>0</td>\n",
              "      <td>0</td>\n",
              "      <td>0</td>\n",
              "      <td>0</td>\n",
              "      <td>0</td>\n",
              "      <td>1</td>\n",
              "    </tr>\n",
              "    <tr>\n",
              "      <th>9</th>\n",
              "      <td>77</td>\n",
              "      <td>0</td>\n",
              "      <td>0</td>\n",
              "      <td>1</td>\n",
              "      <td>1</td>\n",
              "      <td>881</td>\n",
              "      <td>583</td>\n",
              "      <td>0</td>\n",
              "      <td>355</td>\n",
              "      <td>650</td>\n",
              "      <td>0</td>\n",
              "      <td>0</td>\n",
              "      <td>0</td>\n",
              "      <td>0</td>\n",
              "      <td>0</td>\n",
              "      <td>0</td>\n",
              "      <td>0</td>\n",
              "      <td>0</td>\n",
              "      <td>1</td>\n",
              "    </tr>\n",
              "    <tr>\n",
              "      <th>10</th>\n",
              "      <td>62</td>\n",
              "      <td>0</td>\n",
              "      <td>0</td>\n",
              "      <td>0</td>\n",
              "      <td>0</td>\n",
              "      <td>133933</td>\n",
              "      <td>5371</td>\n",
              "      <td>0</td>\n",
              "      <td>83</td>\n",
              "      <td>265</td>\n",
              "      <td>0</td>\n",
              "      <td>0</td>\n",
              "      <td>0</td>\n",
              "      <td>0</td>\n",
              "      <td>0</td>\n",
              "      <td>0</td>\n",
              "      <td>0</td>\n",
              "      <td>0</td>\n",
              "      <td>1</td>\n",
              "    </tr>\n",
              "    <tr>\n",
              "      <th>15</th>\n",
              "      <td>19</td>\n",
              "      <td>0</td>\n",
              "      <td>0</td>\n",
              "      <td>0</td>\n",
              "      <td>0</td>\n",
              "      <td>234</td>\n",
              "      <td>409</td>\n",
              "      <td>0</td>\n",
              "      <td>24</td>\n",
              "      <td>138</td>\n",
              "      <td>0</td>\n",
              "      <td>1</td>\n",
              "      <td>1</td>\n",
              "      <td>0</td>\n",
              "      <td>0</td>\n",
              "      <td>0</td>\n",
              "      <td>1</td>\n",
              "      <td>0</td>\n",
              "      <td>0</td>\n",
              "    </tr>\n",
              "    <tr>\n",
              "      <th>27</th>\n",
              "      <td>32</td>\n",
              "      <td>0</td>\n",
              "      <td>1</td>\n",
              "      <td>0</td>\n",
              "      <td>0</td>\n",
              "      <td>357</td>\n",
              "      <td>474</td>\n",
              "      <td>0</td>\n",
              "      <td>407</td>\n",
              "      <td>416</td>\n",
              "      <td>0</td>\n",
              "      <td>1</td>\n",
              "      <td>0</td>\n",
              "      <td>1</td>\n",
              "      <td>0</td>\n",
              "      <td>0</td>\n",
              "      <td>0</td>\n",
              "      <td>0</td>\n",
              "      <td>1</td>\n",
              "    </tr>\n",
              "  </tbody>\n",
              "</table>\n",
              "</div>"
            ],
            "text/plain": [
              "    text_tokens  hashtags  ...  tweet_type_Retweet  tweet_type_TopLevel\n",
              "1            78         0  ...                   0                    1\n",
              "9            77         0  ...                   0                    1\n",
              "10           62         0  ...                   0                    1\n",
              "15           19         0  ...                   0                    0\n",
              "27           32         0  ...                   0                    1\n",
              "\n",
              "[5 rows x 19 columns]"
            ]
          },
          "metadata": {
            "tags": []
          },
          "execution_count": 141
        }
      ]
    },
    {
      "cell_type": "code",
      "metadata": {
        "colab": {
          "base_uri": "https://localhost:8080/"
        },
        "id": "GdQjLBUXZiDx",
        "outputId": "b625dc62-13a3-4039-f91f-9d516870d517"
      },
      "source": [
        "for col in train.columns:\n",
        "    if col!= targetCol:\n",
        "        print(col)\n",
        "        mean=np.mean(train[col].values)\n",
        "        std=np.std(train[col].values)\n",
        "        train[col]=(train[col]-mean)/std\n",
        "        test[col]=(test[col]-mean)/std"
      ],
      "execution_count": null,
      "outputs": [
        {
          "output_type": "stream",
          "text": [
            "text_tokens\n",
            "hashtags\n",
            "present_media\n",
            "present_links\n",
            "present_domains\n",
            "engaged_with_user_follower_count\n",
            "engaged_with_user_following_count\n",
            "engaged_with_user_is_verified\n",
            "engaging_user_follower_count\n",
            "engaging_user_following_count\n",
            "engaging_user_is_verified\n",
            "engagee_follows_engager\n",
            "photos\n",
            "gifs\n",
            "videos\n",
            "tweet_type_Quote\n",
            "tweet_type_Retweet\n",
            "tweet_type_TopLevel\n"
          ],
          "name": "stdout"
        }
      ]
    },
    {
      "cell_type": "code",
      "metadata": {
        "colab": {
          "base_uri": "https://localhost:8080/"
        },
        "id": "1g0qHXxudzuu",
        "outputId": "22ac24bd-9adb-4713-8172-31f0895b6aa3"
      },
      "source": [
        "train.head()"
      ],
      "execution_count": null,
      "outputs": [
        {
          "output_type": "execute_result",
          "data": {
            "text/html": [
              "<div>\n",
              "<style scoped>\n",
              "    .dataframe tbody tr th:only-of-type {\n",
              "        vertical-align: middle;\n",
              "    }\n",
              "\n",
              "    .dataframe tbody tr th {\n",
              "        vertical-align: top;\n",
              "    }\n",
              "\n",
              "    .dataframe thead th {\n",
              "        text-align: right;\n",
              "    }\n",
              "</style>\n",
              "<table border=\"1\" class=\"dataframe\">\n",
              "  <thead>\n",
              "    <tr style=\"text-align: right;\">\n",
              "      <th></th>\n",
              "      <th>text_tokens</th>\n",
              "      <th>hashtags</th>\n",
              "      <th>present_media</th>\n",
              "      <th>present_links</th>\n",
              "      <th>present_domains</th>\n",
              "      <th>engaged_with_user_follower_count</th>\n",
              "      <th>engaged_with_user_following_count</th>\n",
              "      <th>engaged_with_user_is_verified</th>\n",
              "      <th>engaging_user_follower_count</th>\n",
              "      <th>engaging_user_following_count</th>\n",
              "      <th>engaging_user_is_verified</th>\n",
              "      <th>engagee_follows_engager</th>\n",
              "      <th>reply</th>\n",
              "      <th>photos</th>\n",
              "      <th>gifs</th>\n",
              "      <th>videos</th>\n",
              "      <th>tweet_type_Quote</th>\n",
              "      <th>tweet_type_Retweet</th>\n",
              "      <th>tweet_type_TopLevel</th>\n",
              "    </tr>\n",
              "  </thead>\n",
              "  <tbody>\n",
              "    <tr>\n",
              "      <th>0</th>\n",
              "      <td>0.143959</td>\n",
              "      <td>-0.35482</td>\n",
              "      <td>-0.621357</td>\n",
              "      <td>-0.338503</td>\n",
              "      <td>-0.338503</td>\n",
              "      <td>-0.168332</td>\n",
              "      <td>-0.089882</td>\n",
              "      <td>-0.473339</td>\n",
              "      <td>-0.065824</td>\n",
              "      <td>-0.219323</td>\n",
              "      <td>-0.040872</td>\n",
              "      <td>-0.865018</td>\n",
              "      <td>0</td>\n",
              "      <td>-0.528032</td>\n",
              "      <td>-0.11321</td>\n",
              "      <td>-0.274214</td>\n",
              "      <td>-0.297838</td>\n",
              "      <td>1.431504</td>\n",
              "      <td>-1.200998</td>\n",
              "    </tr>\n",
              "    <tr>\n",
              "      <th>2</th>\n",
              "      <td>-0.231435</td>\n",
              "      <td>-0.35482</td>\n",
              "      <td>-0.621357</td>\n",
              "      <td>2.578761</td>\n",
              "      <td>2.578761</td>\n",
              "      <td>-0.119589</td>\n",
              "      <td>0.001932</td>\n",
              "      <td>2.112652</td>\n",
              "      <td>-0.017991</td>\n",
              "      <td>0.458418</td>\n",
              "      <td>-0.040872</td>\n",
              "      <td>-0.865018</td>\n",
              "      <td>0</td>\n",
              "      <td>-0.528032</td>\n",
              "      <td>-0.11321</td>\n",
              "      <td>-0.274214</td>\n",
              "      <td>-0.297838</td>\n",
              "      <td>-0.698566</td>\n",
              "      <td>0.832641</td>\n",
              "    </tr>\n",
              "    <tr>\n",
              "      <th>3</th>\n",
              "      <td>-0.197309</td>\n",
              "      <td>-0.35482</td>\n",
              "      <td>-0.621357</td>\n",
              "      <td>-0.338503</td>\n",
              "      <td>-0.338503</td>\n",
              "      <td>0.366977</td>\n",
              "      <td>0.300363</td>\n",
              "      <td>2.112652</td>\n",
              "      <td>-0.070607</td>\n",
              "      <td>-0.302398</td>\n",
              "      <td>-0.040872</td>\n",
              "      <td>-0.865018</td>\n",
              "      <td>0</td>\n",
              "      <td>-0.528032</td>\n",
              "      <td>-0.11321</td>\n",
              "      <td>-0.274214</td>\n",
              "      <td>-0.297838</td>\n",
              "      <td>1.431504</td>\n",
              "      <td>-1.200998</td>\n",
              "    </tr>\n",
              "    <tr>\n",
              "      <th>4</th>\n",
              "      <td>0.689987</td>\n",
              "      <td>-0.35482</td>\n",
              "      <td>0.499741</td>\n",
              "      <td>-0.338503</td>\n",
              "      <td>-0.338503</td>\n",
              "      <td>-0.168794</td>\n",
              "      <td>-0.088120</td>\n",
              "      <td>-0.473339</td>\n",
              "      <td>-0.069463</td>\n",
              "      <td>-0.195417</td>\n",
              "      <td>-0.040872</td>\n",
              "      <td>1.156045</td>\n",
              "      <td>0</td>\n",
              "      <td>0.591604</td>\n",
              "      <td>-0.11321</td>\n",
              "      <td>-0.274214</td>\n",
              "      <td>-0.297838</td>\n",
              "      <td>-0.698566</td>\n",
              "      <td>0.832641</td>\n",
              "    </tr>\n",
              "    <tr>\n",
              "      <th>5</th>\n",
              "      <td>-1.459999</td>\n",
              "      <td>-0.35482</td>\n",
              "      <td>-0.621357</td>\n",
              "      <td>-0.338503</td>\n",
              "      <td>-0.338503</td>\n",
              "      <td>-0.168736</td>\n",
              "      <td>-0.092949</td>\n",
              "      <td>-0.473339</td>\n",
              "      <td>0.158056</td>\n",
              "      <td>0.173336</td>\n",
              "      <td>-0.040872</td>\n",
              "      <td>1.156045</td>\n",
              "      <td>0</td>\n",
              "      <td>-0.528032</td>\n",
              "      <td>-0.11321</td>\n",
              "      <td>-0.274214</td>\n",
              "      <td>3.357529</td>\n",
              "      <td>-0.698566</td>\n",
              "      <td>-1.200998</td>\n",
              "    </tr>\n",
              "  </tbody>\n",
              "</table>\n",
              "</div>"
            ],
            "text/plain": [
              "   text_tokens  hashtags  ...  tweet_type_Retweet  tweet_type_TopLevel\n",
              "0     0.143959  -0.35482  ...            1.431504            -1.200998\n",
              "2    -0.231435  -0.35482  ...           -0.698566             0.832641\n",
              "3    -0.197309  -0.35482  ...            1.431504            -1.200998\n",
              "4     0.689987  -0.35482  ...           -0.698566             0.832641\n",
              "5    -1.459999  -0.35482  ...           -0.698566            -1.200998\n",
              "\n",
              "[5 rows x 19 columns]"
            ]
          },
          "metadata": {
            "tags": []
          },
          "execution_count": 143
        }
      ]
    },
    {
      "cell_type": "code",
      "metadata": {
        "id": "kw_ZCqdMbIeF"
      },
      "source": [
        "target=train[targetCol]\n",
        "target=target.astype(\"float32\")\n",
        "target=target.values\n",
        "targetTest=test[targetCol]\n",
        "targetTest=targetTest.astype(\"float32\")\n",
        "targetTest=targetTest.values"
      ],
      "execution_count": null,
      "outputs": []
    },
    {
      "cell_type": "code",
      "metadata": {
        "id": "d059W7Kkb2X-"
      },
      "source": [
        "train.drop(targetCol,axis=1,inplace=True)\n",
        "test.drop(targetCol,axis=1,inplace=True)"
      ],
      "execution_count": null,
      "outputs": []
    },
    {
      "cell_type": "code",
      "metadata": {
        "id": "YXMFL-LUcKlM"
      },
      "source": [
        "features=len(train.columns)"
      ],
      "execution_count": null,
      "outputs": []
    },
    {
      "cell_type": "code",
      "metadata": {
        "id": "h19E4xyCbPPb"
      },
      "source": [
        "input=train.values\n",
        "inputTest=test.values"
      ],
      "execution_count": null,
      "outputs": []
    },
    {
      "cell_type": "code",
      "metadata": {
        "id": "ye1Mo7R2b-I3"
      },
      "source": [
        "del train\n",
        "del test\n"
      ],
      "execution_count": null,
      "outputs": []
    },
    {
      "cell_type": "markdown",
      "metadata": {
        "id": "reT6QjuAcAzx"
      },
      "source": [
        "#Model"
      ]
    },
    {
      "cell_type": "code",
      "metadata": {
        "id": "GJoPbSx6cB6f"
      },
      "source": [
        "from PIL import Image\n",
        "import tensorflow as tf\n",
        "from tensorflow.keras.preprocessing.text import Tokenizer\n",
        "from tensorflow.keras.preprocessing.sequence import pad_sequences\n",
        "from math import ceil\n",
        "from tqdm import tqdm\n",
        "from keras.models import Sequential\n",
        "from keras.layers.core import Dense,Activation,Dropout\n",
        "from keras.optimizers import RMSprop\n",
        "from tensorflow.keras import regularizers"
      ],
      "execution_count": null,
      "outputs": []
    },
    {
      "cell_type": "code",
      "metadata": {
        "id": "mfnjYyXhcGkd"
      },
      "source": [
        "import tensorflow.keras.backend as K\n",
        "def create_weighted_binary_crossentropy(zero_weight, one_weight):\n",
        "    def weighted_binary_crossentropy(y_true, y_pred):\n",
        "        b_ce = K.binary_crossentropy(y_true, y_pred)\n",
        "        weight_vector = y_true * one_weight + (1. - y_true) * zero_weight\n",
        "        weighted_b_ce = weight_vector * b_ce\n",
        "        return K.mean(weighted_b_ce)\n",
        "    return weighted_binary_crossentropy"
      ],
      "execution_count": null,
      "outputs": []
    },
    {
      "cell_type": "code",
      "metadata": {
        "id": "J9deAVT54Zw5"
      },
      "source": [
        "unique, counts = np.unique(target, return_counts=True)\n",
        "if unique[0]==0:\n",
        "    bias=counts[1]/counts[0]\n",
        "else:\n",
        "    bias=counts[0]/counts[1]\n",
        "bias=np.log(bias)"
      ],
      "execution_count": null,
      "outputs": []
    },
    {
      "cell_type": "code",
      "metadata": {
        "id": "Scm-idOzcI-P"
      },
      "source": [
        "def buildModel(targetCol,bias=None):\n",
        "    if bias is not None:\n",
        "        bias = tf.keras.initializers.Constant(bias)\n",
        "    if targetCol==\"like\":\n",
        "        model = Sequential()\n",
        "        size=64\n",
        "        reduction_factor=2\n",
        "        shape=(features,)\n",
        "        depth=2\n",
        "        dropout=0.4\n",
        "        BS=16\n",
        "        kernel_resularizer_norm=1e-5\n",
        "        for i in range(depth):\n",
        "                    model.add(Dense(size,  input_shape=shape,kernel_regularizer=regularizers.l2(kernel_resularizer_norm)))\n",
        "                    model.add(Activation(\"relu\"))\n",
        "                    model.add(Dropout(dropout))\n",
        "                    size=size//reduction_factor\n",
        "        model.add(Dense(1,kernel_regularizer=regularizers.l2(1e-4),bias_initializer=bias))\n",
        "        model.add(Activation(\"sigmoid\"))\n",
        "        loss=create_weighted_binary_crossentropy(1,1)\n",
        "        model.compile(loss=loss, metrics=[tf.keras.metrics.AUC(curve=\"PR\",name=\"PRAUC\"),\"accuracy\"],optimizer=tf.keras.optimizers.Adam(learning_rate=0.0002))\n",
        "    if targetCol==\"retweet\":\n",
        "        model = Sequential()\n",
        "        model.add(tf.keras.layers.BatchNormalization())\n",
        "        size=32\n",
        "        reduction_factor=2\n",
        "        shape=(features,)\n",
        "        depth=2\n",
        "        dropout=0.6\n",
        "        BS=32\n",
        "        kernel_resularizer_norm=3e-5\n",
        "        for i in range(depth):\n",
        "                    model.add(Dense(size,  input_shape=shape,kernel_regularizer=regularizers.l2(kernel_resularizer_norm)))\n",
        "                    model.add(Activation(\"relu\"))\n",
        "                    model.add(Dropout(dropout))\n",
        "                    size=size//reduction_factor\n",
        "        model.add(tf.keras.layers.BatchNormalization())\n",
        "        model.add(Dense(1,kernel_regularizer=regularizers.l2(3e-4),bias_initializer=bias))\n",
        "        model.add(Activation(\"sigmoid\"))\n",
        "        loss=create_weighted_binary_crossentropy(1,1)\n",
        "        model.compile(loss=loss, metrics=[tf.keras.metrics.AUC(curve=\"PR\",name=\"PRAUC\"),\"accuracy\"],optimizer=tf.keras.optimizers.Adam(learning_rate=0.02))\n",
        "    if targetCol==\"reply\":\n",
        "        model = Sequential()\n",
        "        size=64\n",
        "        reduction_factor=2\n",
        "        shape=(features,)\n",
        "        depth=2\n",
        "        dropout=0.6\n",
        "        BS=32\n",
        "        kernel_resularizer_norm=1e-5\n",
        "        for i in range(depth):\n",
        "                    model.add(Dense(size,  input_shape=shape,kernel_regularizer=regularizers.l2(kernel_resularizer_norm)))\n",
        "                    model.add(Activation(\"relu\"))\n",
        "                    model.add(Dropout(dropout))\n",
        "                    size=size//reduction_factor\n",
        "        model.add(Dense(1,kernel_regularizer=regularizers.l2(1e-4),bias_initializer=bias))\n",
        "        model.add(Activation(\"sigmoid\"))\n",
        "        loss=create_weighted_binary_crossentropy(1,2)\n",
        "        model.compile(loss=loss, metrics=[tf.keras.metrics.AUC(curve=\"PR\",name=\"PRAUC\"),\"accuracy\"],optimizer=tf.keras.optimizers.Adam(learning_rate=0.0002))\n",
        "    \n",
        "    return model,BS"
      ],
      "execution_count": null,
      "outputs": []
    },
    {
      "cell_type": "code",
      "metadata": {
        "id": "reIl0MDt5JDO"
      },
      "source": [
        "model,BS=buildModel(targetCol,bias=bias)"
      ],
      "execution_count": null,
      "outputs": []
    },
    {
      "cell_type": "code",
      "metadata": {
        "colab": {
          "base_uri": "https://localhost:8080/"
        },
        "id": "b5AB5dodtUxz",
        "outputId": "1af8deb1-0d85-41ae-c572-d425b40ddf34"
      },
      "source": [
        "gc.collect()\n",
        "model.fit(input,target,epochs=5,batch_size=BS)#, validation_split=0.2)"
      ],
      "execution_count": null,
      "outputs": [
        {
          "output_type": "stream",
          "text": [
            "Epoch 1/5\n",
            "75834/75834 [==============================] - 132s 2ms/step - loss: 0.2165 - PRAUC: 0.0608 - accuracy: 0.9698\n",
            "Epoch 2/5\n",
            "75834/75834 [==============================] - 133s 2ms/step - loss: 0.2063 - PRAUC: 0.0719 - accuracy: 0.9704\n",
            "Epoch 3/5\n",
            "75834/75834 [==============================] - 137s 2ms/step - loss: 0.2067 - PRAUC: 0.0730 - accuracy: 0.9703\n",
            "Epoch 4/5\n",
            "75834/75834 [==============================] - 150s 2ms/step - loss: 0.2063 - PRAUC: 0.0728 - accuracy: 0.9703\n",
            "Epoch 5/5\n",
            "30844/75834 [===========>..................] - ETA: 1:20 - loss: 0.2089 - PRAUC: 0.0736 - accuracy: 0.9698"
          ],
          "name": "stdout"
        }
      ]
    },
    {
      "cell_type": "code",
      "metadata": {
        "id": "kg_ER51KcbE1"
      },
      "source": [
        "gc.collect()"
      ],
      "execution_count": null,
      "outputs": []
    },
    {
      "cell_type": "code",
      "metadata": {
        "id": "IfKVXV3OclRf"
      },
      "source": [
        "prediction=model.predict(inputTest)"
      ],
      "execution_count": null,
      "outputs": []
    },
    {
      "cell_type": "code",
      "metadata": {
        "id": "80ExUHXdm9jS"
      },
      "source": [
        "prediction"
      ],
      "execution_count": null,
      "outputs": []
    },
    {
      "cell_type": "markdown",
      "metadata": {
        "id": "BO-evKGenBkg"
      },
      "source": [
        "array([[0.26284036],\n",
        "       [0.31509995],\n",
        "       [0.5292958 ],\n",
        "       ...,\n",
        "       [0.4651538 ],\n",
        "       [0.5049377 ],\n",
        "       [0.24150816]], dtype=float32)"
      ]
    },
    {
      "cell_type": "code",
      "metadata": {
        "id": "a9xBYtgyczjg"
      },
      "source": [
        "from sklearn.metrics import average_precision_score, log_loss\n",
        "\n",
        "def calculate_ctr(gt):\n",
        "  positive = len([x for x in gt if x == 1])\n",
        "  ctr = positive/float(len(gt))\n",
        "  return ctr\n",
        "\n",
        "def compute_rce(pred, gt):\n",
        "    cross_entropy = log_loss(gt, pred-1e-7)\n",
        "    data_ctr = calculate_ctr(gt)\n",
        "    strawman_cross_entropy = log_loss(gt, [data_ctr for _ in range(len(gt))])\n",
        "    return (1.0 - cross_entropy/(strawman_cross_entropy+1e-7))*100.0\n",
        "\n",
        "rce = compute_rce(prediction,targetTest)\n",
        "average_precision = average_precision_score(targetTest,prediction)"
      ],
      "execution_count": null,
      "outputs": []
    },
    {
      "cell_type": "code",
      "metadata": {
        "id": "nt2KiQ7xiMUH"
      },
      "source": [
        "average_precision"
      ],
      "execution_count": null,
      "outputs": []
    },
    {
      "cell_type": "code",
      "metadata": {
        "id": "tr09frexiK9G"
      },
      "source": [
        "rce"
      ],
      "execution_count": null,
      "outputs": []
    },
    {
      "cell_type": "code",
      "metadata": {
        "id": "Sew1b-I_xV60"
      },
      "source": [
        "model.save(f\"baseNet-{targetCol}.h5\")"
      ],
      "execution_count": null,
      "outputs": []
    },
    {
      "cell_type": "code",
      "metadata": {
        "id": "UCKh5xewhEgO"
      },
      "source": [
        "from keras.utils.vis_utils import plot_model\n",
        "plot_model(model, to_file='model_plot.png', show_shapes=True, show_layer_names=True)"
      ],
      "execution_count": null,
      "outputs": []
    },
    {
      "cell_type": "markdown",
      "metadata": {
        "id": "lfhi57xq-vaJ"
      },
      "source": [
        "#Only Bert "
      ]
    },
    {
      "cell_type": "markdown",
      "metadata": {
        "id": "jGQ5_xwJ-yx0"
      },
      "source": [
        "##Get Bert Input "
      ]
    },
    {
      "cell_type": "code",
      "metadata": {
        "id": "EiO9hk2z-yx2"
      },
      "source": [
        "import pandas as pd"
      ],
      "execution_count": null,
      "outputs": []
    },
    {
      "cell_type": "code",
      "metadata": {
        "id": "8V8yx18C-yx3"
      },
      "source": [
        "trainDataset=\"drive/MyDrive/twitter/onechunk/part-00000.lzo\""
      ],
      "execution_count": null,
      "outputs": []
    },
    {
      "cell_type": "code",
      "metadata": {
        "id": "jCUjjJ91DxBr"
      },
      "source": [
        "%%capture\n",
        "!apt-get install lzop"
      ],
      "execution_count": null,
      "outputs": []
    },
    {
      "cell_type": "code",
      "metadata": {
        "id": "O5NXMuD7DyGN"
      },
      "source": [
        "!cp \"drive/MyDrive/twitter/onechunk/part-00000.lzo\" file.lzo"
      ],
      "execution_count": null,
      "outputs": []
    },
    {
      "cell_type": "code",
      "metadata": {
        "id": "uCfZ-t-pD1eh"
      },
      "source": [
        "!lzop -x file.lzo\n",
        "!mv file Dataset.csv"
      ],
      "execution_count": null,
      "outputs": []
    },
    {
      "cell_type": "code",
      "metadata": {
        "id": "xdVoQ6Ac-yx9"
      },
      "source": [
        "train= pd.read_csv(\"Dataset.csv\",sep='\\x01',header=None)\n"
      ],
      "execution_count": null,
      "outputs": []
    },
    {
      "cell_type": "code",
      "metadata": {
        "id": "sQ2GbMIcEh6P"
      },
      "source": [
        "train.columns=all_features"
      ],
      "execution_count": null,
      "outputs": []
    },
    {
      "cell_type": "code",
      "metadata": {
        "id": "8MJ_yyFJJhNh"
      },
      "source": [
        "train[\"like\"]=train[\"like_timestamp\"].apply(lambda row: 1 if row>0 else 0).astype(\"uint8\")\n",
        "train.drop(\"like_timestamp\",axis=1,inplace=True)\n",
        "\n",
        "train[\"retweet\"]=train[\"retweet_timestamp\"].apply(lambda row: 1 if row>0 else 0).astype(\"uint8\")\n",
        "train.drop(\"retweet_timestamp\",axis=1,inplace=True)\n",
        "\n",
        "train[\"retweetCom\"]=train[\"retweet_with_comment_timestamp\"].apply(lambda row: 1 if row>0 else 0).astype(\"uint8\")\n",
        "train.drop(\"retweet_with_comment_timestamp\",axis=1,inplace=True)\n",
        "\n",
        "train[\"reply\"]=train[\"reply_timestamp\"].apply(lambda row: 1 if row>0 else 0).astype(\"uint8\")\n",
        "train.drop(\"reply_timestamp\",axis=1,inplace=True)\n"
      ],
      "execution_count": null,
      "outputs": []
    },
    {
      "cell_type": "code",
      "metadata": {
        "id": "FElmx_Y5KvRp"
      },
      "source": [
        "import gc\n",
        "gc.collect()\n",
        "train[\"interaction\"]=train[\"reply\"]+train[\"like\"]+train[\"retweet\"]+train[\"retweetCom\"]\n",
        "train[\"interaction\"]=train[\"interaction\"].astype(\"uint8\")"
      ],
      "execution_count": null,
      "outputs": []
    },
    {
      "cell_type": "code",
      "metadata": {
        "id": "ZAO1M0kzEVK9"
      },
      "source": [
        "for col in train.columns:\n",
        "    if col not in [targetCol,\"text_tokens\"]:\n",
        "        train.drop(col,axis=1,inplace=True)"
      ],
      "execution_count": null,
      "outputs": []
    },
    {
      "cell_type": "code",
      "metadata": {
        "colab": {
          "base_uri": "https://localhost:8080/"
        },
        "id": "fx3SfX1n-yx-",
        "outputId": "c4d356da-43c0-4612-9473-fe31bc70a230"
      },
      "source": [
        "\n",
        "\n",
        "def cleanAndAdapt(row):\n",
        "    row=row.split(\"\\t\")\n",
        "    if len(row)>511:\n",
        "        row=row[:511]\n",
        "    #else:\n",
        "    #    row=row+([0]*(511-len(row)))\n",
        "    return [int(i) for i in row]\n",
        "\n",
        "def attentionMask(row):\n",
        "    return [ 1 if i!=0 else 0 for i in row]\n",
        "\n",
        "train[\"text_tokens\"]=train[\"text_tokens\"].apply(cleanAndAdapt)\n",
        "train[\"attentionMask\"]=train[\"text_tokens\"].apply(attentionMask)\n",
        "\n",
        "gc.collect()"
      ],
      "execution_count": null,
      "outputs": [
        {
          "output_type": "execute_result",
          "data": {
            "text/plain": [
              "0"
            ]
          },
          "metadata": {
            "tags": []
          },
          "execution_count": 12
        }
      ]
    },
    {
      "cell_type": "code",
      "metadata": {
        "colab": {
          "base_uri": "https://localhost:8080/",
          "height": 191
        },
        "id": "EnzqOlNa-yyA",
        "outputId": "6687825a-6c48-4f3a-d17c-01a00d757f2c"
      },
      "source": [
        "train.head()"
      ],
      "execution_count": null,
      "outputs": [
        {
          "output_type": "execute_result",
          "data": {
            "text/html": [
              "<div>\n",
              "<style scoped>\n",
              "    .dataframe tbody tr th:only-of-type {\n",
              "        vertical-align: middle;\n",
              "    }\n",
              "\n",
              "    .dataframe tbody tr th {\n",
              "        vertical-align: top;\n",
              "    }\n",
              "\n",
              "    .dataframe thead th {\n",
              "        text-align: right;\n",
              "    }\n",
              "</style>\n",
              "<table border=\"1\" class=\"dataframe\">\n",
              "  <thead>\n",
              "    <tr style=\"text-align: right;\">\n",
              "      <th></th>\n",
              "      <th>text_tokens</th>\n",
              "      <th>retweet</th>\n",
              "      <th>attentionMask</th>\n",
              "    </tr>\n",
              "  </thead>\n",
              "  <tbody>\n",
              "    <tr>\n",
              "      <th>0</th>\n",
              "      <td>[101, 56898, 137, 16925, 10731, 11481, 13980, ...</td>\n",
              "      <td>0</td>\n",
              "      <td>[1, 1, 1, 1, 1, 1, 1, 1, 1, 1, 1, 1, 1, 1, 1, ...</td>\n",
              "    </tr>\n",
              "    <tr>\n",
              "      <th>1</th>\n",
              "      <td>[101, 10159, 11322, 58550, 10836, 10126, 25900...</td>\n",
              "      <td>0</td>\n",
              "      <td>[1, 1, 1, 1, 1, 1, 1, 1, 1, 1, 1, 1, 1, 1, 1, ...</td>\n",
              "    </tr>\n",
              "    <tr>\n",
              "      <th>2</th>\n",
              "      <td>[101, 10159, 56314, 14364, 10109, 14657, 11359...</td>\n",
              "      <td>0</td>\n",
              "      <td>[1, 1, 1, 1, 1, 1, 1, 1, 1, 1, 1, 1, 1, 1, 1, ...</td>\n",
              "    </tr>\n",
              "    <tr>\n",
              "      <th>3</th>\n",
              "      <td>[101, 56898, 137, 10224, 10731, 64194, 41939, ...</td>\n",
              "      <td>0</td>\n",
              "      <td>[1, 1, 1, 1, 1, 1, 1, 1, 1, 1, 1, 1, 1, 1, 1, ...</td>\n",
              "    </tr>\n",
              "    <tr>\n",
              "      <th>4</th>\n",
              "      <td>[101, 7143, 1938, 113, 100, 10097, 100, 10097,...</td>\n",
              "      <td>0</td>\n",
              "      <td>[1, 1, 1, 1, 1, 1, 1, 1, 1, 1, 1, 1, 1, 1, 1, ...</td>\n",
              "    </tr>\n",
              "  </tbody>\n",
              "</table>\n",
              "</div>"
            ],
            "text/plain": [
              "                                         text_tokens  ...                                      attentionMask\n",
              "0  [101, 56898, 137, 16925, 10731, 11481, 13980, ...  ...  [1, 1, 1, 1, 1, 1, 1, 1, 1, 1, 1, 1, 1, 1, 1, ...\n",
              "1  [101, 10159, 11322, 58550, 10836, 10126, 25900...  ...  [1, 1, 1, 1, 1, 1, 1, 1, 1, 1, 1, 1, 1, 1, 1, ...\n",
              "2  [101, 10159, 56314, 14364, 10109, 14657, 11359...  ...  [1, 1, 1, 1, 1, 1, 1, 1, 1, 1, 1, 1, 1, 1, 1, ...\n",
              "3  [101, 56898, 137, 10224, 10731, 64194, 41939, ...  ...  [1, 1, 1, 1, 1, 1, 1, 1, 1, 1, 1, 1, 1, 1, 1, ...\n",
              "4  [101, 7143, 1938, 113, 100, 10097, 100, 10097,...  ...  [1, 1, 1, 1, 1, 1, 1, 1, 1, 1, 1, 1, 1, 1, 1, ...\n",
              "\n",
              "[5 rows x 3 columns]"
            ]
          },
          "metadata": {
            "tags": []
          },
          "execution_count": 13
        }
      ]
    },
    {
      "cell_type": "code",
      "metadata": {
        "id": "JR6WMYlbD-rF"
      },
      "source": [
        "msk = np.random.rand(len(train)) < 0.8\n",
        "test=train[~msk]\n",
        "train=train[msk]"
      ],
      "execution_count": null,
      "outputs": []
    },
    {
      "cell_type": "code",
      "metadata": {
        "id": "kyalywLj-yyH"
      },
      "source": [
        "target=train[targetCol]\n",
        "target=target.astype(\"float32\")\n",
        "target=target.values\n",
        "targetTest=test[targetCol]\n",
        "targetTest=targetTest.astype(\"float32\")\n",
        "targetTest=targetTest.values"
      ],
      "execution_count": null,
      "outputs": []
    },
    {
      "cell_type": "code",
      "metadata": {
        "id": "-X-8WrR3-yyJ"
      },
      "source": [
        "train.drop(targetCol,axis=1,inplace=True)\n",
        "test.drop(targetCol,axis=1,inplace=True)"
      ],
      "execution_count": null,
      "outputs": []
    },
    {
      "cell_type": "code",
      "metadata": {
        "id": "dp5czCMZ-yyL"
      },
      "source": [
        "input=train.values\n",
        "inputTest=test.values"
      ],
      "execution_count": null,
      "outputs": []
    },
    {
      "cell_type": "code",
      "metadata": {
        "id": "9VHEj8uG-yyM"
      },
      "source": [
        "del train\n",
        "del test"
      ],
      "execution_count": null,
      "outputs": []
    },
    {
      "cell_type": "markdown",
      "metadata": {
        "id": "Emi45wFIBbsG"
      },
      "source": [
        "##Bert Model"
      ]
    },
    {
      "cell_type": "code",
      "metadata": {
        "id": "3K0F7xjjBeBB"
      },
      "source": [
        "%%capture\n",
        "!pip install bert-for-tf2\n",
        "!pip install sentencepiece\n",
        "!pip install -q tensorflow-text\n",
        "!pip install transformers"
      ],
      "execution_count": null,
      "outputs": []
    },
    {
      "cell_type": "code",
      "metadata": {
        "id": "Fobi5zg_BdDv"
      },
      "source": [
        "from PIL import Image\n",
        "import tensorflow as tf\n",
        "from tensorflow.keras.preprocessing.text import Tokenizer\n",
        "from tensorflow.keras.preprocessing.sequence import pad_sequences\n",
        "from math import ceil\n",
        "from tqdm import tqdm\n",
        "from keras.models import Sequential\n",
        "from keras.layers.core import Dense,Activation,Dropout\n",
        "from keras.optimizers import RMSprop\n",
        "from tensorflow.keras import regularizers\n",
        "from tensorflow import keras\n",
        "\n",
        "from tensorflow.keras import layers\n",
        "from transformers import BertTokenizer, TFBertModel, BertConfig,TFBertForSequenceClassification,TFDistilBertModel,DistilBertConfig"
      ],
      "execution_count": null,
      "outputs": []
    },
    {
      "cell_type": "code",
      "metadata": {
        "id": "UfQXccAsCaHK"
      },
      "source": [
        "EMB_SIZE=32\n",
        "NUM_TOKENS=511"
      ],
      "execution_count": null,
      "outputs": []
    },
    {
      "cell_type": "code",
      "metadata": {
        "id": "EHCEafbrMBaM"
      },
      "source": [
        "config = DistilBertConfig.from_pretrained(\"distilbert-base-multilingual-cased\", output_hidden_states=False)"
      ],
      "execution_count": null,
      "outputs": []
    },
    {
      "cell_type": "code",
      "metadata": {
        "colab": {
          "base_uri": "https://localhost:8080/"
        },
        "id": "c_qXYLvzCJHO",
        "outputId": "e74e96c8-fb03-40b0-81f5-45f879a115af"
      },
      "source": [
        "encoder = TFDistilBertModel.from_pretrained('distilbert-base-multilingual-cased',config=config)"
      ],
      "execution_count": null,
      "outputs": [
        {
          "output_type": "stream",
          "text": [
            "Some layers from the model checkpoint at distilbert-base-multilingual-cased were not used when initializing TFDistilBertModel: ['vocab_layer_norm', 'activation_13', 'vocab_projector', 'vocab_transform']\n",
            "- This IS expected if you are initializing TFDistilBertModel from the checkpoint of a model trained on another task or with another architecture (e.g. initializing a BertForSequenceClassification model from a BertForPreTraining model).\n",
            "- This IS NOT expected if you are initializing TFDistilBertModel from the checkpoint of a model that you expect to be exactly identical (initializing a BertForSequenceClassification model from a BertForSequenceClassification model).\n",
            "All the layers of TFDistilBertModel were initialized from the model checkpoint at distilbert-base-multilingual-cased.\n",
            "If your task is similar to the task the model of the checkpoint was trained on, you can already use TFDistilBertModel for predictions without further training.\n"
          ],
          "name": "stderr"
        }
      ]
    },
    {
      "cell_type": "code",
      "metadata": {
        "id": "j_BHCdnXCK_M"
      },
      "source": [
        "encoder.trainable=False"
      ],
      "execution_count": null,
      "outputs": []
    },
    {
      "cell_type": "code",
      "metadata": {
        "colab": {
          "base_uri": "https://localhost:8080/"
        },
        "id": "XL19_b2iCUE_",
        "outputId": "cbe115fd-a0f8-4c36-d2e6-f10b9ac4753e"
      },
      "source": [
        "input_ids = layers.Input(shape=(NUM_TOKENS,), dtype=tf.int32,name=\"tokens\")\n",
        "attention_mask = layers.Input(shape=(NUM_TOKENS,), dtype=tf.int32,name=\"mask\")\n",
        "#embedding = encoder(       {\"input_ids\":input_ids,\"attention_mask\":attention_mask})[1]\n",
        "embedding = encoder(       {\"input_ids\":input_ids,\"attention_mask\":attention_mask})[0]\n",
        "#encoder({\"input_ids\":input_ids,\"attention_mask\":attention_mask})\n",
        "\n",
        "#embeddingFixed=layers.Flatten()(embedding)\n",
        "embeddingFixed=layers.GlobalAveragePooling1D()(embedding)"
      ],
      "execution_count": null,
      "outputs": [
        {
          "output_type": "stream",
          "text": [
            "WARNING:tensorflow:The parameters `output_attentions`, `output_hidden_states` and `use_cache` cannot be updated when calling a model.They have to be set to True/False in the config object (i.e.: `config=XConfig.from_pretrained('name', output_attentions=True)`).\n",
            "WARNING:tensorflow:AutoGraph could not transform <bound method Socket.send of <zmq.sugar.socket.Socket object at 0x7f51d07ecde0>> and will run it as-is.\n",
            "Please report this to the TensorFlow team. When filing the bug, set the verbosity to 10 (on Linux, `export AUTOGRAPH_VERBOSITY=10`) and attach the full output.\n",
            "Cause: module, class, method, function, traceback, frame, or code object was expected, got cython_function_or_method\n",
            "To silence this warning, decorate the function with @tf.autograph.experimental.do_not_convert\n",
            "WARNING: AutoGraph could not transform <bound method Socket.send of <zmq.sugar.socket.Socket object at 0x7f51d07ecde0>> and will run it as-is.\n",
            "Please report this to the TensorFlow team. When filing the bug, set the verbosity to 10 (on Linux, `export AUTOGRAPH_VERBOSITY=10`) and attach the full output.\n",
            "Cause: module, class, method, function, traceback, frame, or code object was expected, got cython_function_or_method\n",
            "To silence this warning, decorate the function with @tf.autograph.experimental.do_not_convert\n",
            "WARNING:tensorflow:AutoGraph could not transform <function wrap at 0x7f51ec093d40> and will run it as-is.\n",
            "Cause: while/else statement not yet supported\n",
            "To silence this warning, decorate the function with @tf.autograph.experimental.do_not_convert\n",
            "WARNING: AutoGraph could not transform <function wrap at 0x7f51ec093d40> and will run it as-is.\n",
            "Cause: while/else statement not yet supported\n",
            "To silence this warning, decorate the function with @tf.autograph.experimental.do_not_convert\n",
            "WARNING:tensorflow:The parameter `return_dict` cannot be set in graph mode and will always be set to `True`.\n"
          ],
          "name": "stdout"
        }
      ]
    },
    {
      "cell_type": "code",
      "metadata": {
        "id": "lu9hdeK0CXjS"
      },
      "source": [
        "hidden_1 = layers.Dense(128, name=\"h_1\",activation=\"relu\")(embeddingFixed)\n",
        "drop_1=layers.Dropout(0.5)(hidden_1)\n",
        "emb=layers.Dense(EMB_SIZE, name=\"emb_text\",activation=\"relu\")(drop_1)\n",
        "drop_2=layers.Dropout(0.5)(emb)\n",
        "\n",
        "out=layers.Dense(1,kernel_regularizer=regularizers.l2(1e-4),activation=\"sigmoid\")(drop_2)"
      ],
      "execution_count": null,
      "outputs": []
    },
    {
      "cell_type": "code",
      "metadata": {
        "id": "TsEJjzhDCzLy"
      },
      "source": [
        "model=keras.Model(inputs=[input_ids,attention_mask], outputs=out, name=\"NN\")"
      ],
      "execution_count": null,
      "outputs": []
    },
    {
      "cell_type": "code",
      "metadata": {
        "colab": {
          "base_uri": "https://localhost:8080/",
          "height": 806
        },
        "id": "mbtQHYooMgfw",
        "outputId": "a16c15e3-eeb4-4e26-ac5d-218001dab606"
      },
      "source": [
        "from keras.utils.vis_utils import plot_model\n",
        "plot_model(model, to_file='model_plot.png', show_shapes=True, show_layer_names=True)"
      ],
      "execution_count": null,
      "outputs": [
        {
          "output_type": "execute_result",
          "data": {
            "image/png": "[encoded data removed]",
            "text/plain": [
              "<IPython.core.display.Image object>"
            ]
          },
          "metadata": {
            "tags": []
          },
          "execution_count": 28
        }
      ]
    },
    {
      "cell_type": "code",
      "metadata": {
        "id": "ekJA0dJtOdOF"
      },
      "source": [
        "loss=tf.keras.losses.BinaryCrossentropy()#   from_logits=True)\n",
        "lr=0.0003\n",
        "optimizer=tf.keras.optimizers.Adam(learning_rate=lr)\n",
        "train_acc_metric=tf.keras.metrics.AUC(curve=\"PR\",name=\"PRAUC\")\n",
        "model.compile(loss=loss,optimizer=optimizer,metrics=[train_acc_metric,\"accuracy\"])"
      ],
      "execution_count": null,
      "outputs": []
    },
    {
      "cell_type": "markdown",
      "metadata": {
        "id": "-CmS8JdWDIep"
      },
      "source": [
        "##Custom Dataset"
      ]
    },
    {
      "cell_type": "code",
      "metadata": {
        "id": "jDYMVvnhDKGv"
      },
      "source": [
        "import numpy as np\n",
        "import keras\n",
        "\n",
        "class DataGenerator(keras.utils.Sequence):\n",
        "    'Generates data for Keras'\n",
        "    def __init__(self,inputs, outputs,num_tokens, batch_size=32):\n",
        "        'Initialization'\n",
        "        self.batch_size = batch_size\n",
        "        self.inputs = inputs\n",
        "        self.outputs = outputs\n",
        "        self.length= len(inputs)\n",
        "        self.num_tokens=num_tokens\n",
        "        self.on_epoch_end()\n",
        "\n",
        "    def __len__(self):\n",
        "        'Denotes the number of batches per epoch'\n",
        "        return int(np.floor(self.length / self.batch_size))\n",
        "\n",
        "    def __getitem__(self, index):\n",
        "        'Generate one batch of data'\n",
        "        # Generate indexes of the batch\n",
        "        indexes = range(index*self.batch_size,(index+1)*self.batch_size)\n",
        "\n",
        "        # Find list of IDs\n",
        "\n",
        "        # Generate data\n",
        "        X, y = self.__data_generation(indexes)\n",
        "\n",
        "        return X, y\n",
        "\n",
        "    def on_epoch_end(self):\n",
        "        'Updates indexes after each epoch'\n",
        "        pass\n",
        "\n",
        "    def __data_generation(self, indexes):\n",
        "        'Generates data containing batch_size samples' # X : (n_samples, *dim, n_channels)\n",
        "        # Initialization\n",
        "        text_batch = np.empty((self.batch_size,self.num_tokens))\n",
        "        mask = np.empty((self.batch_size,self.num_tokens))\n",
        "        \n",
        "        y = np.empty((self.batch_size), dtype=np.float32)\n",
        "\n",
        "        # Generate data\n",
        "        for i in indexes:\n",
        "            row=self.inputs[i]\n",
        "            \n",
        "            text=row[0]\n",
        "            att=row[1]\n",
        "            \n",
        "            length=511-len(text)\n",
        "\n",
        "            text=text+([0]*length)\n",
        "            att=att+([0]*length)\n",
        "\n",
        "            text_batch[i%self.batch_size,] = np.array(text)\n",
        "            mask[i%self.batch_size,]=np.array(att)\n",
        "            \n",
        "\n",
        "            # Store class\n",
        "            y[i%self.batch_size] = self.outputs[i]\n",
        "        \n",
        "        \n",
        "        return (text_batch,mask), y"
      ],
      "execution_count": null,
      "outputs": []
    },
    {
      "cell_type": "markdown",
      "metadata": {
        "id": "6qF1dXR_EG4o"
      },
      "source": [
        "##Fit"
      ]
    },
    {
      "cell_type": "code",
      "metadata": {
        "id": "FnFwX7Sgy4d1",
        "colab": {
          "base_uri": "https://localhost:8080/"
        },
        "outputId": "d77810e4-9d9d-4f65-de5e-0460ecc7d693"
      },
      "source": [
        "gc.collect()"
      ],
      "execution_count": null,
      "outputs": [
        {
          "output_type": "execute_result",
          "data": {
            "text/plain": [
              "0"
            ]
          },
          "metadata": {
            "tags": []
          },
          "execution_count": 31
        }
      ]
    },
    {
      "cell_type": "code",
      "metadata": {
        "id": "Y-ffQw23mkEP"
      },
      "source": [
        "BATCH_SIZE=128"
      ],
      "execution_count": null,
      "outputs": []
    },
    {
      "cell_type": "code",
      "metadata": {
        "id": "sCSwJkQRKJA0"
      },
      "source": [
        "training_generator = DataGenerator(input, target,num_tokens=NUM_TOKENS,batch_size=BATCH_SIZE)\n",
        "test_generator = DataGenerator(inputTest, targetTest,num_tokens=NUM_TOKENS,batch_size=BATCH_SIZE)"
      ],
      "execution_count": null,
      "outputs": []
    },
    {
      "cell_type": "code",
      "metadata": {
        "id": "JIPwd4VVK0G0",
        "colab": {
          "base_uri": "https://localhost:8080/"
        },
        "outputId": "45dd3a87-0507-4b8f-9001-da8c48a6841b"
      },
      "source": [
        "training_generator.__getitem__(1)[0][0][0][0]"
      ],
      "execution_count": null,
      "outputs": [
        {
          "output_type": "execute_result",
          "data": {
            "text/plain": [
              "101.0"
            ]
          },
          "metadata": {
            "tags": []
          },
          "execution_count": 34
        }
      ]
    },
    {
      "cell_type": "code",
      "metadata": {
        "id": "Y5ibkbraKYjF"
      },
      "source": [
        "model.fit(training_generator,epochs=1)"
      ],
      "execution_count": null,
      "outputs": []
    },
    {
      "cell_type": "code",
      "metadata": {
        "id": "Saxr7Jg60OyJ"
      },
      "source": [
        "model.evaluate(test_generator)"
      ],
      "execution_count": null,
      "outputs": []
    },
    {
      "cell_type": "code",
      "metadata": {
        "id": "IJLN_-Nmqg1-"
      },
      "source": [
        "model.fit(training_generator,epochs=1)"
      ],
      "execution_count": null,
      "outputs": []
    },
    {
      "cell_type": "code",
      "metadata": {
        "id": "iZVmDt6iqhrx"
      },
      "source": [
        "model.evaluate(test_generator)"
      ],
      "execution_count": null,
      "outputs": []
    }
  ]
}