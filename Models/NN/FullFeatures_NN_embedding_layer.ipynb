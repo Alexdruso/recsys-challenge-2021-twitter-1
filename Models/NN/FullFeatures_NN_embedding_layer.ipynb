{
  "nbformat": 4,
  "nbformat_minor": 0,
  "metadata": {
    "colab": {
      "name": "FullFeatures NN embedding layer.ipynb",
      "provenance": [],
      "collapsed_sections": [
        "2fxU3pux7YgU",
        "MvxDclrIUvdz",
        "cWMy_29u9ain",
        "HxR-4czrsAR4",
        "prb6h9RVOqPB",
        "pmn9b6XCAW4K",
        "ku__0yJjejFV",
        "O9utweCN__2L",
        "JIOJSPxtACuc",
        "8CGWUQR9oFmm",
        "QW-rFQuf74oY",
        "E9KCrsoTJVKC",
        "FFi1mUp2JXUx",
        "gfaxykbAYTFo",
        "kf8COwxEpcRk",
        "2jAu_IPTsKb0",
        "7prwAdvT98xq"
      ],
      "toc_visible": true
    },
    "kernelspec": {
      "display_name": "Python 3",
      "name": "python3"
    },
    "language_info": {
      "name": "python"
    },
    "accelerator": "GPU"
  },
  "cells": [
    {
      "cell_type": "code",
      "metadata": {
        "id": "eXBM7v5ROpKy"
      },
      "source": [
        "trainDataset=\"drive/MyDrive/twitter/onechunk/part-00000.lzo\""
      ],
      "execution_count": null,
      "outputs": []
    },
    {
      "cell_type": "code",
      "metadata": {
        "id": "QSfoH2A8RZ8o"
      },
      "source": [
        "%%capture\n",
        "!pip install bert-for-tf2\n",
        "!pip install sentencepiece\n",
        "!pip install -q tensorflow-text\n",
        "!pip install silence_tensorflow"
      ],
      "execution_count": null,
      "outputs": []
    },
    {
      "cell_type": "code",
      "metadata": {
        "id": "tWEZ0979UyQ_"
      },
      "source": [
        "%%capture\n",
        "!pip install transformers"
      ],
      "execution_count": null,
      "outputs": []
    },
    {
      "cell_type": "markdown",
      "metadata": {
        "id": "2fxU3pux7YgU"
      },
      "source": [
        "#Move first chunk\n"
      ]
    },
    {
      "cell_type": "code",
      "metadata": {
        "id": "L4aLA17u7z09"
      },
      "source": [
        "%%capture\n",
        "!apt-get install lzop"
      ],
      "execution_count": null,
      "outputs": []
    },
    {
      "cell_type": "code",
      "metadata": {
        "id": "aGa26N3X7cFm"
      },
      "source": [
        "!cp \"drive/MyDrive/twitter/onechunk/part-00000.lzo\" file.lzo"
      ],
      "execution_count": null,
      "outputs": []
    },
    {
      "cell_type": "code",
      "metadata": {
        "id": "pKOlV_MPcffo"
      },
      "source": [
        "!lzop -x file.lzo\n",
        "!mv file Dataset.csv"
      ],
      "execution_count": null,
      "outputs": []
    },
    {
      "cell_type": "markdown",
      "metadata": {
        "id": "MvxDclrIUvdz"
      },
      "source": [
        "#Imports"
      ]
    },
    {
      "cell_type": "code",
      "metadata": {
        "id": "swklTldlUgCf"
      },
      "source": [
        "import silence_tensorflow.auto"
      ],
      "execution_count": null,
      "outputs": []
    },
    {
      "cell_type": "code",
      "metadata": {
        "id": "dRmD08xXQJSO"
      },
      "source": [
        "import tensorflow as tf\n",
        "from tensorflow import keras\n",
        "import tensorflow_hub as hub\n",
        "\n",
        "from tensorflow.keras import layers\n",
        "import bert\n",
        "import numpy as np\n",
        "from transformers import BertTokenizer, TFBertModel, BertConfig,TFBertForSequenceClassification,TFDistilBertModel\n",
        "\n",
        "from keras.layers.core import Dense,Activation,Dropout\n",
        "from tensorflow.keras import regularizers"
      ],
      "execution_count": null,
      "outputs": []
    },
    {
      "cell_type": "code",
      "metadata": {
        "id": "UZ6364iF8Fz1"
      },
      "source": [
        "import gc\n",
        "import numpy as np\n",
        "np.random.seed(1234)\n",
        "gc.collect()\n",
        "all_features = [\"text_tokens\", \"hashtags\", \"tweet_id\", \"present_media\", \"present_links\", \"present_domains\",\\\n",
        "                \"tweet_type\",\"language\", \"tweet_timestamp\", \"engaged_with_user_id\", \"engaged_with_user_follower_count\",\\\n",
        "               \"engaged_with_user_following_count\", \"engaged_with_user_is_verified\", \"engaged_with_user_account_creation\",\\\n",
        "               \"engaging_user_id\", \"engaging_user_follower_count\", \"engaging_user_following_count\", \"engaging_user_is_verified\",\\\n",
        "               \"engaging_user_account_creation\", \"engagee_follows_engager\",\"reply_timestamp\", \"retweet_timestamp\", \"retweet_with_comment_timestamp\", \"like_timestamp\"]\n",
        "all_features_to_idx = dict(zip(all_features, range(len(all_features))))"
      ],
      "execution_count": null,
      "outputs": []
    },
    {
      "cell_type": "markdown",
      "metadata": {
        "id": "cWMy_29u9ain"
      },
      "source": [
        "#Naive Implementation"
      ]
    },
    {
      "cell_type": "markdown",
      "metadata": {
        "id": "HxR-4czrsAR4"
      },
      "source": [
        "##Work"
      ]
    },
    {
      "cell_type": "markdown",
      "metadata": {
        "id": "prb6h9RVOqPB"
      },
      "source": [
        "###DatasetPreparation"
      ]
    },
    {
      "cell_type": "code",
      "metadata": {
        "id": "XyPwICquAUWs"
      },
      "source": [
        "%%capture\n",
        "import os, json, zipfile, shutil, platform, time\n",
        "\n",
        "import scipy.sparse as sps\n",
        "from pandas import DataFrame\n",
        "import pandas as pd\n",
        "import numpy as np\n",
        "\n",
        "import multiprocessing\n",
        "import multiprocessing.pool\n",
        "import time\n",
        "\n",
        "from random import randint\n",
        "import gc"
      ],
      "execution_count": null,
      "outputs": []
    },
    {
      "cell_type": "code",
      "metadata": {
        "id": "2R8dKCdJAdMf"
      },
      "source": [
        "train= pd.read_csv(\"Dataset.csv\",sep='\\x01',header=None)\n",
        "train.columns=all_features"
      ],
      "execution_count": null,
      "outputs": []
    },
    {
      "cell_type": "code",
      "metadata": {
        "id": "nV80fhLfEe2e"
      },
      "source": [
        "train[\"text_len\"]=train[\"text_tokens\"].apply(lambda row: len(row.split(\"\\t\")) if row!=\"\" else 0).astype(\"uint16\")\n"
      ],
      "execution_count": null,
      "outputs": []
    },
    {
      "cell_type": "code",
      "metadata": {
        "colab": {
          "base_uri": "https://localhost:8080/"
        },
        "id": "71TxAJILEfQ0",
        "outputId": "4b12811c-3b55-45d3-b71c-d8bbe31d5995"
      },
      "source": [
        "train=train[train[\"text_len\"]<=511].copy()\n",
        "gc.collect()"
      ],
      "execution_count": null,
      "outputs": [
        {
          "output_type": "execute_result",
          "data": {
            "text/plain": [
              "0"
            ]
          },
          "metadata": {
            "tags": []
          },
          "execution_count": 7
        }
      ]
    },
    {
      "cell_type": "code",
      "metadata": {
        "id": "-ZhnvplkAj38"
      },
      "source": [
        "\n",
        "\n",
        "#tweet features (some must be added later)\n",
        "train[\"retweet\"]=train[\"tweet_type\"].apply(lambda row: 1 if row==\"Retweet\" else 0)\n",
        "train[\"quote\"]=train[\"tweet_type\"].apply(lambda row: 1 if row==\"Quote\" else 0)\n",
        "train[\"top\"]=train[\"tweet_type\"].apply(lambda row: 1 if row==\"Toplevel\" else 0)\n",
        "\n",
        "train.drop(\"tweet_type\",axis=1,inplace=True)\n",
        "\n",
        "\n",
        "train[\"text_len\"]-=np.mean(train[\"text_len\"].values)\n",
        "train[\"text_len\"]/=np.std(train[\"text_len\"].values)\n",
        "\n",
        "train.fillna(value={\"hashtags\":\"\"},inplace=True)\n",
        "train.fillna(value={\"present_links\":\"\"},inplace=True)\n",
        "train.fillna(value={\"present_domains\":\"\"},inplace=True)\n",
        "train.fillna(value={\"present_media\":\"\"},inplace=True)\n",
        "\n",
        "train[\"hashtags\"]=train[\"hashtags\"].apply(lambda row: len(row.split(\"\\t\")) if row!=\"\" else 0).astype(\"uint8\")\n",
        "train[\"present_media\"]=train[\"present_media\"].apply(lambda row: len(row.split(\"\\t\")) if row!=\"\" else 0).astype(\"uint8\")\n",
        "train[\"present_links\"]=train[\"present_links\"].apply(lambda row: len(row.split(\"\\t\")) if row!=\"\" else 0).astype(\"uint8\")\n",
        "train[\"present_domains\"]=train[\"present_domains\"].apply(lambda row: len(row.split(\"\\t\")) if row!=\"\" else 0).astype(\"uint8\")\n",
        "train[\"hashtags\"]-=np.mean(train[\"hashtags\"].values)\n",
        "train[\"hashtags\"]/=np.std(train[\"hashtags\"].values)\n",
        "train[\"present_media\"]-=np.mean(train[\"present_media\"].values)\n",
        "train[\"present_media\"]/=np.std(train[\"present_media\"].values)\n",
        "train[\"present_links\"]-=np.mean(train[\"present_links\"].values)\n",
        "train[\"present_links\"]/=np.std(train[\"present_links\"].values)\n",
        "train[\"present_domains\"]-=np.mean(train[\"present_domains\"].values)\n",
        "train[\"present_domains\"]/=np.std(train[\"present_domains\"].values)\n",
        "\n",
        "#Relation \n",
        "train[\"engagee_follows_engager\"]=train[\"engagee_follows_engager\"].apply(lambda row: 1 if row else 0).astype(\"uint8\")\n",
        "train[\"engaged_with_user_is_verified\"]=train[\"engaged_with_user_is_verified\"].apply(lambda row: 1 if row else 0).astype(\"uint8\")\n",
        "train[\"engaging_user_is_verified\"]=train[\"engaging_user_is_verified\"].apply(lambda row: 1 if row else 0).astype(\"uint8\")"
      ],
      "execution_count": null,
      "outputs": []
    },
    {
      "cell_type": "code",
      "metadata": {
        "id": "3czKUHYqDNTR"
      },
      "source": [
        "train[\"like\"]=train[\"like_timestamp\"].apply(lambda row: 1 if row>0 else 0).astype(\"uint8\")\n",
        "train.drop(\"like_timestamp\",axis=1,inplace=True)"
      ],
      "execution_count": null,
      "outputs": []
    },
    {
      "cell_type": "code",
      "metadata": {
        "id": "kuEu9zmxDW-p"
      },
      "source": [
        "features=[\"text_tokens\",\"retweet\",\"quote\",\"top\", \"hashtags\",\"text_len\", \"present_media\", \"present_links\", \"present_domains\",\\\n",
        "             \"engaging_user_id\",\\\n",
        "                \"engaged_with_user_is_verified\",\\\n",
        "                 \"engaging_user_is_verified\",\\\n",
        "             \"engagee_follows_engager\"]"
      ],
      "execution_count": null,
      "outputs": []
    },
    {
      "cell_type": "code",
      "metadata": {
        "id": "wzAX60AppIk-"
      },
      "source": [
        "train[\"engaging_user_id\"], uniques = pd.factorize(train[\"engaging_user_id\"])"
      ],
      "execution_count": null,
      "outputs": []
    },
    {
      "cell_type": "code",
      "metadata": {
        "id": "Empi7WrXjUgy"
      },
      "source": [
        "temp=pd.DataFrame(train[\"engaging_user_id\"]).copy()\n",
        "temp[\"frequency\"]=1\n",
        "temp=temp.groupby(\"engaging_user_id\").transform('sum')"
      ],
      "execution_count": null,
      "outputs": []
    },
    {
      "cell_type": "code",
      "metadata": {
        "id": "QQ78rM0WkTgO"
      },
      "source": [
        "temp=temp[temp[\"frequency\"]>=8]"
      ],
      "execution_count": null,
      "outputs": []
    },
    {
      "cell_type": "code",
      "metadata": {
        "colab": {
          "base_uri": "https://localhost:8080/"
        },
        "id": "2-hCe0Wu4ofm",
        "outputId": "01884747-1ab3-432f-8d9a-c89525378821"
      },
      "source": [
        "temp"
      ],
      "execution_count": null,
      "outputs": [
        {
          "output_type": "execute_result",
          "data": {
            "text/html": [
              "<div>\n",
              "<style scoped>\n",
              "    .dataframe tbody tr th:only-of-type {\n",
              "        vertical-align: middle;\n",
              "    }\n",
              "\n",
              "    .dataframe tbody tr th {\n",
              "        vertical-align: top;\n",
              "    }\n",
              "\n",
              "    .dataframe thead th {\n",
              "        text-align: right;\n",
              "    }\n",
              "</style>\n",
              "<table border=\"1\" class=\"dataframe\">\n",
              "  <thead>\n",
              "    <tr style=\"text-align: right;\">\n",
              "      <th></th>\n",
              "      <th>frequency</th>\n",
              "    </tr>\n",
              "  </thead>\n",
              "  <tbody>\n",
              "    <tr>\n",
              "      <th>7</th>\n",
              "      <td>8</td>\n",
              "    </tr>\n",
              "    <tr>\n",
              "      <th>42</th>\n",
              "      <td>10</td>\n",
              "    </tr>\n",
              "    <tr>\n",
              "      <th>88</th>\n",
              "      <td>15</td>\n",
              "    </tr>\n",
              "    <tr>\n",
              "      <th>100</th>\n",
              "      <td>9</td>\n",
              "    </tr>\n",
              "    <tr>\n",
              "      <th>102</th>\n",
              "      <td>8</td>\n",
              "    </tr>\n",
              "    <tr>\n",
              "      <th>...</th>\n",
              "      <td>...</td>\n",
              "    </tr>\n",
              "    <tr>\n",
              "      <th>3033693</th>\n",
              "      <td>8</td>\n",
              "    </tr>\n",
              "    <tr>\n",
              "      <th>3033743</th>\n",
              "      <td>8</td>\n",
              "    </tr>\n",
              "    <tr>\n",
              "      <th>3033797</th>\n",
              "      <td>8</td>\n",
              "    </tr>\n",
              "    <tr>\n",
              "      <th>3033805</th>\n",
              "      <td>9</td>\n",
              "    </tr>\n",
              "    <tr>\n",
              "      <th>3033845</th>\n",
              "      <td>8</td>\n",
              "    </tr>\n",
              "  </tbody>\n",
              "</table>\n",
              "<p>118535 rows × 1 columns</p>\n",
              "</div>"
            ],
            "text/plain": [
              "         frequency\n",
              "7                8\n",
              "42              10\n",
              "88              15\n",
              "100              9\n",
              "102              8\n",
              "...            ...\n",
              "3033693          8\n",
              "3033743          8\n",
              "3033797          8\n",
              "3033805          9\n",
              "3033845          8\n",
              "\n",
              "[118535 rows x 1 columns]"
            ]
          },
          "metadata": {
            "tags": []
          },
          "execution_count": 14
        }
      ]
    },
    {
      "cell_type": "code",
      "metadata": {
        "colab": {
          "base_uri": "https://localhost:8080/"
        },
        "id": "KWipUQsx5f1B",
        "outputId": "2240deaa-1f14-4421-ce7e-793cb2dd7059"
      },
      "source": [
        "train"
      ],
      "execution_count": null,
      "outputs": [
        {
          "output_type": "execute_result",
          "data": {
            "text/html": [
              "<div>\n",
              "<style scoped>\n",
              "    .dataframe tbody tr th:only-of-type {\n",
              "        vertical-align: middle;\n",
              "    }\n",
              "\n",
              "    .dataframe tbody tr th {\n",
              "        vertical-align: top;\n",
              "    }\n",
              "\n",
              "    .dataframe thead th {\n",
              "        text-align: right;\n",
              "    }\n",
              "</style>\n",
              "<table border=\"1\" class=\"dataframe\">\n",
              "  <thead>\n",
              "    <tr style=\"text-align: right;\">\n",
              "      <th></th>\n",
              "      <th>text_tokens</th>\n",
              "      <th>hashtags</th>\n",
              "      <th>tweet_id</th>\n",
              "      <th>present_media</th>\n",
              "      <th>present_links</th>\n",
              "      <th>present_domains</th>\n",
              "      <th>language</th>\n",
              "      <th>tweet_timestamp</th>\n",
              "      <th>engaged_with_user_id</th>\n",
              "      <th>engaged_with_user_follower_count</th>\n",
              "      <th>engaged_with_user_following_count</th>\n",
              "      <th>engaged_with_user_is_verified</th>\n",
              "      <th>engaged_with_user_account_creation</th>\n",
              "      <th>engaging_user_id</th>\n",
              "      <th>engaging_user_follower_count</th>\n",
              "      <th>engaging_user_following_count</th>\n",
              "      <th>engaging_user_is_verified</th>\n",
              "      <th>engaging_user_account_creation</th>\n",
              "      <th>engagee_follows_engager</th>\n",
              "      <th>reply_timestamp</th>\n",
              "      <th>retweet_timestamp</th>\n",
              "      <th>retweet_with_comment_timestamp</th>\n",
              "      <th>text_len</th>\n",
              "      <th>retweet</th>\n",
              "      <th>quote</th>\n",
              "      <th>top</th>\n",
              "      <th>like</th>\n",
              "    </tr>\n",
              "  </thead>\n",
              "  <tbody>\n",
              "    <tr>\n",
              "      <th>0</th>\n",
              "      <td>101\\t56898\\t137\\t16925\\t10731\\t11481\\t13980\\t1...</td>\n",
              "      <td>-0.354747</td>\n",
              "      <td>5DCE3020423313CB0AC2631DEF94D2F5</td>\n",
              "      <td>-0.621253</td>\n",
              "      <td>-0.338471</td>\n",
              "      <td>-0.338471</td>\n",
              "      <td>488B32D24BD4BB44172EB981C1BCA6FA</td>\n",
              "      <td>1613237034</td>\n",
              "      <td>BC9980C5385A68894C2862F41884FB27</td>\n",
              "      <td>2473</td>\n",
              "      <td>662</td>\n",
              "      <td>0</td>\n",
              "      <td>1261859734</td>\n",
              "      <td>0</td>\n",
              "      <td>169</td>\n",
              "      <td>339</td>\n",
              "      <td>0</td>\n",
              "      <td>1520886748</td>\n",
              "      <td>0</td>\n",
              "      <td>NaN</td>\n",
              "      <td>NaN</td>\n",
              "      <td>NaN</td>\n",
              "      <td>0.144138</td>\n",
              "      <td>1</td>\n",
              "      <td>0</td>\n",
              "      <td>0</td>\n",
              "      <td>0</td>\n",
              "    </tr>\n",
              "    <tr>\n",
              "      <th>1</th>\n",
              "      <td>101\\t10159\\t11322\\t58550\\t10836\\t10126\\t25900\\...</td>\n",
              "      <td>-0.354747</td>\n",
              "      <td>2B6F5C7C4F04F34543C09DD6E58C8F66</td>\n",
              "      <td>-0.621253</td>\n",
              "      <td>2.577894</td>\n",
              "      <td>2.577894</td>\n",
              "      <td>B0FA488F2911701DD8EC5B1EA5E322D8</td>\n",
              "      <td>1613748600</td>\n",
              "      <td>C0EBA033A5C0D2AD91B4500958E2C633</td>\n",
              "      <td>4418640</td>\n",
              "      <td>228</td>\n",
              "      <td>1</td>\n",
              "      <td>1266804490</td>\n",
              "      <td>1</td>\n",
              "      <td>393</td>\n",
              "      <td>1190</td>\n",
              "      <td>0</td>\n",
              "      <td>1237570695</td>\n",
              "      <td>0</td>\n",
              "      <td>NaN</td>\n",
              "      <td>NaN</td>\n",
              "      <td>NaN</td>\n",
              "      <td>1.099749</td>\n",
              "      <td>0</td>\n",
              "      <td>0</td>\n",
              "      <td>0</td>\n",
              "      <td>0</td>\n",
              "    </tr>\n",
              "    <tr>\n",
              "      <th>2</th>\n",
              "      <td>101\\t10159\\t56314\\t14364\\t10109\\t14657\\t11359\\...</td>\n",
              "      <td>-0.354747</td>\n",
              "      <td>784D3AE5E6429392245BD34FF4C82B5C</td>\n",
              "      <td>-0.621253</td>\n",
              "      <td>2.577894</td>\n",
              "      <td>2.577894</td>\n",
              "      <td>B0FA488F2911701DD8EC5B1EA5E322D8</td>\n",
              "      <td>1613386238</td>\n",
              "      <td>03EA05E7440140ABF047BC216CE34917</td>\n",
              "      <td>219715</td>\n",
              "      <td>3685</td>\n",
              "      <td>1</td>\n",
              "      <td>1202617218</td>\n",
              "      <td>2</td>\n",
              "      <td>629</td>\n",
              "      <td>1473</td>\n",
              "      <td>0</td>\n",
              "      <td>1263176351</td>\n",
              "      <td>0</td>\n",
              "      <td>NaN</td>\n",
              "      <td>NaN</td>\n",
              "      <td>NaN</td>\n",
              "      <td>-0.231280</td>\n",
              "      <td>0</td>\n",
              "      <td>0</td>\n",
              "      <td>0</td>\n",
              "      <td>1</td>\n",
              "    </tr>\n",
              "    <tr>\n",
              "      <th>3</th>\n",
              "      <td>101\\t56898\\t137\\t10224\\t10731\\t64194\\t41939\\t3...</td>\n",
              "      <td>-0.354747</td>\n",
              "      <td>CA49ACBB31921F2A0FAC1CCCC99541F6</td>\n",
              "      <td>-0.621253</td>\n",
              "      <td>-0.338471</td>\n",
              "      <td>-0.338471</td>\n",
              "      <td>B0FA488F2911701DD8EC5B1EA5E322D8</td>\n",
              "      <td>1613708640</td>\n",
              "      <td>2700B9E175757F126C082D6A5742787D</td>\n",
              "      <td>2388283</td>\n",
              "      <td>13511</td>\n",
              "      <td>1</td>\n",
              "      <td>1251645191</td>\n",
              "      <td>3</td>\n",
              "      <td>123</td>\n",
              "      <td>200</td>\n",
              "      <td>0</td>\n",
              "      <td>1268276559</td>\n",
              "      <td>0</td>\n",
              "      <td>NaN</td>\n",
              "      <td>NaN</td>\n",
              "      <td>NaN</td>\n",
              "      <td>-0.197151</td>\n",
              "      <td>1</td>\n",
              "      <td>0</td>\n",
              "      <td>0</td>\n",
              "      <td>0</td>\n",
              "    </tr>\n",
              "    <tr>\n",
              "      <th>4</th>\n",
              "      <td>101\\t7143\\t1938\\t113\\t100\\t10097\\t100\\t10097\\t...</td>\n",
              "      <td>-0.354747</td>\n",
              "      <td>2C95B42C651B36D84584F3653D722142</td>\n",
              "      <td>0.499838</td>\n",
              "      <td>-0.338471</td>\n",
              "      <td>-0.338471</td>\n",
              "      <td>E7F038DE3EAD397AEC9193686C911677</td>\n",
              "      <td>1612586018</td>\n",
              "      <td>B7E441F2D886830FB3F0CE29CB35CB6B</td>\n",
              "      <td>414</td>\n",
              "      <td>720</td>\n",
              "      <td>0</td>\n",
              "      <td>1578273274</td>\n",
              "      <td>4</td>\n",
              "      <td>134</td>\n",
              "      <td>379</td>\n",
              "      <td>0</td>\n",
              "      <td>1483862063</td>\n",
              "      <td>1</td>\n",
              "      <td>NaN</td>\n",
              "      <td>NaN</td>\n",
              "      <td>NaN</td>\n",
              "      <td>0.690202</td>\n",
              "      <td>0</td>\n",
              "      <td>0</td>\n",
              "      <td>0</td>\n",
              "      <td>1</td>\n",
              "    </tr>\n",
              "    <tr>\n",
              "      <th>...</th>\n",
              "      <td>...</td>\n",
              "      <td>...</td>\n",
              "      <td>...</td>\n",
              "      <td>...</td>\n",
              "      <td>...</td>\n",
              "      <td>...</td>\n",
              "      <td>...</td>\n",
              "      <td>...</td>\n",
              "      <td>...</td>\n",
              "      <td>...</td>\n",
              "      <td>...</td>\n",
              "      <td>...</td>\n",
              "      <td>...</td>\n",
              "      <td>...</td>\n",
              "      <td>...</td>\n",
              "      <td>...</td>\n",
              "      <td>...</td>\n",
              "      <td>...</td>\n",
              "      <td>...</td>\n",
              "      <td>...</td>\n",
              "      <td>...</td>\n",
              "      <td>...</td>\n",
              "      <td>...</td>\n",
              "      <td>...</td>\n",
              "      <td>...</td>\n",
              "      <td>...</td>\n",
              "      <td>...</td>\n",
              "    </tr>\n",
              "    <tr>\n",
              "      <th>3033897</th>\n",
              "      <td>101\\t56898\\t137\\t40431\\t14678\\t11710\\t12985\\t1...</td>\n",
              "      <td>-0.354747</td>\n",
              "      <td>25B1D557E6B6D7298CA3888C72F9F7B5</td>\n",
              "      <td>-0.621253</td>\n",
              "      <td>-0.338471</td>\n",
              "      <td>-0.338471</td>\n",
              "      <td>B8B04128918BBF54E2E178BFF1ABA833</td>\n",
              "      <td>1612804061</td>\n",
              "      <td>D61350A37DDC6E19AD5B1D44C607FF7D</td>\n",
              "      <td>2230</td>\n",
              "      <td>2332</td>\n",
              "      <td>0</td>\n",
              "      <td>1562591414</td>\n",
              "      <td>2174192</td>\n",
              "      <td>254</td>\n",
              "      <td>342</td>\n",
              "      <td>0</td>\n",
              "      <td>1505241576</td>\n",
              "      <td>1</td>\n",
              "      <td>NaN</td>\n",
              "      <td>NaN</td>\n",
              "      <td>NaN</td>\n",
              "      <td>-0.026507</td>\n",
              "      <td>1</td>\n",
              "      <td>0</td>\n",
              "      <td>0</td>\n",
              "      <td>0</td>\n",
              "    </tr>\n",
              "    <tr>\n",
              "      <th>3033898</th>\n",
              "      <td>101\\t10747\\t57667\\t10123\\t10124\\t30776\\t20149\\...</td>\n",
              "      <td>-0.354747</td>\n",
              "      <td>3A656480D09FCCBA39B0E28FBFA64B72</td>\n",
              "      <td>0.499838</td>\n",
              "      <td>-0.338471</td>\n",
              "      <td>-0.338471</td>\n",
              "      <td>488B32D24BD4BB44172EB981C1BCA6FA</td>\n",
              "      <td>1613964078</td>\n",
              "      <td>9009A33FB64F15F71D689C46FD40DA0E</td>\n",
              "      <td>90842</td>\n",
              "      <td>687</td>\n",
              "      <td>0</td>\n",
              "      <td>1591895377</td>\n",
              "      <td>2174193</td>\n",
              "      <td>238</td>\n",
              "      <td>511</td>\n",
              "      <td>0</td>\n",
              "      <td>1587168543</td>\n",
              "      <td>0</td>\n",
              "      <td>1.613964e+09</td>\n",
              "      <td>NaN</td>\n",
              "      <td>NaN</td>\n",
              "      <td>-0.743215</td>\n",
              "      <td>0</td>\n",
              "      <td>0</td>\n",
              "      <td>0</td>\n",
              "      <td>0</td>\n",
              "    </tr>\n",
              "    <tr>\n",
              "      <th>3033899</th>\n",
              "      <td>101\\t56898\\t137\\t10211\\t10589\\t21428\\t12620\\t1...</td>\n",
              "      <td>-0.354747</td>\n",
              "      <td>E236B2359B119B2A7668FA83AC5E750B</td>\n",
              "      <td>-0.621253</td>\n",
              "      <td>-0.338471</td>\n",
              "      <td>-0.338471</td>\n",
              "      <td>488B32D24BD4BB44172EB981C1BCA6FA</td>\n",
              "      <td>1614124187</td>\n",
              "      <td>57F1EBC5767EA3F7CE3EEDB6EAE9B097</td>\n",
              "      <td>608</td>\n",
              "      <td>328</td>\n",
              "      <td>0</td>\n",
              "      <td>1341523778</td>\n",
              "      <td>2174194</td>\n",
              "      <td>814</td>\n",
              "      <td>803</td>\n",
              "      <td>0</td>\n",
              "      <td>1336720553</td>\n",
              "      <td>1</td>\n",
              "      <td>NaN</td>\n",
              "      <td>NaN</td>\n",
              "      <td>NaN</td>\n",
              "      <td>-0.709086</td>\n",
              "      <td>1</td>\n",
              "      <td>0</td>\n",
              "      <td>0</td>\n",
              "      <td>0</td>\n",
              "    </tr>\n",
              "    <tr>\n",
              "      <th>3033900</th>\n",
              "      <td>101\\t19561\\t10605\\t97764\\t10729\\t64008\\t30297\\...</td>\n",
              "      <td>-0.354747</td>\n",
              "      <td>B42CB5B47ABCCA8700686CD8F32696B6</td>\n",
              "      <td>-0.621253</td>\n",
              "      <td>-0.338471</td>\n",
              "      <td>-0.338471</td>\n",
              "      <td>B0FA488F2911701DD8EC5B1EA5E322D8</td>\n",
              "      <td>1613329929</td>\n",
              "      <td>D3D9F1F6F4CCFA079891511B0818FF03</td>\n",
              "      <td>6777417</td>\n",
              "      <td>888</td>\n",
              "      <td>1</td>\n",
              "      <td>1263785737</td>\n",
              "      <td>2174195</td>\n",
              "      <td>27</td>\n",
              "      <td>83</td>\n",
              "      <td>0</td>\n",
              "      <td>1540658011</td>\n",
              "      <td>0</td>\n",
              "      <td>NaN</td>\n",
              "      <td>NaN</td>\n",
              "      <td>NaN</td>\n",
              "      <td>-1.255149</td>\n",
              "      <td>0</td>\n",
              "      <td>0</td>\n",
              "      <td>0</td>\n",
              "      <td>1</td>\n",
              "    </tr>\n",
              "    <tr>\n",
              "      <th>3033901</th>\n",
              "      <td>101\\t56898\\t137\\t12480\\t11447\\t11272\\t168\\t131...</td>\n",
              "      <td>-0.354747</td>\n",
              "      <td>0A3692BBC4209238759F79D392C225C8</td>\n",
              "      <td>-0.621253</td>\n",
              "      <td>-0.338471</td>\n",
              "      <td>-0.338471</td>\n",
              "      <td>488B32D24BD4BB44172EB981C1BCA6FA</td>\n",
              "      <td>1612602313</td>\n",
              "      <td>79E0210EA9B5D9CD0A6950A1DCEBD9CA</td>\n",
              "      <td>2334</td>\n",
              "      <td>746</td>\n",
              "      <td>0</td>\n",
              "      <td>1277437851</td>\n",
              "      <td>2174196</td>\n",
              "      <td>344</td>\n",
              "      <td>638</td>\n",
              "      <td>0</td>\n",
              "      <td>1337620805</td>\n",
              "      <td>1</td>\n",
              "      <td>NaN</td>\n",
              "      <td>1.612604e+09</td>\n",
              "      <td>NaN</td>\n",
              "      <td>0.041751</td>\n",
              "      <td>1</td>\n",
              "      <td>0</td>\n",
              "      <td>0</td>\n",
              "      <td>0</td>\n",
              "    </tr>\n",
              "  </tbody>\n",
              "</table>\n",
              "<p>3033902 rows × 27 columns</p>\n",
              "</div>"
            ],
            "text/plain": [
              "                                               text_tokens  hashtags  ... top  like\n",
              "0        101\\t56898\\t137\\t16925\\t10731\\t11481\\t13980\\t1... -0.354747  ...   0     0\n",
              "1        101\\t10159\\t11322\\t58550\\t10836\\t10126\\t25900\\... -0.354747  ...   0     0\n",
              "2        101\\t10159\\t56314\\t14364\\t10109\\t14657\\t11359\\... -0.354747  ...   0     1\n",
              "3        101\\t56898\\t137\\t10224\\t10731\\t64194\\t41939\\t3... -0.354747  ...   0     0\n",
              "4        101\\t7143\\t1938\\t113\\t100\\t10097\\t100\\t10097\\t... -0.354747  ...   0     1\n",
              "...                                                    ...       ...  ...  ..   ...\n",
              "3033897  101\\t56898\\t137\\t40431\\t14678\\t11710\\t12985\\t1... -0.354747  ...   0     0\n",
              "3033898  101\\t10747\\t57667\\t10123\\t10124\\t30776\\t20149\\... -0.354747  ...   0     0\n",
              "3033899  101\\t56898\\t137\\t10211\\t10589\\t21428\\t12620\\t1... -0.354747  ...   0     0\n",
              "3033900  101\\t19561\\t10605\\t97764\\t10729\\t64008\\t30297\\... -0.354747  ...   0     1\n",
              "3033901  101\\t56898\\t137\\t12480\\t11447\\t11272\\t168\\t131... -0.354747  ...   0     0\n",
              "\n",
              "[3033902 rows x 27 columns]"
            ]
          },
          "metadata": {
            "tags": []
          },
          "execution_count": 15
        }
      ]
    },
    {
      "cell_type": "code",
      "metadata": {
        "colab": {
          "base_uri": "https://localhost:8080/"
        },
        "id": "8wOYrnZJ4qbM",
        "outputId": "62d3ffc3-bd3d-49b6-e46e-add99912f921"
      },
      "source": [
        "gc.collect()"
      ],
      "execution_count": null,
      "outputs": [
        {
          "output_type": "execute_result",
          "data": {
            "text/plain": [
              "65"
            ]
          },
          "metadata": {
            "tags": []
          },
          "execution_count": 16
        }
      ]
    },
    {
      "cell_type": "code",
      "metadata": {
        "id": "_9dH4xhhkaAl"
      },
      "source": [
        "temp['engaging_user_id'] = temp.index"
      ],
      "execution_count": null,
      "outputs": []
    },
    {
      "cell_type": "code",
      "metadata": {
        "colab": {
          "base_uri": "https://localhost:8080/"
        },
        "id": "BzvCnvFJk5uU",
        "outputId": "9fcd448f-5f28-45ac-8283-d8ef62dbabe3"
      },
      "source": [
        "temp.head()"
      ],
      "execution_count": null,
      "outputs": [
        {
          "output_type": "execute_result",
          "data": {
            "text/html": [
              "<div>\n",
              "<style scoped>\n",
              "    .dataframe tbody tr th:only-of-type {\n",
              "        vertical-align: middle;\n",
              "    }\n",
              "\n",
              "    .dataframe tbody tr th {\n",
              "        vertical-align: top;\n",
              "    }\n",
              "\n",
              "    .dataframe thead th {\n",
              "        text-align: right;\n",
              "    }\n",
              "</style>\n",
              "<table border=\"1\" class=\"dataframe\">\n",
              "  <thead>\n",
              "    <tr style=\"text-align: right;\">\n",
              "      <th></th>\n",
              "      <th>frequency</th>\n",
              "      <th>engaging_user_id</th>\n",
              "    </tr>\n",
              "  </thead>\n",
              "  <tbody>\n",
              "    <tr>\n",
              "      <th>7</th>\n",
              "      <td>8</td>\n",
              "      <td>7</td>\n",
              "    </tr>\n",
              "    <tr>\n",
              "      <th>42</th>\n",
              "      <td>10</td>\n",
              "      <td>42</td>\n",
              "    </tr>\n",
              "    <tr>\n",
              "      <th>88</th>\n",
              "      <td>15</td>\n",
              "      <td>88</td>\n",
              "    </tr>\n",
              "    <tr>\n",
              "      <th>100</th>\n",
              "      <td>9</td>\n",
              "      <td>100</td>\n",
              "    </tr>\n",
              "    <tr>\n",
              "      <th>102</th>\n",
              "      <td>8</td>\n",
              "      <td>102</td>\n",
              "    </tr>\n",
              "  </tbody>\n",
              "</table>\n",
              "</div>"
            ],
            "text/plain": [
              "     frequency  engaging_user_id\n",
              "7            8                 7\n",
              "42          10                42\n",
              "88          15                88\n",
              "100          9               100\n",
              "102          8               102"
            ]
          },
          "metadata": {
            "tags": []
          },
          "execution_count": 18
        }
      ]
    },
    {
      "cell_type": "code",
      "metadata": {
        "id": "eh0RTEH-khtk"
      },
      "source": [
        "train=train.merge(temp,how=\"left\",on=\"engaging_user_id\")"
      ],
      "execution_count": null,
      "outputs": []
    },
    {
      "cell_type": "code",
      "metadata": {
        "id": "rIMQQ7w8lf_p"
      },
      "source": [
        "train = train[train['frequency']>0]"
      ],
      "execution_count": null,
      "outputs": []
    },
    {
      "cell_type": "code",
      "metadata": {
        "colab": {
          "base_uri": "https://localhost:8080/"
        },
        "id": "HIpTOkJMlORC",
        "outputId": "07b878f3-a607-4ce8-a4f9-1b0448a67a20"
      },
      "source": [
        "train"
      ],
      "execution_count": null,
      "outputs": [
        {
          "output_type": "execute_result",
          "data": {
            "text/html": [
              "<div>\n",
              "<style scoped>\n",
              "    .dataframe tbody tr th:only-of-type {\n",
              "        vertical-align: middle;\n",
              "    }\n",
              "\n",
              "    .dataframe tbody tr th {\n",
              "        vertical-align: top;\n",
              "    }\n",
              "\n",
              "    .dataframe thead th {\n",
              "        text-align: right;\n",
              "    }\n",
              "</style>\n",
              "<table border=\"1\" class=\"dataframe\">\n",
              "  <thead>\n",
              "    <tr style=\"text-align: right;\">\n",
              "      <th></th>\n",
              "      <th>text_tokens</th>\n",
              "      <th>hashtags</th>\n",
              "      <th>tweet_id</th>\n",
              "      <th>present_media</th>\n",
              "      <th>present_links</th>\n",
              "      <th>present_domains</th>\n",
              "      <th>language</th>\n",
              "      <th>tweet_timestamp</th>\n",
              "      <th>engaged_with_user_id</th>\n",
              "      <th>engaged_with_user_follower_count</th>\n",
              "      <th>engaged_with_user_following_count</th>\n",
              "      <th>engaged_with_user_is_verified</th>\n",
              "      <th>engaged_with_user_account_creation</th>\n",
              "      <th>engaging_user_id</th>\n",
              "      <th>engaging_user_follower_count</th>\n",
              "      <th>engaging_user_following_count</th>\n",
              "      <th>engaging_user_is_verified</th>\n",
              "      <th>engaging_user_account_creation</th>\n",
              "      <th>engagee_follows_engager</th>\n",
              "      <th>reply_timestamp</th>\n",
              "      <th>retweet_timestamp</th>\n",
              "      <th>retweet_with_comment_timestamp</th>\n",
              "      <th>text_len</th>\n",
              "      <th>retweet</th>\n",
              "      <th>quote</th>\n",
              "      <th>top</th>\n",
              "      <th>like</th>\n",
              "      <th>frequency</th>\n",
              "    </tr>\n",
              "  </thead>\n",
              "  <tbody>\n",
              "    <tr>\n",
              "      <th>7</th>\n",
              "      <td>101\\t164\\t100\\t166\\t47464\\t17734\\t10114\\t11850...</td>\n",
              "      <td>-0.354747</td>\n",
              "      <td>787DEDA041736D0B55A0C15E993682C1</td>\n",
              "      <td>-0.621253</td>\n",
              "      <td>-0.338471</td>\n",
              "      <td>-0.338471</td>\n",
              "      <td>488B32D24BD4BB44172EB981C1BCA6FA</td>\n",
              "      <td>1614132656</td>\n",
              "      <td>223797E039AFAC669C3A24A43B59CD5E</td>\n",
              "      <td>209681</td>\n",
              "      <td>141</td>\n",
              "      <td>0</td>\n",
              "      <td>1516334262</td>\n",
              "      <td>7</td>\n",
              "      <td>35</td>\n",
              "      <td>106</td>\n",
              "      <td>0</td>\n",
              "      <td>1581377629</td>\n",
              "      <td>0</td>\n",
              "      <td>NaN</td>\n",
              "      <td>NaN</td>\n",
              "      <td>NaN</td>\n",
              "      <td>-0.572570</td>\n",
              "      <td>0</td>\n",
              "      <td>1</td>\n",
              "      <td>0</td>\n",
              "      <td>1</td>\n",
              "      <td>8.0</td>\n",
              "    </tr>\n",
              "    <tr>\n",
              "      <th>42</th>\n",
              "      <td>101\\t15764\\t10700\\t763\\t24455\\t17329\\t19163\\t1...</td>\n",
              "      <td>-0.354747</td>\n",
              "      <td>9B25FA25E79D31D3BCC37C45F4C731E5</td>\n",
              "      <td>-0.621253</td>\n",
              "      <td>-0.338471</td>\n",
              "      <td>-0.338471</td>\n",
              "      <td>9A78FC330083E72BE0DD1EA92656F3B5</td>\n",
              "      <td>1612472571</td>\n",
              "      <td>A5A49E65DE6B45652AFCA96BB96EB7D0</td>\n",
              "      <td>15152</td>\n",
              "      <td>1563</td>\n",
              "      <td>0</td>\n",
              "      <td>1427441187</td>\n",
              "      <td>42</td>\n",
              "      <td>167</td>\n",
              "      <td>394</td>\n",
              "      <td>0</td>\n",
              "      <td>1546022960</td>\n",
              "      <td>1</td>\n",
              "      <td>NaN</td>\n",
              "      <td>NaN</td>\n",
              "      <td>NaN</td>\n",
              "      <td>-1.152762</td>\n",
              "      <td>0</td>\n",
              "      <td>0</td>\n",
              "      <td>0</td>\n",
              "      <td>1</td>\n",
              "      <td>10.0</td>\n",
              "    </tr>\n",
              "    <tr>\n",
              "      <th>88</th>\n",
              "      <td>101\\t100\\t14120\\t131\\t120\\t120\\t188\\t119\\t1117...</td>\n",
              "      <td>-0.354747</td>\n",
              "      <td>23EED02EF54627746864178BEC619BAB</td>\n",
              "      <td>0.499838</td>\n",
              "      <td>-0.338471</td>\n",
              "      <td>-0.338471</td>\n",
              "      <td>313ECD3A1E5BB07406E4249475C2D6D6</td>\n",
              "      <td>1613219107</td>\n",
              "      <td>6F20AD7BE5CFA479678F28F4D8DF7EED</td>\n",
              "      <td>151</td>\n",
              "      <td>254</td>\n",
              "      <td>0</td>\n",
              "      <td>1599062672</td>\n",
              "      <td>88</td>\n",
              "      <td>799</td>\n",
              "      <td>958</td>\n",
              "      <td>0</td>\n",
              "      <td>1599118585</td>\n",
              "      <td>1</td>\n",
              "      <td>NaN</td>\n",
              "      <td>NaN</td>\n",
              "      <td>NaN</td>\n",
              "      <td>-0.879731</td>\n",
              "      <td>0</td>\n",
              "      <td>0</td>\n",
              "      <td>0</td>\n",
              "      <td>1</td>\n",
              "      <td>15.0</td>\n",
              "    </tr>\n",
              "    <tr>\n",
              "      <th>100</th>\n",
              "      <td>101\\t10117\\t10817\\t10124\\t16683\\t10452\\t89025\\...</td>\n",
              "      <td>-0.354747</td>\n",
              "      <td>0B8A89DC11512E31049B6A7225F86531</td>\n",
              "      <td>-0.621253</td>\n",
              "      <td>-0.338471</td>\n",
              "      <td>-0.338471</td>\n",
              "      <td>488B32D24BD4BB44172EB981C1BCA6FA</td>\n",
              "      <td>1612663152</td>\n",
              "      <td>5C5AAD876AB3B53AB1E70E77C9324EAA</td>\n",
              "      <td>35474</td>\n",
              "      <td>1938</td>\n",
              "      <td>1</td>\n",
              "      <td>1356917793</td>\n",
              "      <td>100</td>\n",
              "      <td>424</td>\n",
              "      <td>493</td>\n",
              "      <td>0</td>\n",
              "      <td>1169766828</td>\n",
              "      <td>0</td>\n",
              "      <td>NaN</td>\n",
              "      <td>NaN</td>\n",
              "      <td>NaN</td>\n",
              "      <td>-0.572570</td>\n",
              "      <td>0</td>\n",
              "      <td>0</td>\n",
              "      <td>0</td>\n",
              "      <td>1</td>\n",
              "      <td>9.0</td>\n",
              "    </tr>\n",
              "    <tr>\n",
              "      <th>102</th>\n",
              "      <td>101\\t14962\\t10114\\t29922\\t10105\\t14428\\t26623\\...</td>\n",
              "      <td>-0.354747</td>\n",
              "      <td>803258AB3CE7D4F7971B634D79D96BA6</td>\n",
              "      <td>-0.621253</td>\n",
              "      <td>2.577894</td>\n",
              "      <td>2.577894</td>\n",
              "      <td>488B32D24BD4BB44172EB981C1BCA6FA</td>\n",
              "      <td>1613505146</td>\n",
              "      <td>9C0302E820C42214B6678FB77E1CF4D2</td>\n",
              "      <td>7620139</td>\n",
              "      <td>1730</td>\n",
              "      <td>1</td>\n",
              "      <td>1232922624</td>\n",
              "      <td>102</td>\n",
              "      <td>200</td>\n",
              "      <td>335</td>\n",
              "      <td>0</td>\n",
              "      <td>1344541813</td>\n",
              "      <td>0</td>\n",
              "      <td>NaN</td>\n",
              "      <td>NaN</td>\n",
              "      <td>NaN</td>\n",
              "      <td>-0.504312</td>\n",
              "      <td>0</td>\n",
              "      <td>0</td>\n",
              "      <td>0</td>\n",
              "      <td>0</td>\n",
              "      <td>8.0</td>\n",
              "    </tr>\n",
              "    <tr>\n",
              "      <th>...</th>\n",
              "      <td>...</td>\n",
              "      <td>...</td>\n",
              "      <td>...</td>\n",
              "      <td>...</td>\n",
              "      <td>...</td>\n",
              "      <td>...</td>\n",
              "      <td>...</td>\n",
              "      <td>...</td>\n",
              "      <td>...</td>\n",
              "      <td>...</td>\n",
              "      <td>...</td>\n",
              "      <td>...</td>\n",
              "      <td>...</td>\n",
              "      <td>...</td>\n",
              "      <td>...</td>\n",
              "      <td>...</td>\n",
              "      <td>...</td>\n",
              "      <td>...</td>\n",
              "      <td>...</td>\n",
              "      <td>...</td>\n",
              "      <td>...</td>\n",
              "      <td>...</td>\n",
              "      <td>...</td>\n",
              "      <td>...</td>\n",
              "      <td>...</td>\n",
              "      <td>...</td>\n",
              "      <td>...</td>\n",
              "      <td>...</td>\n",
              "    </tr>\n",
              "    <tr>\n",
              "      <th>3033821</th>\n",
              "      <td>101\\t17073\\t146\\t19556\\t169\\t12229\\t55785\\t419...</td>\n",
              "      <td>-0.354747</td>\n",
              "      <td>ECF31ED9BC29E57064DEDF7647DCDBFC</td>\n",
              "      <td>-0.621253</td>\n",
              "      <td>-0.338471</td>\n",
              "      <td>-0.338471</td>\n",
              "      <td>488B32D24BD4BB44172EB981C1BCA6FA</td>\n",
              "      <td>1613887057</td>\n",
              "      <td>31009B27BF3B4BF8C87588C0E0C2924B</td>\n",
              "      <td>2245</td>\n",
              "      <td>716</td>\n",
              "      <td>0</td>\n",
              "      <td>1233876885</td>\n",
              "      <td>2174144</td>\n",
              "      <td>766</td>\n",
              "      <td>412</td>\n",
              "      <td>0</td>\n",
              "      <td>1326762970</td>\n",
              "      <td>1</td>\n",
              "      <td>NaN</td>\n",
              "      <td>NaN</td>\n",
              "      <td>NaN</td>\n",
              "      <td>-0.777344</td>\n",
              "      <td>0</td>\n",
              "      <td>0</td>\n",
              "      <td>0</td>\n",
              "      <td>0</td>\n",
              "      <td>12.0</td>\n",
              "    </tr>\n",
              "    <tr>\n",
              "      <th>3033838</th>\n",
              "      <td>101\\t56898\\t137\\t67952\\t98486\\t10157\\t63615\\t1...</td>\n",
              "      <td>-0.354747</td>\n",
              "      <td>D3E2FE3908C4D90CE784E852D4B7E2FE</td>\n",
              "      <td>-0.621253</td>\n",
              "      <td>-0.338471</td>\n",
              "      <td>-0.338471</td>\n",
              "      <td>488B32D24BD4BB44172EB981C1BCA6FA</td>\n",
              "      <td>1613589544</td>\n",
              "      <td>0F322FA675F4E0A8AB685E97BC9351A1</td>\n",
              "      <td>237</td>\n",
              "      <td>139</td>\n",
              "      <td>0</td>\n",
              "      <td>1380646920</td>\n",
              "      <td>2174156</td>\n",
              "      <td>61</td>\n",
              "      <td>82</td>\n",
              "      <td>0</td>\n",
              "      <td>1535477278</td>\n",
              "      <td>0</td>\n",
              "      <td>NaN</td>\n",
              "      <td>NaN</td>\n",
              "      <td>NaN</td>\n",
              "      <td>-0.845602</td>\n",
              "      <td>1</td>\n",
              "      <td>0</td>\n",
              "      <td>0</td>\n",
              "      <td>1</td>\n",
              "      <td>9.0</td>\n",
              "    </tr>\n",
              "    <tr>\n",
              "      <th>3033845</th>\n",
              "      <td>101\\t36448\\t13013\\t11559\\t10126\\t33478\\t13904\\...</td>\n",
              "      <td>-0.354747</td>\n",
              "      <td>82EDEC74FCC1E0276B8C1FC946949E5D</td>\n",
              "      <td>-0.621253</td>\n",
              "      <td>-0.338471</td>\n",
              "      <td>-0.338471</td>\n",
              "      <td>B8B04128918BBF54E2E178BFF1ABA833</td>\n",
              "      <td>1613320217</td>\n",
              "      <td>CDDD553B7B28EAEC321E2F2E65DBBAC8</td>\n",
              "      <td>34485</td>\n",
              "      <td>95</td>\n",
              "      <td>0</td>\n",
              "      <td>1296677208</td>\n",
              "      <td>78332</td>\n",
              "      <td>140</td>\n",
              "      <td>686</td>\n",
              "      <td>0</td>\n",
              "      <td>1409997952</td>\n",
              "      <td>0</td>\n",
              "      <td>NaN</td>\n",
              "      <td>NaN</td>\n",
              "      <td>NaN</td>\n",
              "      <td>-0.811473</td>\n",
              "      <td>0</td>\n",
              "      <td>0</td>\n",
              "      <td>0</td>\n",
              "      <td>1</td>\n",
              "      <td>8.0</td>\n",
              "    </tr>\n",
              "    <tr>\n",
              "      <th>3033856</th>\n",
              "      <td>101\\t108\\t177\\t57277\\t69196\\t12396\\t33893\\t722...</td>\n",
              "      <td>7.709830</td>\n",
              "      <td>A131922DCE502E5CE7FF5737BEF3F285</td>\n",
              "      <td>0.499838</td>\n",
              "      <td>-0.338471</td>\n",
              "      <td>-0.338471</td>\n",
              "      <td>8729EBF694C3DAF61208A209C2A542C8</td>\n",
              "      <td>1613897121</td>\n",
              "      <td>F7A7DB4563C6177579D581CE80D4F24D</td>\n",
              "      <td>1029865</td>\n",
              "      <td>11</td>\n",
              "      <td>1</td>\n",
              "      <td>1437139395</td>\n",
              "      <td>2174166</td>\n",
              "      <td>47</td>\n",
              "      <td>153</td>\n",
              "      <td>0</td>\n",
              "      <td>1517834704</td>\n",
              "      <td>0</td>\n",
              "      <td>NaN</td>\n",
              "      <td>NaN</td>\n",
              "      <td>NaN</td>\n",
              "      <td>1.509297</td>\n",
              "      <td>0</td>\n",
              "      <td>0</td>\n",
              "      <td>0</td>\n",
              "      <td>1</td>\n",
              "      <td>8.0</td>\n",
              "    </tr>\n",
              "    <tr>\n",
              "      <th>3033897</th>\n",
              "      <td>101\\t56898\\t137\\t40431\\t14678\\t11710\\t12985\\t1...</td>\n",
              "      <td>-0.354747</td>\n",
              "      <td>25B1D557E6B6D7298CA3888C72F9F7B5</td>\n",
              "      <td>-0.621253</td>\n",
              "      <td>-0.338471</td>\n",
              "      <td>-0.338471</td>\n",
              "      <td>B8B04128918BBF54E2E178BFF1ABA833</td>\n",
              "      <td>1612804061</td>\n",
              "      <td>D61350A37DDC6E19AD5B1D44C607FF7D</td>\n",
              "      <td>2230</td>\n",
              "      <td>2332</td>\n",
              "      <td>0</td>\n",
              "      <td>1562591414</td>\n",
              "      <td>2174192</td>\n",
              "      <td>254</td>\n",
              "      <td>342</td>\n",
              "      <td>0</td>\n",
              "      <td>1505241576</td>\n",
              "      <td>1</td>\n",
              "      <td>NaN</td>\n",
              "      <td>NaN</td>\n",
              "      <td>NaN</td>\n",
              "      <td>-0.026507</td>\n",
              "      <td>1</td>\n",
              "      <td>0</td>\n",
              "      <td>0</td>\n",
              "      <td>0</td>\n",
              "      <td>8.0</td>\n",
              "    </tr>\n",
              "  </tbody>\n",
              "</table>\n",
              "<p>118541 rows × 28 columns</p>\n",
              "</div>"
            ],
            "text/plain": [
              "                                               text_tokens  ...  frequency\n",
              "7        101\\t164\\t100\\t166\\t47464\\t17734\\t10114\\t11850...  ...        8.0\n",
              "42       101\\t15764\\t10700\\t763\\t24455\\t17329\\t19163\\t1...  ...       10.0\n",
              "88       101\\t100\\t14120\\t131\\t120\\t120\\t188\\t119\\t1117...  ...       15.0\n",
              "100      101\\t10117\\t10817\\t10124\\t16683\\t10452\\t89025\\...  ...        9.0\n",
              "102      101\\t14962\\t10114\\t29922\\t10105\\t14428\\t26623\\...  ...        8.0\n",
              "...                                                    ...  ...        ...\n",
              "3033821  101\\t17073\\t146\\t19556\\t169\\t12229\\t55785\\t419...  ...       12.0\n",
              "3033838  101\\t56898\\t137\\t67952\\t98486\\t10157\\t63615\\t1...  ...        9.0\n",
              "3033845  101\\t36448\\t13013\\t11559\\t10126\\t33478\\t13904\\...  ...        8.0\n",
              "3033856  101\\t108\\t177\\t57277\\t69196\\t12396\\t33893\\t722...  ...        8.0\n",
              "3033897  101\\t56898\\t137\\t40431\\t14678\\t11710\\t12985\\t1...  ...        8.0\n",
              "\n",
              "[118541 rows x 28 columns]"
            ]
          },
          "metadata": {
            "tags": []
          },
          "execution_count": 21
        }
      ]
    },
    {
      "cell_type": "code",
      "metadata": {
        "colab": {
          "base_uri": "https://localhost:8080/"
        },
        "id": "Hv4Y0W-u5p7e",
        "outputId": "75330ec9-c123-4fdd-87da-34c4629e50e5"
      },
      "source": [
        "train[train[\"engaging_user_id\"]==7]"
      ],
      "execution_count": null,
      "outputs": [
        {
          "output_type": "execute_result",
          "data": {
            "text/html": [
              "<div>\n",
              "<style scoped>\n",
              "    .dataframe tbody tr th:only-of-type {\n",
              "        vertical-align: middle;\n",
              "    }\n",
              "\n",
              "    .dataframe tbody tr th {\n",
              "        vertical-align: top;\n",
              "    }\n",
              "\n",
              "    .dataframe thead th {\n",
              "        text-align: right;\n",
              "    }\n",
              "</style>\n",
              "<table border=\"1\" class=\"dataframe\">\n",
              "  <thead>\n",
              "    <tr style=\"text-align: right;\">\n",
              "      <th></th>\n",
              "      <th>text_tokens</th>\n",
              "      <th>hashtags</th>\n",
              "      <th>tweet_id</th>\n",
              "      <th>present_media</th>\n",
              "      <th>present_links</th>\n",
              "      <th>present_domains</th>\n",
              "      <th>language</th>\n",
              "      <th>tweet_timestamp</th>\n",
              "      <th>engaged_with_user_id</th>\n",
              "      <th>engaged_with_user_follower_count</th>\n",
              "      <th>engaged_with_user_following_count</th>\n",
              "      <th>engaged_with_user_is_verified</th>\n",
              "      <th>engaged_with_user_account_creation</th>\n",
              "      <th>engaging_user_id</th>\n",
              "      <th>engaging_user_follower_count</th>\n",
              "      <th>engaging_user_following_count</th>\n",
              "      <th>engaging_user_is_verified</th>\n",
              "      <th>engaging_user_account_creation</th>\n",
              "      <th>engagee_follows_engager</th>\n",
              "      <th>reply_timestamp</th>\n",
              "      <th>retweet_timestamp</th>\n",
              "      <th>retweet_with_comment_timestamp</th>\n",
              "      <th>text_len</th>\n",
              "      <th>retweet</th>\n",
              "      <th>quote</th>\n",
              "      <th>top</th>\n",
              "      <th>like</th>\n",
              "      <th>frequency</th>\n",
              "    </tr>\n",
              "  </thead>\n",
              "  <tbody>\n",
              "    <tr>\n",
              "      <th>7</th>\n",
              "      <td>101\\t164\\t100\\t166\\t47464\\t17734\\t10114\\t11850...</td>\n",
              "      <td>-0.354747</td>\n",
              "      <td>787DEDA041736D0B55A0C15E993682C1</td>\n",
              "      <td>-0.621253</td>\n",
              "      <td>-0.338471</td>\n",
              "      <td>-0.338471</td>\n",
              "      <td>488B32D24BD4BB44172EB981C1BCA6FA</td>\n",
              "      <td>1614132656</td>\n",
              "      <td>223797E039AFAC669C3A24A43B59CD5E</td>\n",
              "      <td>209681</td>\n",
              "      <td>141</td>\n",
              "      <td>0</td>\n",
              "      <td>1516334262</td>\n",
              "      <td>7</td>\n",
              "      <td>35</td>\n",
              "      <td>106</td>\n",
              "      <td>0</td>\n",
              "      <td>1581377629</td>\n",
              "      <td>0</td>\n",
              "      <td>NaN</td>\n",
              "      <td>NaN</td>\n",
              "      <td>NaN</td>\n",
              "      <td>-0.572570</td>\n",
              "      <td>0</td>\n",
              "      <td>1</td>\n",
              "      <td>0</td>\n",
              "      <td>1</td>\n",
              "      <td>8.0</td>\n",
              "    </tr>\n",
              "    <tr>\n",
              "      <th>543445</th>\n",
              "      <td>101\\t56898\\t137\\t148\\t42031\\t15417\\t19088\\t114...</td>\n",
              "      <td>-0.354747</td>\n",
              "      <td>29847B144E32F30C5C2DD16CDC1EF259</td>\n",
              "      <td>-0.621253</td>\n",
              "      <td>-0.338471</td>\n",
              "      <td>-0.338471</td>\n",
              "      <td>488B32D24BD4BB44172EB981C1BCA6FA</td>\n",
              "      <td>1613748193</td>\n",
              "      <td>3C89DB0BFC4D0207969515683D8A1058</td>\n",
              "      <td>607730</td>\n",
              "      <td>104</td>\n",
              "      <td>0</td>\n",
              "      <td>1400243591</td>\n",
              "      <td>7</td>\n",
              "      <td>35</td>\n",
              "      <td>106</td>\n",
              "      <td>0</td>\n",
              "      <td>1581377629</td>\n",
              "      <td>0</td>\n",
              "      <td>NaN</td>\n",
              "      <td>1.613749e+09</td>\n",
              "      <td>NaN</td>\n",
              "      <td>0.348912</td>\n",
              "      <td>1</td>\n",
              "      <td>0</td>\n",
              "      <td>0</td>\n",
              "      <td>0</td>\n",
              "      <td>8.0</td>\n",
              "    </tr>\n",
              "    <tr>\n",
              "      <th>680439</th>\n",
              "      <td>101\\t58573\\t131\\t137\\t193\\t22500\\t168\\t14731\\t...</td>\n",
              "      <td>0.541317</td>\n",
              "      <td>55EA3882CDC9369BF9A5344D76F6C5EC</td>\n",
              "      <td>0.499838</td>\n",
              "      <td>-0.338471</td>\n",
              "      <td>-0.338471</td>\n",
              "      <td>8729EBF694C3DAF61208A209C2A542C8</td>\n",
              "      <td>1612917000</td>\n",
              "      <td>1E4380A3AE8DBCD4E16BE7815A826FBA</td>\n",
              "      <td>341445</td>\n",
              "      <td>206</td>\n",
              "      <td>0</td>\n",
              "      <td>1461311652</td>\n",
              "      <td>7</td>\n",
              "      <td>35</td>\n",
              "      <td>106</td>\n",
              "      <td>0</td>\n",
              "      <td>1581377629</td>\n",
              "      <td>0</td>\n",
              "      <td>NaN</td>\n",
              "      <td>NaN</td>\n",
              "      <td>NaN</td>\n",
              "      <td>2.601423</td>\n",
              "      <td>0</td>\n",
              "      <td>0</td>\n",
              "      <td>0</td>\n",
              "      <td>1</td>\n",
              "      <td>8.0</td>\n",
              "    </tr>\n",
              "    <tr>\n",
              "      <th>1369403</th>\n",
              "      <td>101\\t100\\t14120\\t131\\t120\\t120\\t188\\t119\\t1117...</td>\n",
              "      <td>-0.354747</td>\n",
              "      <td>AE62799DC2A663D542FB92AAF531E5D1</td>\n",
              "      <td>0.499838</td>\n",
              "      <td>-0.338471</td>\n",
              "      <td>-0.338471</td>\n",
              "      <td>313ECD3A1E5BB07406E4249475C2D6D6</td>\n",
              "      <td>1612752917</td>\n",
              "      <td>4E94CC63145741EC47F0B7F657202BA6</td>\n",
              "      <td>32807755</td>\n",
              "      <td>141</td>\n",
              "      <td>1</td>\n",
              "      <td>1305959576</td>\n",
              "      <td>7</td>\n",
              "      <td>35</td>\n",
              "      <td>106</td>\n",
              "      <td>0</td>\n",
              "      <td>1581377629</td>\n",
              "      <td>0</td>\n",
              "      <td>NaN</td>\n",
              "      <td>NaN</td>\n",
              "      <td>NaN</td>\n",
              "      <td>-0.879731</td>\n",
              "      <td>0</td>\n",
              "      <td>0</td>\n",
              "      <td>0</td>\n",
              "      <td>1</td>\n",
              "      <td>8.0</td>\n",
              "    </tr>\n",
              "    <tr>\n",
              "      <th>1900419</th>\n",
              "      <td>101\\t56898\\t137\\t66238\\t11127\\t46382\\t131\\t827...</td>\n",
              "      <td>0.541317</td>\n",
              "      <td>48473E29DD77282DC875E137BA01A140</td>\n",
              "      <td>-0.621253</td>\n",
              "      <td>-0.338471</td>\n",
              "      <td>-0.338471</td>\n",
              "      <td>488B32D24BD4BB44172EB981C1BCA6FA</td>\n",
              "      <td>1613832624</td>\n",
              "      <td>167DA54259962F752BB57CDADDC49D89</td>\n",
              "      <td>141736</td>\n",
              "      <td>54</td>\n",
              "      <td>0</td>\n",
              "      <td>1543333956</td>\n",
              "      <td>7</td>\n",
              "      <td>35</td>\n",
              "      <td>106</td>\n",
              "      <td>0</td>\n",
              "      <td>1581377629</td>\n",
              "      <td>0</td>\n",
              "      <td>NaN</td>\n",
              "      <td>NaN</td>\n",
              "      <td>NaN</td>\n",
              "      <td>0.212396</td>\n",
              "      <td>1</td>\n",
              "      <td>0</td>\n",
              "      <td>0</td>\n",
              "      <td>1</td>\n",
              "      <td>8.0</td>\n",
              "    </tr>\n",
              "    <tr>\n",
              "      <th>2421270</th>\n",
              "      <td>101\\t164\\t10109\\t91113\\t12536\\t10113\\t168\\t181...</td>\n",
              "      <td>1.437381</td>\n",
              "      <td>C39BF4C5EAA5E25BC0717E2D45432192</td>\n",
              "      <td>0.499838</td>\n",
              "      <td>-0.338471</td>\n",
              "      <td>-0.338471</td>\n",
              "      <td>5A0759FB938B1D9B1E08B7A3A14F1042</td>\n",
              "      <td>1614179521</td>\n",
              "      <td>23592AA28F01AB84FC2D4C6C5EB8B996</td>\n",
              "      <td>70677</td>\n",
              "      <td>46</td>\n",
              "      <td>0</td>\n",
              "      <td>1566458680</td>\n",
              "      <td>7</td>\n",
              "      <td>35</td>\n",
              "      <td>106</td>\n",
              "      <td>0</td>\n",
              "      <td>1581377629</td>\n",
              "      <td>0</td>\n",
              "      <td>NaN</td>\n",
              "      <td>1.614180e+09</td>\n",
              "      <td>NaN</td>\n",
              "      <td>1.168007</td>\n",
              "      <td>0</td>\n",
              "      <td>0</td>\n",
              "      <td>0</td>\n",
              "      <td>1</td>\n",
              "      <td>8.0</td>\n",
              "    </tr>\n",
              "    <tr>\n",
              "      <th>2617249</th>\n",
              "      <td>101\\t97362\\t48281\\t106433\\t10415\\t10462\\t131\\t...</td>\n",
              "      <td>-0.354747</td>\n",
              "      <td>D8B794EE89D63F3D0AAF4336A919A336</td>\n",
              "      <td>-0.621253</td>\n",
              "      <td>2.577894</td>\n",
              "      <td>2.577894</td>\n",
              "      <td>488B32D24BD4BB44172EB981C1BCA6FA</td>\n",
              "      <td>1613501715</td>\n",
              "      <td>CE13D4ACB25B483D0B32E866E406BCFF</td>\n",
              "      <td>50701</td>\n",
              "      <td>76</td>\n",
              "      <td>0</td>\n",
              "      <td>1463690469</td>\n",
              "      <td>7</td>\n",
              "      <td>35</td>\n",
              "      <td>106</td>\n",
              "      <td>0</td>\n",
              "      <td>1581377629</td>\n",
              "      <td>0</td>\n",
              "      <td>NaN</td>\n",
              "      <td>NaN</td>\n",
              "      <td>NaN</td>\n",
              "      <td>0.212396</td>\n",
              "      <td>0</td>\n",
              "      <td>0</td>\n",
              "      <td>0</td>\n",
              "      <td>1</td>\n",
              "      <td>8.0</td>\n",
              "    </tr>\n",
              "    <tr>\n",
              "      <th>2687647</th>\n",
              "      <td>101\\t100\\t196\\t27277\\t49248\\t32992\\t82834\\t358...</td>\n",
              "      <td>0.541317</td>\n",
              "      <td>DA815D8556F98F0271D1D2E516B52AB4</td>\n",
              "      <td>0.499838</td>\n",
              "      <td>2.577894</td>\n",
              "      <td>2.577894</td>\n",
              "      <td>488B32D24BD4BB44172EB981C1BCA6FA</td>\n",
              "      <td>1612854213</td>\n",
              "      <td>F3115402B4DD8515B5A7E595AF752F09</td>\n",
              "      <td>53630</td>\n",
              "      <td>64</td>\n",
              "      <td>0</td>\n",
              "      <td>1554606279</td>\n",
              "      <td>7</td>\n",
              "      <td>35</td>\n",
              "      <td>106</td>\n",
              "      <td>0</td>\n",
              "      <td>1581377629</td>\n",
              "      <td>0</td>\n",
              "      <td>NaN</td>\n",
              "      <td>NaN</td>\n",
              "      <td>NaN</td>\n",
              "      <td>2.362521</td>\n",
              "      <td>0</td>\n",
              "      <td>0</td>\n",
              "      <td>0</td>\n",
              "      <td>1</td>\n",
              "      <td>8.0</td>\n",
              "    </tr>\n",
              "  </tbody>\n",
              "</table>\n",
              "</div>"
            ],
            "text/plain": [
              "                                               text_tokens  ...  frequency\n",
              "7        101\\t164\\t100\\t166\\t47464\\t17734\\t10114\\t11850...  ...        8.0\n",
              "543445   101\\t56898\\t137\\t148\\t42031\\t15417\\t19088\\t114...  ...        8.0\n",
              "680439   101\\t58573\\t131\\t137\\t193\\t22500\\t168\\t14731\\t...  ...        8.0\n",
              "1369403  101\\t100\\t14120\\t131\\t120\\t120\\t188\\t119\\t1117...  ...        8.0\n",
              "1900419  101\\t56898\\t137\\t66238\\t11127\\t46382\\t131\\t827...  ...        8.0\n",
              "2421270  101\\t164\\t10109\\t91113\\t12536\\t10113\\t168\\t181...  ...        8.0\n",
              "2617249  101\\t97362\\t48281\\t106433\\t10415\\t10462\\t131\\t...  ...        8.0\n",
              "2687647  101\\t100\\t196\\t27277\\t49248\\t32992\\t82834\\t358...  ...        8.0\n",
              "\n",
              "[8 rows x 28 columns]"
            ]
          },
          "metadata": {
            "tags": []
          },
          "execution_count": 22
        }
      ]
    },
    {
      "cell_type": "code",
      "metadata": {
        "id": "PTHGok-4hmwy"
      },
      "source": [
        "msk = np.random.rand(len(train)) < 0.8\n",
        "test=train[~msk]\n",
        "train=train[msk]"
      ],
      "execution_count": null,
      "outputs": []
    },
    {
      "cell_type": "code",
      "metadata": {
        "colab": {
          "base_uri": "https://localhost:8080/"
        },
        "id": "Br0ez1yPDD_w",
        "outputId": "34e03f3e-f2c7-4fc4-a401-b0ecdfce4c9d"
      },
      "source": [
        "target=train[\"like\"].values\n",
        "targetTest=test[\"like\"].values\n",
        "gc.collect()"
      ],
      "execution_count": null,
      "outputs": [
        {
          "output_type": "execute_result",
          "data": {
            "text/plain": [
              "50"
            ]
          },
          "metadata": {
            "tags": []
          },
          "execution_count": 24
        }
      ]
    },
    {
      "cell_type": "code",
      "metadata": {
        "id": "qAfmKinwE_FR",
        "colab": {
          "base_uri": "https://localhost:8080/"
        },
        "outputId": "2fe768f0-72a3-49f7-ec06-92689fb3017e"
      },
      "source": [
        "for col in train.columns:\n",
        "    if col not in features:\n",
        "        train.drop(col,axis=1,inplace=True)\n",
        "        test.drop(col,axis=1,inplace=True)"
      ],
      "execution_count": null,
      "outputs": [
        {
          "output_type": "stream",
          "text": [
            "/usr/local/lib/python3.7/dist-packages/pandas/core/frame.py:4174: SettingWithCopyWarning: \n",
            "A value is trying to be set on a copy of a slice from a DataFrame\n",
            "\n",
            "See the caveats in the documentation: https://pandas.pydata.org/pandas-docs/stable/user_guide/indexing.html#returning-a-view-versus-a-copy\n",
            "  errors=errors,\n"
          ],
          "name": "stderr"
        }
      ]
    },
    {
      "cell_type": "code",
      "metadata": {
        "colab": {
          "base_uri": "https://localhost:8080/"
        },
        "id": "tREDN7guKbXD",
        "outputId": "e33454c7-958f-4596-8ab4-2535e22dfc7f"
      },
      "source": [
        "train.columns"
      ],
      "execution_count": null,
      "outputs": [
        {
          "output_type": "execute_result",
          "data": {
            "text/plain": [
              "Index(['text_tokens', 'hashtags', 'present_media', 'present_links',\n",
              "       'present_domains', 'engaged_with_user_is_verified', 'engaging_user_id',\n",
              "       'engaging_user_is_verified', 'engagee_follows_engager', 'text_len',\n",
              "       'retweet', 'quote', 'top'],\n",
              "      dtype='object')"
            ]
          },
          "metadata": {
            "tags": []
          },
          "execution_count": 26
        }
      ]
    },
    {
      "cell_type": "code",
      "metadata": {
        "id": "iuuVH73FHknd"
      },
      "source": [
        "train=train[['text_tokens', 'hashtags', 'present_media', 'present_links',\n",
        "       'present_domains', 'text_len',\n",
        "       'retweet', 'quote', 'top',\n",
        "       'engaging_user_is_verified', 'engagee_follows_engager','engaged_with_user_is_verified',  'engaging_user_id']]\n",
        "test=test[['text_tokens', 'hashtags', 'present_media', 'present_links',\n",
        "       'present_domains', 'text_len',\n",
        "       'retweet', 'quote', 'top',\n",
        "       'engaging_user_is_verified', 'engagee_follows_engager','engaged_with_user_is_verified',  'engaging_user_id']]"
      ],
      "execution_count": null,
      "outputs": []
    },
    {
      "cell_type": "code",
      "metadata": {
        "colab": {
          "base_uri": "https://localhost:8080/"
        },
        "id": "Y7bke67jIBJ3",
        "outputId": "e2203d8c-0190-4b2d-defd-fa066a65f0dc"
      },
      "source": [
        "train.head()"
      ],
      "execution_count": null,
      "outputs": [
        {
          "output_type": "execute_result",
          "data": {
            "text/html": [
              "<div>\n",
              "<style scoped>\n",
              "    .dataframe tbody tr th:only-of-type {\n",
              "        vertical-align: middle;\n",
              "    }\n",
              "\n",
              "    .dataframe tbody tr th {\n",
              "        vertical-align: top;\n",
              "    }\n",
              "\n",
              "    .dataframe thead th {\n",
              "        text-align: right;\n",
              "    }\n",
              "</style>\n",
              "<table border=\"1\" class=\"dataframe\">\n",
              "  <thead>\n",
              "    <tr style=\"text-align: right;\">\n",
              "      <th></th>\n",
              "      <th>text_tokens</th>\n",
              "      <th>hashtags</th>\n",
              "      <th>present_media</th>\n",
              "      <th>present_links</th>\n",
              "      <th>present_domains</th>\n",
              "      <th>text_len</th>\n",
              "      <th>retweet</th>\n",
              "      <th>quote</th>\n",
              "      <th>top</th>\n",
              "      <th>engaging_user_is_verified</th>\n",
              "      <th>engagee_follows_engager</th>\n",
              "      <th>engaged_with_user_is_verified</th>\n",
              "      <th>engaging_user_id</th>\n",
              "    </tr>\n",
              "  </thead>\n",
              "  <tbody>\n",
              "    <tr>\n",
              "      <th>7</th>\n",
              "      <td>101\\t164\\t100\\t166\\t47464\\t17734\\t10114\\t11850...</td>\n",
              "      <td>-0.354747</td>\n",
              "      <td>-0.621253</td>\n",
              "      <td>-0.338471</td>\n",
              "      <td>-0.338471</td>\n",
              "      <td>-0.572570</td>\n",
              "      <td>0</td>\n",
              "      <td>1</td>\n",
              "      <td>0</td>\n",
              "      <td>0</td>\n",
              "      <td>0</td>\n",
              "      <td>0</td>\n",
              "      <td>7</td>\n",
              "    </tr>\n",
              "    <tr>\n",
              "      <th>42</th>\n",
              "      <td>101\\t15764\\t10700\\t763\\t24455\\t17329\\t19163\\t1...</td>\n",
              "      <td>-0.354747</td>\n",
              "      <td>-0.621253</td>\n",
              "      <td>-0.338471</td>\n",
              "      <td>-0.338471</td>\n",
              "      <td>-1.152762</td>\n",
              "      <td>0</td>\n",
              "      <td>0</td>\n",
              "      <td>0</td>\n",
              "      <td>0</td>\n",
              "      <td>1</td>\n",
              "      <td>0</td>\n",
              "      <td>42</td>\n",
              "    </tr>\n",
              "    <tr>\n",
              "      <th>88</th>\n",
              "      <td>101\\t100\\t14120\\t131\\t120\\t120\\t188\\t119\\t1117...</td>\n",
              "      <td>-0.354747</td>\n",
              "      <td>0.499838</td>\n",
              "      <td>-0.338471</td>\n",
              "      <td>-0.338471</td>\n",
              "      <td>-0.879731</td>\n",
              "      <td>0</td>\n",
              "      <td>0</td>\n",
              "      <td>0</td>\n",
              "      <td>0</td>\n",
              "      <td>1</td>\n",
              "      <td>0</td>\n",
              "      <td>88</td>\n",
              "    </tr>\n",
              "    <tr>\n",
              "      <th>100</th>\n",
              "      <td>101\\t10117\\t10817\\t10124\\t16683\\t10452\\t89025\\...</td>\n",
              "      <td>-0.354747</td>\n",
              "      <td>-0.621253</td>\n",
              "      <td>-0.338471</td>\n",
              "      <td>-0.338471</td>\n",
              "      <td>-0.572570</td>\n",
              "      <td>0</td>\n",
              "      <td>0</td>\n",
              "      <td>0</td>\n",
              "      <td>0</td>\n",
              "      <td>0</td>\n",
              "      <td>1</td>\n",
              "      <td>100</td>\n",
              "    </tr>\n",
              "    <tr>\n",
              "      <th>102</th>\n",
              "      <td>101\\t14962\\t10114\\t29922\\t10105\\t14428\\t26623\\...</td>\n",
              "      <td>-0.354747</td>\n",
              "      <td>-0.621253</td>\n",
              "      <td>2.577894</td>\n",
              "      <td>2.577894</td>\n",
              "      <td>-0.504312</td>\n",
              "      <td>0</td>\n",
              "      <td>0</td>\n",
              "      <td>0</td>\n",
              "      <td>0</td>\n",
              "      <td>0</td>\n",
              "      <td>1</td>\n",
              "      <td>102</td>\n",
              "    </tr>\n",
              "  </tbody>\n",
              "</table>\n",
              "</div>"
            ],
            "text/plain": [
              "                                           text_tokens  ...  engaging_user_id\n",
              "7    101\\t164\\t100\\t166\\t47464\\t17734\\t10114\\t11850...  ...                 7\n",
              "42   101\\t15764\\t10700\\t763\\t24455\\t17329\\t19163\\t1...  ...                42\n",
              "88   101\\t100\\t14120\\t131\\t120\\t120\\t188\\t119\\t1117...  ...                88\n",
              "100  101\\t10117\\t10817\\t10124\\t16683\\t10452\\t89025\\...  ...               100\n",
              "102  101\\t14962\\t10114\\t29922\\t10105\\t14428\\t26623\\...  ...               102\n",
              "\n",
              "[5 rows x 13 columns]"
            ]
          },
          "metadata": {
            "tags": []
          },
          "execution_count": 28
        }
      ]
    },
    {
      "cell_type": "code",
      "metadata": {
        "colab": {
          "base_uri": "https://localhost:8080/"
        },
        "id": "ZbdL00uFl30d",
        "outputId": "eb61b2ff-7337-4d08-815d-096f906eb58f"
      },
      "source": [
        "test.head()"
      ],
      "execution_count": null,
      "outputs": [
        {
          "output_type": "execute_result",
          "data": {
            "text/html": [
              "<div>\n",
              "<style scoped>\n",
              "    .dataframe tbody tr th:only-of-type {\n",
              "        vertical-align: middle;\n",
              "    }\n",
              "\n",
              "    .dataframe tbody tr th {\n",
              "        vertical-align: top;\n",
              "    }\n",
              "\n",
              "    .dataframe thead th {\n",
              "        text-align: right;\n",
              "    }\n",
              "</style>\n",
              "<table border=\"1\" class=\"dataframe\">\n",
              "  <thead>\n",
              "    <tr style=\"text-align: right;\">\n",
              "      <th></th>\n",
              "      <th>text_tokens</th>\n",
              "      <th>hashtags</th>\n",
              "      <th>present_media</th>\n",
              "      <th>present_links</th>\n",
              "      <th>present_domains</th>\n",
              "      <th>text_len</th>\n",
              "      <th>retweet</th>\n",
              "      <th>quote</th>\n",
              "      <th>top</th>\n",
              "      <th>engaging_user_is_verified</th>\n",
              "      <th>engagee_follows_engager</th>\n",
              "      <th>engaged_with_user_is_verified</th>\n",
              "      <th>engaging_user_id</th>\n",
              "    </tr>\n",
              "  </thead>\n",
              "  <tbody>\n",
              "    <tr>\n",
              "      <th>161</th>\n",
              "      <td>101\\t14120\\t131\\t120\\t120\\t188\\t119\\t11170\\t12...</td>\n",
              "      <td>-0.354747</td>\n",
              "      <td>3.863112</td>\n",
              "      <td>-0.338471</td>\n",
              "      <td>-0.338471</td>\n",
              "      <td>-0.913860</td>\n",
              "      <td>0</td>\n",
              "      <td>0</td>\n",
              "      <td>0</td>\n",
              "      <td>0</td>\n",
              "      <td>1</td>\n",
              "      <td>0</td>\n",
              "      <td>161</td>\n",
              "    </tr>\n",
              "    <tr>\n",
              "      <th>163</th>\n",
              "      <td>101\\t752\\t216\\t775\\t105563\\t105563\\t105563\\t10...</td>\n",
              "      <td>0.541317</td>\n",
              "      <td>-0.621253</td>\n",
              "      <td>-0.338471</td>\n",
              "      <td>-0.338471</td>\n",
              "      <td>0.144138</td>\n",
              "      <td>0</td>\n",
              "      <td>0</td>\n",
              "      <td>0</td>\n",
              "      <td>0</td>\n",
              "      <td>1</td>\n",
              "      <td>0</td>\n",
              "      <td>163</td>\n",
              "    </tr>\n",
              "    <tr>\n",
              "      <th>174</th>\n",
              "      <td>101\\t56898\\t137\\t10105\\t17353\\t42241\\t10219\\t1...</td>\n",
              "      <td>1.437381</td>\n",
              "      <td>-0.621253</td>\n",
              "      <td>-0.338471</td>\n",
              "      <td>-0.338471</td>\n",
              "      <td>0.212396</td>\n",
              "      <td>1</td>\n",
              "      <td>0</td>\n",
              "      <td>0</td>\n",
              "      <td>0</td>\n",
              "      <td>1</td>\n",
              "      <td>0</td>\n",
              "      <td>174</td>\n",
              "    </tr>\n",
              "    <tr>\n",
              "      <th>376</th>\n",
              "      <td>101\\t2072\\t2179\\t4340\\t216\\t216\\t108\\t7143\\t19...</td>\n",
              "      <td>0.541317</td>\n",
              "      <td>1.620930</td>\n",
              "      <td>-0.338471</td>\n",
              "      <td>-0.338471</td>\n",
              "      <td>-0.197151</td>\n",
              "      <td>0</td>\n",
              "      <td>0</td>\n",
              "      <td>0</td>\n",
              "      <td>0</td>\n",
              "      <td>1</td>\n",
              "      <td>0</td>\n",
              "      <td>376</td>\n",
              "    </tr>\n",
              "    <tr>\n",
              "      <th>401</th>\n",
              "      <td>101\\t100\\t216\\t108\\t1915\\t26554\\t38352\\t64126\\...</td>\n",
              "      <td>1.437381</td>\n",
              "      <td>0.499838</td>\n",
              "      <td>-0.338471</td>\n",
              "      <td>-0.338471</td>\n",
              "      <td>-0.231280</td>\n",
              "      <td>0</td>\n",
              "      <td>0</td>\n",
              "      <td>0</td>\n",
              "      <td>0</td>\n",
              "      <td>0</td>\n",
              "      <td>0</td>\n",
              "      <td>401</td>\n",
              "    </tr>\n",
              "  </tbody>\n",
              "</table>\n",
              "</div>"
            ],
            "text/plain": [
              "                                           text_tokens  ...  engaging_user_id\n",
              "161  101\\t14120\\t131\\t120\\t120\\t188\\t119\\t11170\\t12...  ...               161\n",
              "163  101\\t752\\t216\\t775\\t105563\\t105563\\t105563\\t10...  ...               163\n",
              "174  101\\t56898\\t137\\t10105\\t17353\\t42241\\t10219\\t1...  ...               174\n",
              "376  101\\t2072\\t2179\\t4340\\t216\\t216\\t108\\t7143\\t19...  ...               376\n",
              "401  101\\t100\\t216\\t108\\t1915\\t26554\\t38352\\t64126\\...  ...               401\n",
              "\n",
              "[5 rows x 13 columns]"
            ]
          },
          "metadata": {
            "tags": []
          },
          "execution_count": 29
        }
      ]
    },
    {
      "cell_type": "code",
      "metadata": {
        "colab": {
          "base_uri": "https://localhost:8080/"
        },
        "id": "OKioxhLOmBvX",
        "outputId": "a3287352-adab-4fcb-96a1-4db59f233b63"
      },
      "source": [
        "train['engaging_user_id'].nunique()"
      ],
      "execution_count": null,
      "outputs": [
        {
          "output_type": "execute_result",
          "data": {
            "text/plain": [
              "70899"
            ]
          },
          "metadata": {
            "tags": []
          },
          "execution_count": 30
        }
      ]
    },
    {
      "cell_type": "code",
      "metadata": {
        "colab": {
          "base_uri": "https://localhost:8080/"
        },
        "id": "-xVf6dbUmEu3",
        "outputId": "272f3577-88a4-4336-9fa6-9a2bf051ea4c"
      },
      "source": [
        "test['engaging_user_id'].nunique()"
      ],
      "execution_count": null,
      "outputs": [
        {
          "output_type": "execute_result",
          "data": {
            "text/plain": [
              "21335"
            ]
          },
          "metadata": {
            "tags": []
          },
          "execution_count": 31
        }
      ]
    },
    {
      "cell_type": "code",
      "metadata": {
        "colab": {
          "base_uri": "https://localhost:8080/"
        },
        "id": "p9FNjB0aH8DG",
        "outputId": "5ef6d757-ae34-4bda-938f-68f31503269a"
      },
      "source": [
        "gc.collect()"
      ],
      "execution_count": null,
      "outputs": [
        {
          "output_type": "execute_result",
          "data": {
            "text/plain": [
              "226"
            ]
          },
          "metadata": {
            "tags": []
          },
          "execution_count": 32
        }
      ]
    },
    {
      "cell_type": "code",
      "metadata": {
        "id": "j1A87LBiE-9f"
      },
      "source": [
        "input=train.values\n",
        "inputTest=test.values"
      ],
      "execution_count": null,
      "outputs": []
    },
    {
      "cell_type": "code",
      "metadata": {
        "id": "RyZuuqaR7hU_"
      },
      "source": [
        "import random\n",
        "idx=0\n",
        "\n",
        "#random.Random(idx).shuffle(input)\n",
        "#random.Random(idx).shuffle(target)"
      ],
      "execution_count": null,
      "outputs": []
    },
    {
      "cell_type": "markdown",
      "metadata": {
        "id": "pmn9b6XCAW4K"
      },
      "source": [
        "###Model Definition"
      ]
    },
    {
      "cell_type": "code",
      "metadata": {
        "id": "nk_k0TYnQfFB"
      },
      "source": [
        "NUM_TOKENS=511\n",
        "NUM_FEATURES=8\n",
        "REL_FEATURES=3\n",
        "EMB_SIZE=64\n",
        "EMBEDDING_INPUT_SIZE=len(uniques)+1"
      ],
      "execution_count": null,
      "outputs": []
    },
    {
      "cell_type": "code",
      "metadata": {
        "id": "Hl8ZjKzfVOr9"
      },
      "source": [
        "config = BertConfig.from_pretrained(\"bert-base-multilingual-cased\", output_hidden_states=False)"
      ],
      "execution_count": null,
      "outputs": []
    },
    {
      "cell_type": "code",
      "metadata": {
        "colab": {
          "base_uri": "https://localhost:8080/"
        },
        "id": "p8UqcbVCXvos",
        "outputId": "420451de-c543-4148-e85e-6f07e7191309"
      },
      "source": [
        "#encoder = TFBertModel.from_pretrained('bert-base-multilingual-cased', config=config)\n",
        "#encoder = TFBertForSequenceClassification.from_pretrained('bert-base-multilingual-cased', config=config)\n",
        "encoder = TFDistilBertModel.from_pretrained('distilbert-base-multilingual-cased')"
      ],
      "execution_count": null,
      "outputs": [
        {
          "output_type": "stream",
          "text": [
            "Some layers from the model checkpoint at distilbert-base-multilingual-cased were not used when initializing TFDistilBertModel: ['vocab_transform', 'vocab_projector', 'activation_13', 'vocab_layer_norm']\n",
            "- This IS expected if you are initializing TFDistilBertModel from the checkpoint of a model trained on another task or with another architecture (e.g. initializing a BertForSequenceClassification model from a BertForPreTraining model).\n",
            "- This IS NOT expected if you are initializing TFDistilBertModel from the checkpoint of a model that you expect to be exactly identical (initializing a BertForSequenceClassification model from a BertForSequenceClassification model).\n",
            "All the layers of TFDistilBertModel were initialized from the model checkpoint at distilbert-base-multilingual-cased.\n",
            "If your task is similar to the task the model of the checkpoint was trained on, you can already use TFDistilBertModel for predictions without further training.\n"
          ],
          "name": "stderr"
        }
      ]
    },
    {
      "cell_type": "code",
      "metadata": {
        "id": "dKOqOMHN0Dke"
      },
      "source": [
        "encoder.trainable=False"
      ],
      "execution_count": null,
      "outputs": []
    },
    {
      "cell_type": "code",
      "metadata": {
        "id": "nqUMObSPQWyv"
      },
      "source": [
        "input_ids = layers.Input(shape=(NUM_TOKENS,), dtype=tf.int32,name=\"tokens\")\n",
        "attention_mask = layers.Input(shape=(NUM_TOKENS,), dtype=tf.int32,name=\"mask\")\n",
        "#embedding = encoder(       {\"input_ids\":input_ids,\"attention_mask\":attention_mask})[1]\n",
        "embedding = encoder(       {\"input_ids\":input_ids,\"attention_mask\":attention_mask})[0]\n",
        "#encoder({\"input_ids\":input_ids,\"attention_mask\":attention_mask})\n",
        "\n",
        "#embeddingFixed=layers.Flatten()(embedding)\n",
        "embeddingFixed=layers.GlobalAveragePooling1D()(embedding)\n"
      ],
      "execution_count": null,
      "outputs": []
    },
    {
      "cell_type": "code",
      "metadata": {
        "id": "h-R_lFa6YLvK"
      },
      "source": [
        "inputs1 = layers.Dense(EMB_SIZE, name=\"emb_text\",activation=\"relu\")(embeddingFixed)\n",
        "\n",
        "inputs2 = layers.Input(shape=(NUM_FEATURES,), name=\"tweet_features\")\n",
        "inputs3 = layers.Input(shape=(REL_FEATURES,), name=\"relationship_features\")\n",
        "inputs4 = layers.Input(shape=(1,), name=\"userId\")\n",
        "#emb_init=tf.keras.initializers.Zeros()\n",
        "#emb_init=tf.keras.initializers.glorot_normal(seed=1)\n",
        "emb_init=tf.keras.initializers.Constant(0.01)\n",
        "\n",
        "user_emb = layers.Embedding(EMBEDDING_INPUT_SIZE, EMB_SIZE, input_length=1,embeddings_initializer=emb_init)(inputs4)\n",
        "user_emb_flat = layers.Flatten()(user_emb)\n",
        "concat = layers.Concatenate()([inputs1,inputs2,inputs3,user_emb_flat])\n",
        "\n",
        "#concat = layers.Concatenate()([embeddingFixed,inputs2,inputs3,user_emb_flat])\n",
        "\n",
        "hiddenLayer= layers.Dense(64,activation=\"relu\")(concat)\n",
        "drop=layers.Dropout(0.5)(hiddenLayer)\n",
        "out=layers.Dense(1,kernel_regularizer=regularizers.l2(1e-4),activation=\"sigmoid\")(drop)"
      ],
      "execution_count": null,
      "outputs": []
    },
    {
      "cell_type": "code",
      "metadata": {
        "id": "CL3eHzYuYPPI"
      },
      "source": [
        "#model=keras.Model(inputs=[input_ids,inputs2,inputs3,inputs4], outputs=out, name=\"NN\")\n",
        "model=keras.Model(inputs=[input_ids,attention_mask,inputs2,inputs3,inputs4], outputs=out, name=\"NN\")\n",
        "model2=keras.Model(inputs=[inputs4],outputs=user_emb_flat)"
      ],
      "execution_count": null,
      "outputs": []
    },
    {
      "cell_type": "code",
      "metadata": {
        "colab": {
          "base_uri": "https://localhost:8080/"
        },
        "id": "yIMHdyy4XudZ",
        "outputId": "5d10c6ca-6a30-45c0-aea7-b43bccf8b301"
      },
      "source": [
        "from keras.utils.vis_utils import plot_model\n",
        "plot_model(model, to_file='model_plot.png', show_shapes=True, show_layer_names=True)"
      ],
      "execution_count": null,
      "outputs": [
        {
          "output_type": "execute_result",
          "data": {
            "image/png": "[encoded data removed]",
            "text/plain": [
              "<IPython.core.display.Image object>"
            ]
          },
          "metadata": {
            "tags": []
          },
          "execution_count": 42
        }
      ]
    },
    {
      "cell_type": "code",
      "metadata": {
        "colab": {
          "base_uri": "https://localhost:8080/"
        },
        "id": "Atwxjju2yWl2",
        "outputId": "e9b66424-d0c3-4025-916d-03bf10728223"
      },
      "source": [
        "from keras.utils.vis_utils import plot_model\n",
        "plot_model(model2, to_file='model2_plot.png', show_shapes=True, show_layer_names=True)"
      ],
      "execution_count": null,
      "outputs": [
        {
          "output_type": "execute_result",
          "data": {
            "image/png": "[encoded data removed]",
            "text/plain": [
              "<IPython.core.display.Image object>"
            ]
          },
          "metadata": {
            "tags": []
          },
          "execution_count": 43
        }
      ]
    },
    {
      "cell_type": "code",
      "metadata": {
        "id": "3g8hhy2KZ1gD"
      },
      "source": [
        "text=[101,3653,1291,102]+[0]*(NUM_TOKENS-4)\n",
        "def att(token):\n",
        "    return 0 if token==0 else 1\n",
        "attention=[att(t) for t in text]"
      ],
      "execution_count": null,
      "outputs": []
    },
    {
      "cell_type": "code",
      "metadata": {
        "colab": {
          "base_uri": "https://localhost:8080/"
        },
        "id": "50baVo21Z4Kn",
        "outputId": "c4a7b9e2-3765-43d8-d239-5c6c3bc2620a"
      },
      "source": [
        "model([tf.constant(text,shape=(1,NUM_TOKENS)),tf.constant(attention,shape=(1,NUM_TOKENS)),tf.constant([0]*NUM_FEATURES,shape=(1,NUM_FEATURES)),tf.constant([0]*REL_FEATURES,shape=(1,REL_FEATURES)),tf.constant(1,shape=(1,1))])\n",
        "#model([tf.constant(text,shape=(1,NUM_TOKENS)),tf.constant([0]*NUM_FEATURES,shape=(1,NUM_FEATURES)),tf.constant([0]*REL_FEATURES,shape=(1,REL_FEATURES)),tf.constant([0]*EMB_SIZE,shape=(1,EMB_SIZE))])"
      ],
      "execution_count": null,
      "outputs": [
        {
          "output_type": "execute_result",
          "data": {
            "text/plain": [
              "<tf.Tensor: shape=(1, 1), dtype=float32, numpy=array([[0.48479447]], dtype=float32)>"
            ]
          },
          "metadata": {
            "tags": []
          },
          "execution_count": 45
        }
      ]
    },
    {
      "cell_type": "code",
      "metadata": {
        "colab": {
          "base_uri": "https://localhost:8080/"
        },
        "id": "1PlLIBaByZPy",
        "outputId": "c84bb926-ba98-47b4-80a2-0d31274d70f6"
      },
      "source": [
        "model2([tf.constant(0,shape=(1,1))])"
      ],
      "execution_count": null,
      "outputs": [
        {
          "output_type": "execute_result",
          "data": {
            "text/plain": [
              "<tf.Tensor: shape=(1, 64), dtype=float32, numpy=\n",
              "array([[0.01, 0.01, 0.01, 0.01, 0.01, 0.01, 0.01, 0.01, 0.01, 0.01, 0.01,\n",
              "        0.01, 0.01, 0.01, 0.01, 0.01, 0.01, 0.01, 0.01, 0.01, 0.01, 0.01,\n",
              "        0.01, 0.01, 0.01, 0.01, 0.01, 0.01, 0.01, 0.01, 0.01, 0.01, 0.01,\n",
              "        0.01, 0.01, 0.01, 0.01, 0.01, 0.01, 0.01, 0.01, 0.01, 0.01, 0.01,\n",
              "        0.01, 0.01, 0.01, 0.01, 0.01, 0.01, 0.01, 0.01, 0.01, 0.01, 0.01,\n",
              "        0.01, 0.01, 0.01, 0.01, 0.01, 0.01, 0.01, 0.01, 0.01]],\n",
              "      dtype=float32)>"
            ]
          },
          "metadata": {
            "tags": []
          },
          "execution_count": 46
        }
      ]
    },
    {
      "cell_type": "code",
      "metadata": {
        "colab": {
          "base_uri": "https://localhost:8080/"
        },
        "id": "m5PYkV4nXCOY",
        "outputId": "44da2c34-8a9b-4a36-ebe8-c56bb6b54ae4"
      },
      "source": [
        "model2([tf.constant(1,shape=(1,1))])"
      ],
      "execution_count": null,
      "outputs": [
        {
          "output_type": "execute_result",
          "data": {
            "text/plain": [
              "<tf.Tensor: shape=(1, 64), dtype=float32, numpy=\n",
              "array([[0.01, 0.01, 0.01, 0.01, 0.01, 0.01, 0.01, 0.01, 0.01, 0.01, 0.01,\n",
              "        0.01, 0.01, 0.01, 0.01, 0.01, 0.01, 0.01, 0.01, 0.01, 0.01, 0.01,\n",
              "        0.01, 0.01, 0.01, 0.01, 0.01, 0.01, 0.01, 0.01, 0.01, 0.01, 0.01,\n",
              "        0.01, 0.01, 0.01, 0.01, 0.01, 0.01, 0.01, 0.01, 0.01, 0.01, 0.01,\n",
              "        0.01, 0.01, 0.01, 0.01, 0.01, 0.01, 0.01, 0.01, 0.01, 0.01, 0.01,\n",
              "        0.01, 0.01, 0.01, 0.01, 0.01, 0.01, 0.01, 0.01, 0.01]],\n",
              "      dtype=float32)>"
            ]
          },
          "metadata": {
            "tags": []
          },
          "execution_count": 47
        }
      ]
    },
    {
      "cell_type": "markdown",
      "metadata": {
        "id": "ku__0yJjejFV"
      },
      "source": [
        "###Model parameters"
      ]
    },
    {
      "cell_type": "code",
      "metadata": {
        "id": "A7GLpbrHr1QF"
      },
      "source": [
        "import tensorflow.keras.backend as K\n",
        "\n",
        "def create_weighted_binary_crossentropy(zero_weight, one_weight):\n",
        "    def weighted_binary_crossentropy(y_true, y_pred):\n",
        "        b_ce = K.binary_crossentropy(y_true, y_pred)\n",
        "        weight_vector = y_true * one_weight + (1. - y_true) * zero_weight\n",
        "        weighted_b_ce = weight_vector * b_ce\n",
        "        return K.mean(weighted_b_ce)\n",
        "    return weighted_binary_crossentropy"
      ],
      "execution_count": null,
      "outputs": []
    },
    {
      "cell_type": "code",
      "metadata": {
        "id": "408Xt8yCzVeC"
      },
      "source": [
        "loss=create_weighted_binary_crossentropy(1, 3)\n",
        "#loss=tf.keras.losses.BinaryCrossentropy()#   from_logits=True)\n",
        "lr=0.0003\n",
        "optimizer=tf.keras.optimizers.Adam(learning_rate=lr)\n",
        "train_acc_metric=tf.keras.metrics.AUC(curve=\"PR\")\n",
        "#train_acc_metric=tf.keras.metrics.BinaryCrossentropy(name=\"binary_crossentropy\", dtype=None, from_logits=False, label_smoothing=0)\n",
        "#train_acc_metric=tf.keras.metrics.MeanSquaredError()\n",
        "#train_acc_metric=tf.keras.metrics.MeanAbsoluteError(name=\"mean_absolute_error\", dtype=None)\n",
        "model.compile(loss=loss,optimizer=optimizer,metrics=train_acc_metric)"
      ],
      "execution_count": null,
      "outputs": []
    },
    {
      "cell_type": "markdown",
      "metadata": {
        "id": "Ttxz4vkEsPtd"
      },
      "source": [
        "###Custom Dataset"
      ]
    },
    {
      "cell_type": "markdown",
      "metadata": {
        "id": "rb_jp0Tu_8zj"
      },
      "source": [
        "####CreateDatasetObject"
      ]
    },
    {
      "cell_type": "markdown",
      "metadata": {
        "id": "O9utweCN__2L"
      },
      "source": [
        "#####Old test version"
      ]
    },
    {
      "cell_type": "code",
      "metadata": {
        "id": "ylSrblW-uHFE"
      },
      "source": [
        "class DatasetFixed:\n",
        "    def __init__(self):\n",
        "        pass\n",
        "\n",
        "    def __iter__(self):\n",
        "        return self\n",
        "\n",
        "    def __next__(self):\n",
        "        return [tf.constant(text,shape=(1,NUM_TOKENS)),tf.constant(attention,shape=(1,NUM_TOKENS)),tf.constant([0]*NUM_FEATURES,shape=(1,NUM_FEATURES)),tf.constant([0]*REL_FEATURES,shape=(1,REL_FEATURES)),1]\n",
        "        raise StopIteration"
      ],
      "execution_count": null,
      "outputs": []
    },
    {
      "cell_type": "code",
      "metadata": {
        "id": "UJ_T5E0du42W"
      },
      "source": [
        "train_dataset=DatasetFixed()"
      ],
      "execution_count": null,
      "outputs": []
    },
    {
      "cell_type": "markdown",
      "metadata": {
        "id": "JIOJSPxtACuc"
      },
      "source": [
        "#####Correct version"
      ]
    },
    {
      "cell_type": "code",
      "metadata": {
        "id": "sAU6ZO3QACue"
      },
      "source": [
        "\n",
        "def generator(input,output):\n",
        "    while True:\n",
        "        for i in range(len(input)):\n",
        "            row=input[i]\n",
        "            out=output[i]\n",
        "            text=[int(t) for t in row[0].split(\"\\t\")]\n",
        "            att=([1]*len(text))+[0]*(NUM_TOKENS-len(text))\n",
        "            text=text+[0]*(NUM_TOKENS-len(text))\n",
        "            feats=[*row[1:9]]\n",
        "            rel=[*row[9:12]]\n",
        "            user=row[12]\n",
        "            yield [tf.constant(text,shape=(1,NUM_TOKENS)),\n",
        "                   tf.constant(att,shape=(1,NUM_TOKENS)),\n",
        "                   tf.constant(feats,shape=(1,NUM_FEATURES)),\n",
        "                   tf.constant(rel,shape=(1,REL_FEATURES)),\n",
        "                   tf.constant(user,shape=(1,1)),\n",
        "                   tf.constant(out,shape=(1,1),dtype=tf.float32)]\n",
        "class DatasetFixed:\n",
        "    def __init__(self,input,output):\n",
        "        self.len=len(input)\n",
        "        self.iteration=0\n",
        "        self.gen=generator(input,output)\n",
        "\n",
        "    def __iter__(self):\n",
        "        return self\n",
        "\n",
        "    def __next__(self):\n",
        "        self.iteration+=1\n",
        "        if self.iteration>self.len:\n",
        "            self.iteration=0\n",
        "            raise StopIteration\n",
        "        return next(self.gen)\n",
        "       "
      ],
      "execution_count": null,
      "outputs": []
    },
    {
      "cell_type": "code",
      "metadata": {
        "id": "mGCUqFsyACuh"
      },
      "source": [
        "train_dataset=DatasetFixed(input,target)"
      ],
      "execution_count": null,
      "outputs": []
    },
    {
      "cell_type": "markdown",
      "metadata": {
        "id": "8CGWUQR9oFmm"
      },
      "source": [
        "#####Single KerasCustomGenerator"
      ]
    },
    {
      "cell_type": "code",
      "metadata": {
        "id": "IhfJ5UCOoFmo"
      },
      "source": [
        "import numpy as np\n",
        "import keras\n",
        "\n",
        "class SingleDataGenerator(keras.utils.Sequence):\n",
        "    'Generates data for Keras'\n",
        "    def __init__(self,inputs, outputs,tweet_data_size,rel_data_size,num_tokens):\n",
        "        'Initialization'\n",
        "        self.inputs = inputs\n",
        "        self.outputs = outputs\n",
        "        self.length= len(inputs)\n",
        "        self.tweet_data_size=tweet_data_size\n",
        "        self.rel_data_size=rel_data_size\n",
        "        self.num_tokens=num_tokens\n",
        "        self.on_epoch_end()\n",
        "\n",
        "    def __len__(self):\n",
        "        'Denotes the number of batches per epoch'\n",
        "        return self.length\n",
        "\n",
        "    def __getitem__(self, index):\n",
        "        'Generate one batch of data'\n",
        "        # Generate indexes of the batch\n",
        "\n",
        "        # Find list of IDs\n",
        "\n",
        "        # Generate data\n",
        "        X, y = self.__data_generation(index)\n",
        "\n",
        "        return X, y\n",
        "\n",
        "    def on_epoch_end(self):\n",
        "        'Updates indexes after each epoch'\n",
        "        pass\n",
        "\n",
        "    def __data_generation(self, indexes):\n",
        "        'Generates data containing batch_size samples' # X : (n_samples, *dim, n_channels)\n",
        "        # Initialization\n",
        "        text_batch = np.empty((self.num_tokens))\n",
        "        mask = np.empty((self.num_tokens))\n",
        "        tweet = np.empty((self.tweet_data_size))\n",
        "        rel = np.empty((self.rel_data_size))\n",
        "        id = np.empty((1))\n",
        "        y = np.empty((1), dtype=np.float32)\n",
        "\n",
        "        # Generate data\n",
        "        for i in [indexes]:\n",
        "            row=self.inputs[i]\n",
        "            text=[int(t) for t in row[0].split(\"\\t\")]\n",
        "            \n",
        "            pad=self.num_tokens-len(text)\n",
        "            att=([1]*len(text))+[0]*(pad)\n",
        "            text=text+([0]*(pad))\n",
        "\n",
        "            feats=[*row[1:9]]\n",
        "            relations=[*row[9:12]]\n",
        "            user=row[12]\n",
        "            i-=indexes[0]\n",
        "            # Store sample\n",
        "            text_batch = np.array(text)\n",
        "            mask=np.array(att)\n",
        "            tweet=np.array(feats)\n",
        "            rel=np.array(relations)\n",
        "            id=np.array(user)\n",
        "\n",
        "            # Store class\n",
        "            y[0] = self.outputs[i]\n",
        "\n",
        "        return (text_batch,mask,tweet,rel,id), y"
      ],
      "execution_count": null,
      "outputs": []
    },
    {
      "cell_type": "markdown",
      "metadata": {
        "id": "QW-rFQuf74oY"
      },
      "source": [
        "#####KerasCustomGenerator"
      ]
    },
    {
      "cell_type": "code",
      "metadata": {
        "id": "LwPXkXB-78wa"
      },
      "source": [
        "import numpy as np\n",
        "import keras\n",
        "\n",
        "class DataGenerator(keras.utils.Sequence):\n",
        "    'Generates data for Keras'\n",
        "    def __init__(self,inputs, outputs,tweet_data_size,rel_data_size,num_tokens, batch_size=32):\n",
        "        'Initialization'\n",
        "        self.batch_size = batch_size\n",
        "        self.inputs = inputs\n",
        "        self.outputs = outputs\n",
        "        self.length= len(inputs)\n",
        "        self.tweet_data_size=tweet_data_size\n",
        "        self.rel_data_size=rel_data_size\n",
        "        self.num_tokens=num_tokens\n",
        "        self.on_epoch_end()\n",
        "\n",
        "    def __len__(self):\n",
        "        'Denotes the number of batches per epoch'\n",
        "        return int(np.floor(self.length / self.batch_size))\n",
        "\n",
        "    def __getitem__(self, index):\n",
        "        'Generate one batch of data'\n",
        "        # Generate indexes of the batch\n",
        "        indexes = range(index*self.batch_size,(index+1)*self.batch_size)\n",
        "\n",
        "        # Find list of IDs\n",
        "\n",
        "        # Generate data\n",
        "        X, y = self.__data_generation(indexes)\n",
        "\n",
        "        return X, y\n",
        "\n",
        "    def on_epoch_end(self):\n",
        "        'Updates indexes after each epoch'\n",
        "        pass\n",
        "\n",
        "    def __data_generation(self, indexes):\n",
        "        'Generates data containing batch_size samples' # X : (n_samples, *dim, n_channels)\n",
        "        # Initialization\n",
        "        text_batch = np.empty((self.batch_size,self.num_tokens))\n",
        "        mask = np.empty((self.batch_size,self.num_tokens))\n",
        "        tweet = np.empty((self.batch_size,self.tweet_data_size))\n",
        "        rel = np.empty((self.batch_size,self.rel_data_size))\n",
        "        id = np.empty((self.batch_size,1))\n",
        "        y = np.empty((self.batch_size), dtype=np.float32)\n",
        "\n",
        "        # Generate data\n",
        "        for i in indexes:\n",
        "            row=self.inputs[i]\n",
        "            text=[int(t) for t in row[0].split(\"\\t\")]\n",
        "            \n",
        "            pad=self.num_tokens-len(text)\n",
        "            att=([1]*len(text))+[0]*(pad)\n",
        "            text=text+([0]*(pad))\n",
        "\n",
        "            feats=[*row[1:9]]\n",
        "            relations=[*row[9:12]]\n",
        "            user=row[12]\n",
        "            i-=indexes[0]\n",
        "            # Store sample\n",
        "            text_batch[i,] = np.array(text)\n",
        "            mask[i,]=np.array(att)\n",
        "            tweet[i,]=np.array(feats)\n",
        "            rel[i,]=np.array(relations)\n",
        "            id[i,]=np.array(user)\n",
        "\n",
        "            # Store class\n",
        "            y[i] = self.outputs[i]\n",
        "\n",
        "        return (text_batch,mask,tweet,rel,id), y"
      ],
      "execution_count": null,
      "outputs": []
    },
    {
      "cell_type": "markdown",
      "metadata": {
        "id": "E9KCrsoTJVKC"
      },
      "source": [
        "##Training"
      ]
    },
    {
      "cell_type": "markdown",
      "metadata": {
        "id": "tVJIZO1l9w8O"
      },
      "source": [
        ""
      ]
    },
    {
      "cell_type": "markdown",
      "metadata": {
        "id": "FFi1mUp2JXUx"
      },
      "source": [
        "###Fit"
      ]
    },
    {
      "cell_type": "code",
      "metadata": {
        "id": "FnFwX7Sgy4d1"
      },
      "source": [
        "gc.collect()"
      ],
      "execution_count": null,
      "outputs": []
    },
    {
      "cell_type": "code",
      "metadata": {
        "id": "Y-ffQw23mkEP"
      },
      "source": [
        "BATCH_SIZE=128"
      ],
      "execution_count": null,
      "outputs": []
    },
    {
      "cell_type": "code",
      "metadata": {
        "id": "sCSwJkQRKJA0"
      },
      "source": [
        "training_generator = DataGenerator(input[:len(input)], target[:len(input)],tweet_data_size=NUM_FEATURES,rel_data_size=REL_FEATURES,num_tokens=NUM_TOKENS,batch_size=BATCH_SIZE)\n",
        "test_generator = DataGenerator(inputTest[:len(inputTest)], targetTest[:len(inputTest)],tweet_data_size=NUM_FEATURES,rel_data_size=REL_FEATURES,num_tokens=NUM_TOKENS,batch_size=BATCH_SIZE)"
      ],
      "execution_count": null,
      "outputs": []
    },
    {
      "cell_type": "code",
      "metadata": {
        "id": "JIPwd4VVK0G0"
      },
      "source": [
        "training_generator.__getitem__(1)[0][0][0][0]"
      ],
      "execution_count": null,
      "outputs": []
    },
    {
      "cell_type": "code",
      "metadata": {
        "id": "Y5ibkbraKYjF"
      },
      "source": [
        "model.fit(training_generator,epochs=1)"
      ],
      "execution_count": null,
      "outputs": []
    },
    {
      "cell_type": "code",
      "metadata": {
        "id": "Saxr7Jg60OyJ"
      },
      "source": [
        "model.evaluate(test_generator)"
      ],
      "execution_count": null,
      "outputs": []
    },
    {
      "cell_type": "code",
      "metadata": {
        "id": "IJLN_-Nmqg1-"
      },
      "source": [
        "model.fit(training_generator,epochs=1)"
      ],
      "execution_count": null,
      "outputs": []
    },
    {
      "cell_type": "code",
      "metadata": {
        "id": "iZVmDt6iqhrx"
      },
      "source": [
        "model.evaluate(test_generator)"
      ],
      "execution_count": null,
      "outputs": []
    },
    {
      "cell_type": "code",
      "metadata": {
        "id": "x1uKp5VTVr-O"
      },
      "source": [
        "model2([tf.constant(0,shape=(1,1))])"
      ],
      "execution_count": null,
      "outputs": []
    },
    {
      "cell_type": "code",
      "metadata": {
        "id": "iFmUnRDpVtJK"
      },
      "source": [
        "model2([tf.constant(1,shape=(1,1))])"
      ],
      "execution_count": null,
      "outputs": []
    },
    {
      "cell_type": "markdown",
      "metadata": {
        "id": "gfaxykbAYTFo"
      },
      "source": [
        "###Try using sequence to get a tf.dataset"
      ]
    },
    {
      "cell_type": "code",
      "metadata": {
        "id": "Oio9eCulrNRa"
      },
      "source": [
        "BATCH_SIZE=128"
      ],
      "execution_count": null,
      "outputs": []
    },
    {
      "cell_type": "code",
      "metadata": {
        "id": "Nxxl_nYPYasm",
        "colab": {
          "base_uri": "https://localhost:8080/",
          "height": 260
        },
        "outputId": "d3814fa2-7258-4e18-f75e-94e072cc65ea"
      },
      "source": [
        "training_generator=SingleDataGenerator(input[:len(input)//10], target[:len(input)//10],tweet_data_size=NUM_FEATURES,rel_data_size=REL_FEATURES,num_tokens=NUM_TOKENS)\n",
        "data_iter = lambda: (s for s in training_generator )\n",
        "\n",
        "\n",
        "# then you can use tf.data.Dataset.from_generator\n",
        "dataset_tf = tf.data.Dataset.from_generator(\n",
        "    data_iter,\n",
        "    output_signature=(\n",
        "                        (\n",
        "                        tf.TensorSpec(shape=(511,), dtype=tf.float32),\n",
        "                        tf.TensorSpec(shape=(511,), dtype=tf.float32),\n",
        "                        tf.TensorSpec(shape=(training_generator.tweet_data_size,), dtype=tf.float32),\n",
        "                        tf.TensorSpec(shape=(training_generator.rel_data_size,), dtype=tf.float32),\n",
        "                        tf.TensorSpec(shape=(1,), dtype=tf.int32)\n",
        "                        ),\n",
        "                    tf.TensorSpec(shape=(1,), dtype=tf.float32, name='input_4')\n",
        "                    ))\n",
        "\n",
        "# now you can add a prefetch option that builds the next batch ready for consumption by the GPU as it is working on the current batch.\n",
        "#dataset_tf = dataset_tf.prefetch(1)"
      ],
      "execution_count": null,
      "outputs": [
        {
          "output_type": "error",
          "ename": "NameError",
          "evalue": "ignored",
          "traceback": [
            "\u001b[0;31m---------------------------------------------------------------------------\u001b[0m",
            "\u001b[0;31mNameError\u001b[0m                                 Traceback (most recent call last)",
            "\u001b[0;32m<ipython-input-2-b072949392c6>\u001b[0m in \u001b[0;36m<module>\u001b[0;34m()\u001b[0m\n\u001b[0;32m----> 1\u001b[0;31m \u001b[0mtraining_generator\u001b[0m\u001b[0;34m=\u001b[0m\u001b[0mSingleDataGenerator\u001b[0m\u001b[0;34m(\u001b[0m\u001b[0minput\u001b[0m\u001b[0;34m[\u001b[0m\u001b[0;34m:\u001b[0m\u001b[0mlen\u001b[0m\u001b[0;34m(\u001b[0m\u001b[0minput\u001b[0m\u001b[0;34m)\u001b[0m\u001b[0;34m//\u001b[0m\u001b[0;36m10\u001b[0m\u001b[0;34m]\u001b[0m\u001b[0;34m,\u001b[0m \u001b[0mtarget\u001b[0m\u001b[0;34m[\u001b[0m\u001b[0;34m:\u001b[0m\u001b[0mlen\u001b[0m\u001b[0;34m(\u001b[0m\u001b[0minput\u001b[0m\u001b[0;34m)\u001b[0m\u001b[0;34m//\u001b[0m\u001b[0;36m10\u001b[0m\u001b[0;34m]\u001b[0m\u001b[0;34m,\u001b[0m\u001b[0mtweet_data_size\u001b[0m\u001b[0;34m=\u001b[0m\u001b[0mNUM_FEATURES\u001b[0m\u001b[0;34m,\u001b[0m\u001b[0mrel_data_size\u001b[0m\u001b[0;34m=\u001b[0m\u001b[0mREL_FEATURES\u001b[0m\u001b[0;34m,\u001b[0m\u001b[0mnum_tokens\u001b[0m\u001b[0;34m=\u001b[0m\u001b[0mNUM_TOKENS\u001b[0m\u001b[0;34m)\u001b[0m\u001b[0;34m\u001b[0m\u001b[0;34m\u001b[0m\u001b[0m\n\u001b[0m\u001b[1;32m      2\u001b[0m \u001b[0mdata_iter\u001b[0m \u001b[0;34m=\u001b[0m \u001b[0;32mlambda\u001b[0m\u001b[0;34m:\u001b[0m \u001b[0;34m(\u001b[0m\u001b[0ms\u001b[0m \u001b[0;32mfor\u001b[0m \u001b[0ms\u001b[0m \u001b[0;32min\u001b[0m \u001b[0mtraining_generator\u001b[0m \u001b[0;34m)\u001b[0m\u001b[0;34m\u001b[0m\u001b[0;34m\u001b[0m\u001b[0m\n\u001b[1;32m      3\u001b[0m \u001b[0;34m\u001b[0m\u001b[0m\n\u001b[1;32m      4\u001b[0m \u001b[0;34m\u001b[0m\u001b[0m\n\u001b[1;32m      5\u001b[0m \u001b[0;31m# then you can use tf.data.Dataset.from_generator\u001b[0m\u001b[0;34m\u001b[0m\u001b[0;34m\u001b[0m\u001b[0;34m\u001b[0m\u001b[0m\n",
            "\u001b[0;31mNameError\u001b[0m: name 'SingleDataGenerator' is not defined"
          ]
        }
      ]
    },
    {
      "cell_type": "code",
      "metadata": {
        "id": "z-Sh1K0jp1cV"
      },
      "source": [
        "dataset_tf = dataset_tf.batch(BATCH_SIZE)\n",
        "\n",
        "dataset_tf = dataset_tf.repeat()"
      ],
      "execution_count": null,
      "outputs": []
    },
    {
      "cell_type": "code",
      "metadata": {
        "id": "6QXpmcuWsPE5"
      },
      "source": [
        "dataset_tf.take(1)"
      ],
      "execution_count": null,
      "outputs": []
    },
    {
      "cell_type": "code",
      "metadata": {
        "id": "xyjzGO9ArPHi"
      },
      "source": [
        "gc.collect()"
      ],
      "execution_count": null,
      "outputs": []
    },
    {
      "cell_type": "code",
      "metadata": {
        "id": "u3URbRk4qXEu"
      },
      "source": [
        "import math"
      ],
      "execution_count": null,
      "outputs": []
    },
    {
      "cell_type": "code",
      "metadata": {
        "id": "cAxNtptBqGY6"
      },
      "source": [
        "steps=math.floor(len(training_generator)/BATCH_SIZE)"
      ],
      "execution_count": null,
      "outputs": []
    },
    {
      "cell_type": "code",
      "metadata": {
        "id": "o6nQURo1oYTL"
      },
      "source": [
        "model.fit(dataset_tf,steps_per_epoch=steps)"
      ],
      "execution_count": null,
      "outputs": []
    },
    {
      "cell_type": "markdown",
      "metadata": {
        "id": "kf8COwxEpcRk"
      },
      "source": [
        "###batched generator version"
      ]
    },
    {
      "cell_type": "code",
      "metadata": {
        "id": "mvceMLentOoK"
      },
      "source": [
        "BATCH_SIZE=64"
      ],
      "execution_count": null,
      "outputs": []
    },
    {
      "cell_type": "code",
      "metadata": {
        "id": "JfdYtu-KpiF2"
      },
      "source": [
        "training_generator = DataGenerator(input[:len(input)//2], target[:len(input)//2],tweet_data_size=NUM_FEATURES,rel_data_size=REL_FEATURES,num_tokens=NUM_TOKENS,batch_size=BATCH_SIZE)\n",
        "\n",
        "data_iter = lambda: (s for s in training_generator )\n",
        "\n",
        "dataset_tf = tf.data.Dataset.from_generator(\n",
        "    data_iter,\n",
        "    output_signature=(\n",
        "                        (\n",
        "                        tf.TensorSpec(shape=(BATCH_SIZE,511), dtype=tf.float32),\n",
        "                        tf.TensorSpec(shape=(BATCH_SIZE,511), dtype=tf.float32),\n",
        "                        tf.TensorSpec(shape=(BATCH_SIZE,training_generator.tweet_data_size), dtype=tf.float32),\n",
        "                        tf.TensorSpec(shape=(BATCH_SIZE,training_generator.rel_data_size), dtype=tf.float32),\n",
        "                        tf.TensorSpec(shape=(BATCH_SIZE,1), dtype=tf.int32)\n",
        "                        ),\n",
        "                    tf.TensorSpec(shape=(BATCH_SIZE), dtype=tf.float32, name='input_4')\n",
        "                    ))\n",
        "dataset_tf = dataset_tf.prefetch(2)"
      ],
      "execution_count": null,
      "outputs": []
    },
    {
      "cell_type": "code",
      "metadata": {
        "id": "HlKKeayftWbk"
      },
      "source": [
        "steps=len(training_generator)"
      ],
      "execution_count": null,
      "outputs": []
    },
    {
      "cell_type": "code",
      "metadata": {
        "colab": {
          "base_uri": "https://localhost:8080/"
        },
        "id": "MZdfqwkHu-Wu",
        "outputId": "d55394e9-415f-49cc-a15c-e4bcf98a17da"
      },
      "source": [
        "steps"
      ],
      "execution_count": null,
      "outputs": [
        {
          "output_type": "execute_result",
          "data": {
            "text/plain": [
              "741"
            ]
          },
          "metadata": {
            "tags": []
          },
          "execution_count": 64
        }
      ]
    },
    {
      "cell_type": "code",
      "metadata": {
        "colab": {
          "base_uri": "https://localhost:8080/"
        },
        "id": "oqSqiUnEveyN",
        "outputId": "19840e64-1658-4e53-b346-38c5ae785e07"
      },
      "source": [
        "gc.collect()"
      ],
      "execution_count": null,
      "outputs": [
        {
          "output_type": "execute_result",
          "data": {
            "text/plain": [
              "272"
            ]
          },
          "metadata": {
            "tags": []
          },
          "execution_count": 65
        }
      ]
    },
    {
      "cell_type": "code",
      "metadata": {
        "id": "xPXYZvWorgiz",
        "colab": {
          "base_uri": "https://localhost:8080/"
        },
        "outputId": "72bb1c4e-449d-454a-cf46-e3a2d3043027"
      },
      "source": [
        "model.fit(dataset_tf,steps_per_epoch=steps)"
      ],
      "execution_count": null,
      "outputs": [
        {
          "output_type": "stream",
          "text": [
            "741/741 [==============================] - 1710s 2s/step - loss: 0.6967 - auc: 0.5009\n"
          ],
          "name": "stdout"
        },
        {
          "output_type": "execute_result",
          "data": {
            "text/plain": [
              "<tensorflow.python.keras.callbacks.History at 0x7f9b3c3e37d0>"
            ]
          },
          "metadata": {
            "tags": []
          },
          "execution_count": 66
        }
      ]
    },
    {
      "cell_type": "code",
      "metadata": {
        "id": "f97QvWxE3nue"
      },
      "source": [
        "test_generator = DataGenerator(inputTest[:len(inputTest)], targetTest[:len(inputTest)],tweet_data_size=NUM_FEATURES,rel_data_size=REL_FEATURES,num_tokens=NUM_TOKENS,batch_size=BATCH_SIZE)\n"
      ],
      "execution_count": null,
      "outputs": []
    },
    {
      "cell_type": "code",
      "metadata": {
        "colab": {
          "base_uri": "https://localhost:8080/"
        },
        "id": "gECJfE8e3k2d",
        "outputId": "13ea7a67-5743-4319-fe06-fca64e450d60"
      },
      "source": [
        "model.evaluate(test_generator)"
      ],
      "execution_count": null,
      "outputs": [
        {
          "output_type": "stream",
          "text": [
            "369/369 [==============================] - 447s 1s/step - loss: 0.6907 - auc: 0.5023\n"
          ],
          "name": "stdout"
        },
        {
          "output_type": "execute_result",
          "data": {
            "text/plain": [
              "[0.6906828284263611, 0.5022758841514587]"
            ]
          },
          "metadata": {
            "tags": []
          },
          "execution_count": 68
        }
      ]
    },
    {
      "cell_type": "code",
      "metadata": {
        "colab": {
          "base_uri": "https://localhost:8080/"
        },
        "id": "MV8tkYh49qAH",
        "outputId": "9b904cb7-61e4-4ee7-a442-e4fb69354aee"
      },
      "source": [
        "model.fit(dataset_tf,steps_per_epoch=steps)"
      ],
      "execution_count": null,
      "outputs": [
        {
          "output_type": "stream",
          "text": [
            "741/741 [==============================] - 1708s 2s/step - loss: 0.6786 - auc: 0.6051\n"
          ],
          "name": "stdout"
        },
        {
          "output_type": "execute_result",
          "data": {
            "text/plain": [
              "<tensorflow.python.keras.callbacks.History at 0x7f9b2f1b3950>"
            ]
          },
          "metadata": {
            "tags": []
          },
          "execution_count": 69
        }
      ]
    },
    {
      "cell_type": "code",
      "metadata": {
        "colab": {
          "base_uri": "https://localhost:8080/"
        },
        "id": "m_ppQsKt9rkt",
        "outputId": "fbccf5cf-6fac-425e-a10f-d13d6bc3c187"
      },
      "source": [
        "model.evaluate(test_generator)"
      ],
      "execution_count": null,
      "outputs": [
        {
          "output_type": "stream",
          "text": [
            "369/369 [==============================] - 445s 1s/step - loss: 0.6939 - auc: 0.5113\n"
          ],
          "name": "stdout"
        },
        {
          "output_type": "execute_result",
          "data": {
            "text/plain": [
              "[0.6939453482627869, 0.5113154053688049]"
            ]
          },
          "metadata": {
            "tags": []
          },
          "execution_count": 70
        }
      ]
    },
    {
      "cell_type": "code",
      "metadata": {
        "id": "pUGyZ35T9sCl"
      },
      "source": [
        "!kill -9 -1"
      ],
      "execution_count": null,
      "outputs": []
    },
    {
      "cell_type": "markdown",
      "metadata": {
        "id": "2jAu_IPTsKb0"
      },
      "source": [
        "###Custom Training loop"
      ]
    },
    {
      "cell_type": "code",
      "metadata": {
        "id": "UAwUVMBD0HG9"
      },
      "source": [
        "@tf.function\n",
        "def trainStep(text,att,features,rel,user,out):\n",
        "    with tf.GradientTape() as tape:\n",
        "        logits = model([text,att,features,rel,user], training=True)  # Logits for this minibatch\n",
        "        loss_value = loss(out, logits)\n",
        "            \n",
        "    train_acc_metric.update_state(out, logits)\n",
        "        \n",
        "    grad = tape.gradient(loss_value, model.trainable_weights)\n",
        "    optimizer.apply_gradients(zip(grad, model.trainable_weights))\n",
        "    return logits"
      ],
      "execution_count": null,
      "outputs": []
    },
    {
      "cell_type": "code",
      "metadata": {
        "colab": {
          "base_uri": "https://localhost:8080/"
        },
        "id": "jNz4hbdV7OAb",
        "outputId": "c7d1faeb-2c20-4191-fbcf-1384504ecb42"
      },
      "source": [
        "gc.collect()"
      ],
      "execution_count": null,
      "outputs": [
        {
          "output_type": "execute_result",
          "data": {
            "text/plain": [
              "28106"
            ]
          },
          "metadata": {
            "tags": []
          },
          "execution_count": 46
        }
      ]
    },
    {
      "cell_type": "code",
      "metadata": {
        "colab": {
          "base_uri": "https://localhost:8080/",
          "height": 686
        },
        "id": "C-FqHkMLuuyq",
        "outputId": "6d42635d-0596-4217-ba1d-0c4109542c0b"
      },
      "source": [
        "epochs = 10\n",
        "loss_value=10\n",
        "train_dataset=DatasetFixed(input,target)\n",
        "for epoch in range(epochs):\n",
        "    train_acc_metric.reset_states()\n",
        "    if loss_value<=0.01:\n",
        "                break\n",
        "    print(\"\\nStart of epoch %d\" % (epoch,))\n",
        "    for step, (text,att,features,rel,engaged_Id,out) in enumerate(train_dataset):\n",
        "        logits=trainStep(text,att,features,rel,engaged_Id,out)\n",
        "        if step % 100 == 0:\n",
        "            #print(model2(engaged_Id).numpy())\n",
        "            train_acc = train_acc_metric.result()\n",
        "            print(f\"Training abs error at step {step}: {train_acc}\")\n",
        "            print(f\"target{out.numpy()} => predict {logits.numpy()}\")\n",
        "            gc.collect()\n",
        "    train_acc = train_acc_metric.result()\n",
        "    print(f\"Training abs error over epoch {epoch}: {train_acc}\")\n",
        "    train_acc_metric.reset_states()"
      ],
      "execution_count": null,
      "outputs": [
        {
          "output_type": "stream",
          "text": [
            "\n",
            "Start of epoch 0\n",
            "Training abs error at step 0: 0.48795750737190247\n",
            "target[[0.]] => predict [[0.4879575]]\n",
            "Training abs error at step 100: 0.4684427082538605\n",
            "target[[1.]] => predict [[0.33095264]]\n",
            "Training abs error at step 200: 0.4653521478176117\n",
            "target[[0.]] => predict [[0.74113363]]\n",
            "Training abs error at step 300: 0.47499024868011475\n",
            "target[[1.]] => predict [[0.2997694]]\n",
            "Training abs error at step 400: 0.4641820788383484\n",
            "target[[1.]] => predict [[0.34601104]]\n",
            "Training abs error at step 500: 0.46867963671684265\n",
            "target[[1.]] => predict [[0.4215265]]\n",
            "Training abs error at step 600: 0.4710558354854584\n",
            "target[[0.]] => predict [[0.6465208]]\n",
            "Training abs error at step 700: 0.4764944612979889\n",
            "target[[0.]] => predict [[0.5367392]]\n",
            "Training abs error at step 800: 0.4795038402080536\n",
            "target[[0.]] => predict [[0.77697635]]\n"
          ],
          "name": "stdout"
        },
        {
          "output_type": "error",
          "ename": "KeyboardInterrupt",
          "evalue": "ignored",
          "traceback": [
            "\u001b[0;31m---------------------------------------------------------------------------\u001b[0m",
            "\u001b[0;31mKeyboardInterrupt\u001b[0m                         Traceback (most recent call last)",
            "\u001b[0;32m<ipython-input-47-2b2ec7720723>\u001b[0m in \u001b[0;36m<module>\u001b[0;34m()\u001b[0m\n\u001b[1;32m      8\u001b[0m     \u001b[0mprint\u001b[0m\u001b[0;34m(\u001b[0m\u001b[0;34m\"\\nStart of epoch %d\"\u001b[0m \u001b[0;34m%\u001b[0m \u001b[0;34m(\u001b[0m\u001b[0mepoch\u001b[0m\u001b[0;34m,\u001b[0m\u001b[0;34m)\u001b[0m\u001b[0;34m)\u001b[0m\u001b[0;34m\u001b[0m\u001b[0;34m\u001b[0m\u001b[0m\n\u001b[1;32m      9\u001b[0m     \u001b[0;32mfor\u001b[0m \u001b[0mstep\u001b[0m\u001b[0;34m,\u001b[0m \u001b[0;34m(\u001b[0m\u001b[0mtext\u001b[0m\u001b[0;34m,\u001b[0m\u001b[0matt\u001b[0m\u001b[0;34m,\u001b[0m\u001b[0mfeatures\u001b[0m\u001b[0;34m,\u001b[0m\u001b[0mrel\u001b[0m\u001b[0;34m,\u001b[0m\u001b[0mengaged_Id\u001b[0m\u001b[0;34m,\u001b[0m\u001b[0mout\u001b[0m\u001b[0;34m)\u001b[0m \u001b[0;32min\u001b[0m \u001b[0menumerate\u001b[0m\u001b[0;34m(\u001b[0m\u001b[0mtrain_dataset\u001b[0m\u001b[0;34m)\u001b[0m\u001b[0;34m:\u001b[0m\u001b[0;34m\u001b[0m\u001b[0;34m\u001b[0m\u001b[0m\n\u001b[0;32m---> 10\u001b[0;31m         \u001b[0mlogits\u001b[0m\u001b[0;34m=\u001b[0m\u001b[0mtrainStep\u001b[0m\u001b[0;34m(\u001b[0m\u001b[0mtext\u001b[0m\u001b[0;34m,\u001b[0m\u001b[0matt\u001b[0m\u001b[0;34m,\u001b[0m\u001b[0mfeatures\u001b[0m\u001b[0;34m,\u001b[0m\u001b[0mrel\u001b[0m\u001b[0;34m,\u001b[0m\u001b[0mengaged_Id\u001b[0m\u001b[0;34m,\u001b[0m\u001b[0mout\u001b[0m\u001b[0;34m)\u001b[0m\u001b[0;34m\u001b[0m\u001b[0;34m\u001b[0m\u001b[0m\n\u001b[0m\u001b[1;32m     11\u001b[0m         \u001b[0;32mif\u001b[0m \u001b[0mstep\u001b[0m \u001b[0;34m%\u001b[0m \u001b[0;36m100\u001b[0m \u001b[0;34m==\u001b[0m \u001b[0;36m0\u001b[0m\u001b[0;34m:\u001b[0m\u001b[0;34m\u001b[0m\u001b[0;34m\u001b[0m\u001b[0m\n\u001b[1;32m     12\u001b[0m             \u001b[0;31m#print(model2(engaged_Id).numpy())\u001b[0m\u001b[0;34m\u001b[0m\u001b[0;34m\u001b[0m\u001b[0;34m\u001b[0m\u001b[0m\n",
            "\u001b[0;32m/usr/local/lib/python3.7/dist-packages/tensorflow/python/eager/def_function.py\u001b[0m in \u001b[0;36m__call__\u001b[0;34m(self, *args, **kwds)\u001b[0m\n\u001b[1;32m    826\u001b[0m     \u001b[0mtracing_count\u001b[0m \u001b[0;34m=\u001b[0m \u001b[0mself\u001b[0m\u001b[0;34m.\u001b[0m\u001b[0mexperimental_get_tracing_count\u001b[0m\u001b[0;34m(\u001b[0m\u001b[0;34m)\u001b[0m\u001b[0;34m\u001b[0m\u001b[0;34m\u001b[0m\u001b[0m\n\u001b[1;32m    827\u001b[0m     \u001b[0;32mwith\u001b[0m \u001b[0mtrace\u001b[0m\u001b[0;34m.\u001b[0m\u001b[0mTrace\u001b[0m\u001b[0;34m(\u001b[0m\u001b[0mself\u001b[0m\u001b[0;34m.\u001b[0m\u001b[0m_name\u001b[0m\u001b[0;34m)\u001b[0m \u001b[0;32mas\u001b[0m \u001b[0mtm\u001b[0m\u001b[0;34m:\u001b[0m\u001b[0;34m\u001b[0m\u001b[0;34m\u001b[0m\u001b[0m\n\u001b[0;32m--> 828\u001b[0;31m       \u001b[0mresult\u001b[0m \u001b[0;34m=\u001b[0m \u001b[0mself\u001b[0m\u001b[0;34m.\u001b[0m\u001b[0m_call\u001b[0m\u001b[0;34m(\u001b[0m\u001b[0;34m*\u001b[0m\u001b[0margs\u001b[0m\u001b[0;34m,\u001b[0m \u001b[0;34m**\u001b[0m\u001b[0mkwds\u001b[0m\u001b[0;34m)\u001b[0m\u001b[0;34m\u001b[0m\u001b[0;34m\u001b[0m\u001b[0m\n\u001b[0m\u001b[1;32m    829\u001b[0m       \u001b[0mcompiler\u001b[0m \u001b[0;34m=\u001b[0m \u001b[0;34m\"xla\"\u001b[0m \u001b[0;32mif\u001b[0m \u001b[0mself\u001b[0m\u001b[0;34m.\u001b[0m\u001b[0m_experimental_compile\u001b[0m \u001b[0;32melse\u001b[0m \u001b[0;34m\"nonXla\"\u001b[0m\u001b[0;34m\u001b[0m\u001b[0;34m\u001b[0m\u001b[0m\n\u001b[1;32m    830\u001b[0m       \u001b[0mnew_tracing_count\u001b[0m \u001b[0;34m=\u001b[0m \u001b[0mself\u001b[0m\u001b[0;34m.\u001b[0m\u001b[0mexperimental_get_tracing_count\u001b[0m\u001b[0;34m(\u001b[0m\u001b[0;34m)\u001b[0m\u001b[0;34m\u001b[0m\u001b[0;34m\u001b[0m\u001b[0m\n",
            "\u001b[0;32m/usr/local/lib/python3.7/dist-packages/tensorflow/python/eager/def_function.py\u001b[0m in \u001b[0;36m_call\u001b[0;34m(self, *args, **kwds)\u001b[0m\n\u001b[1;32m    853\u001b[0m       \u001b[0;31m# In this case we have created variables on the first call, so we run the\u001b[0m\u001b[0;34m\u001b[0m\u001b[0;34m\u001b[0m\u001b[0;34m\u001b[0m\u001b[0m\n\u001b[1;32m    854\u001b[0m       \u001b[0;31m# defunned version which is guaranteed to never create variables.\u001b[0m\u001b[0;34m\u001b[0m\u001b[0;34m\u001b[0m\u001b[0;34m\u001b[0m\u001b[0m\n\u001b[0;32m--> 855\u001b[0;31m       \u001b[0;32mreturn\u001b[0m \u001b[0mself\u001b[0m\u001b[0;34m.\u001b[0m\u001b[0m_stateless_fn\u001b[0m\u001b[0;34m(\u001b[0m\u001b[0;34m*\u001b[0m\u001b[0margs\u001b[0m\u001b[0;34m,\u001b[0m \u001b[0;34m**\u001b[0m\u001b[0mkwds\u001b[0m\u001b[0;34m)\u001b[0m  \u001b[0;31m# pylint: disable=not-callable\u001b[0m\u001b[0;34m\u001b[0m\u001b[0;34m\u001b[0m\u001b[0m\n\u001b[0m\u001b[1;32m    856\u001b[0m     \u001b[0;32melif\u001b[0m \u001b[0mself\u001b[0m\u001b[0;34m.\u001b[0m\u001b[0m_stateful_fn\u001b[0m \u001b[0;32mis\u001b[0m \u001b[0;32mnot\u001b[0m \u001b[0;32mNone\u001b[0m\u001b[0;34m:\u001b[0m\u001b[0;34m\u001b[0m\u001b[0;34m\u001b[0m\u001b[0m\n\u001b[1;32m    857\u001b[0m       \u001b[0;31m# Release the lock early so that multiple threads can perform the call\u001b[0m\u001b[0;34m\u001b[0m\u001b[0;34m\u001b[0m\u001b[0;34m\u001b[0m\u001b[0m\n",
            "\u001b[0;32m/usr/local/lib/python3.7/dist-packages/tensorflow/python/eager/function.py\u001b[0m in \u001b[0;36m__call__\u001b[0;34m(self, *args, **kwargs)\u001b[0m\n\u001b[1;32m   2941\u001b[0m        filtered_flat_args) = self._maybe_define_function(args, kwargs)\n\u001b[1;32m   2942\u001b[0m     return graph_function._call_flat(\n\u001b[0;32m-> 2943\u001b[0;31m         filtered_flat_args, captured_inputs=graph_function.captured_inputs)  # pylint: disable=protected-access\n\u001b[0m\u001b[1;32m   2944\u001b[0m \u001b[0;34m\u001b[0m\u001b[0m\n\u001b[1;32m   2945\u001b[0m   \u001b[0;34m@\u001b[0m\u001b[0mproperty\u001b[0m\u001b[0;34m\u001b[0m\u001b[0;34m\u001b[0m\u001b[0m\n",
            "\u001b[0;32m/usr/local/lib/python3.7/dist-packages/tensorflow/python/eager/function.py\u001b[0m in \u001b[0;36m_call_flat\u001b[0;34m(self, args, captured_inputs, cancellation_manager)\u001b[0m\n\u001b[1;32m   1917\u001b[0m       \u001b[0;31m# No tape is watching; skip to running the function.\u001b[0m\u001b[0;34m\u001b[0m\u001b[0;34m\u001b[0m\u001b[0;34m\u001b[0m\u001b[0m\n\u001b[1;32m   1918\u001b[0m       return self._build_call_outputs(self._inference_function.call(\n\u001b[0;32m-> 1919\u001b[0;31m           ctx, args, cancellation_manager=cancellation_manager))\n\u001b[0m\u001b[1;32m   1920\u001b[0m     forward_backward = self._select_forward_and_backward_functions(\n\u001b[1;32m   1921\u001b[0m         \u001b[0margs\u001b[0m\u001b[0;34m,\u001b[0m\u001b[0;34m\u001b[0m\u001b[0;34m\u001b[0m\u001b[0m\n",
            "\u001b[0;32m/usr/local/lib/python3.7/dist-packages/tensorflow/python/eager/function.py\u001b[0m in \u001b[0;36mcall\u001b[0;34m(self, ctx, args, cancellation_manager)\u001b[0m\n\u001b[1;32m    558\u001b[0m               \u001b[0minputs\u001b[0m\u001b[0;34m=\u001b[0m\u001b[0margs\u001b[0m\u001b[0;34m,\u001b[0m\u001b[0;34m\u001b[0m\u001b[0;34m\u001b[0m\u001b[0m\n\u001b[1;32m    559\u001b[0m               \u001b[0mattrs\u001b[0m\u001b[0;34m=\u001b[0m\u001b[0mattrs\u001b[0m\u001b[0;34m,\u001b[0m\u001b[0;34m\u001b[0m\u001b[0;34m\u001b[0m\u001b[0m\n\u001b[0;32m--> 560\u001b[0;31m               ctx=ctx)\n\u001b[0m\u001b[1;32m    561\u001b[0m         \u001b[0;32melse\u001b[0m\u001b[0;34m:\u001b[0m\u001b[0;34m\u001b[0m\u001b[0;34m\u001b[0m\u001b[0m\n\u001b[1;32m    562\u001b[0m           outputs = execute.execute_with_cancellation(\n",
            "\u001b[0;32m/usr/local/lib/python3.7/dist-packages/tensorflow/python/eager/execute.py\u001b[0m in \u001b[0;36mquick_execute\u001b[0;34m(op_name, num_outputs, inputs, attrs, ctx, name)\u001b[0m\n\u001b[1;32m     58\u001b[0m     \u001b[0mctx\u001b[0m\u001b[0;34m.\u001b[0m\u001b[0mensure_initialized\u001b[0m\u001b[0;34m(\u001b[0m\u001b[0;34m)\u001b[0m\u001b[0;34m\u001b[0m\u001b[0;34m\u001b[0m\u001b[0m\n\u001b[1;32m     59\u001b[0m     tensors = pywrap_tfe.TFE_Py_Execute(ctx._handle, device_name, op_name,\n\u001b[0;32m---> 60\u001b[0;31m                                         inputs, attrs, num_outputs)\n\u001b[0m\u001b[1;32m     61\u001b[0m   \u001b[0;32mexcept\u001b[0m \u001b[0mcore\u001b[0m\u001b[0;34m.\u001b[0m\u001b[0m_NotOkStatusException\u001b[0m \u001b[0;32mas\u001b[0m \u001b[0me\u001b[0m\u001b[0;34m:\u001b[0m\u001b[0;34m\u001b[0m\u001b[0;34m\u001b[0m\u001b[0m\n\u001b[1;32m     62\u001b[0m     \u001b[0;32mif\u001b[0m \u001b[0mname\u001b[0m \u001b[0;32mis\u001b[0m \u001b[0;32mnot\u001b[0m \u001b[0;32mNone\u001b[0m\u001b[0;34m:\u001b[0m\u001b[0;34m\u001b[0m\u001b[0;34m\u001b[0m\u001b[0m\n",
            "\u001b[0;31mKeyboardInterrupt\u001b[0m: "
          ]
        }
      ]
    },
    {
      "cell_type": "markdown",
      "metadata": {
        "id": "2LaAL0jL98xC"
      },
      "source": [
        "#Precompute bert Implementation"
      ]
    },
    {
      "cell_type": "markdown",
      "metadata": {
        "id": "q2tOiAo_98xN"
      },
      "source": [
        "##Work"
      ]
    },
    {
      "cell_type": "markdown",
      "metadata": {
        "id": "4rl5pa9A98xO"
      },
      "source": [
        "###DatasetPreparation"
      ]
    },
    {
      "cell_type": "code",
      "metadata": {
        "id": "xI-8HFn498xP"
      },
      "source": [
        "%%capture\n",
        "import os, json, zipfile, shutil, platform, time\n",
        "\n",
        "import scipy.sparse as sps\n",
        "from pandas import DataFrame\n",
        "import pandas as pd\n",
        "import numpy as np\n",
        "\n",
        "import multiprocessing\n",
        "import multiprocessing.pool\n",
        "import time\n",
        "\n",
        "from random import randint\n",
        "import gc"
      ],
      "execution_count": null,
      "outputs": []
    },
    {
      "cell_type": "code",
      "metadata": {
        "id": "uVkP916G98xQ"
      },
      "source": [
        "train= pd.read_csv(\"Dataset.csv\",sep='\\x01',header=None)\n",
        "train.columns=all_features"
      ],
      "execution_count": null,
      "outputs": []
    },
    {
      "cell_type": "code",
      "metadata": {
        "id": "uJjzGbJ298xQ"
      },
      "source": [
        "train[\"text_len\"]=train[\"text_tokens\"].apply(lambda row: len(row.split(\"\\t\")) if row!=\"\" else 0).astype(\"uint16\")\n",
        "train[\"text_tokens\"]=train[\"text_tokens\"].apply(lambda row: [int(e) for e in row.split(\"\\t\")])"
      ],
      "execution_count": null,
      "outputs": []
    },
    {
      "cell_type": "code",
      "metadata": {
        "colab": {
          "base_uri": "https://localhost:8080/"
        },
        "id": "XVUKcTW098xR",
        "outputId": "4b12811c-3b55-45d3-b71c-d8bbe31d5995"
      },
      "source": [
        "train=train[train[\"text_len\"]<=511].copy()\n",
        "gc.collect()"
      ],
      "execution_count": null,
      "outputs": [
        {
          "output_type": "execute_result",
          "data": {
            "text/plain": [
              "0"
            ]
          },
          "metadata": {
            "tags": []
          },
          "execution_count": 7
        }
      ]
    },
    {
      "cell_type": "code",
      "metadata": {
        "id": "EM4gLyOR98xS"
      },
      "source": [
        "\n",
        "\n",
        "#tweet features (some must be added later)\n",
        "train[\"retweet\"]=train[\"tweet_type\"].apply(lambda row: 1 if row==\"Retweet\" else 0)\n",
        "train[\"quote\"]=train[\"tweet_type\"].apply(lambda row: 1 if row==\"Quote\" else 0)\n",
        "train[\"top\"]=train[\"tweet_type\"].apply(lambda row: 1 if row==\"Toplevel\" else 0)\n",
        "\n",
        "train.drop(\"tweet_type\",axis=1,inplace=True)\n",
        "\n",
        "\n",
        "train[\"text_len\"]-=np.mean(train[\"text_len\"].values)\n",
        "train[\"text_len\"]/=np.std(train[\"text_len\"].values)\n",
        "\n",
        "train.fillna(value={\"hashtags\":\"\"},inplace=True)\n",
        "train.fillna(value={\"present_links\":\"\"},inplace=True)\n",
        "train.fillna(value={\"present_domains\":\"\"},inplace=True)\n",
        "train.fillna(value={\"present_media\":\"\"},inplace=True)\n",
        "\n",
        "train[\"hashtags\"]=train[\"hashtags\"].apply(lambda row: len(row.split(\"\\t\")) if row!=\"\" else 0).astype(\"uint8\")\n",
        "train[\"present_media\"]=train[\"present_media\"].apply(lambda row: len(row.split(\"\\t\")) if row!=\"\" else 0).astype(\"uint8\")\n",
        "train[\"present_links\"]=train[\"present_links\"].apply(lambda row: len(row.split(\"\\t\")) if row!=\"\" else 0).astype(\"uint8\")\n",
        "train[\"present_domains\"]=train[\"present_domains\"].apply(lambda row: len(row.split(\"\\t\")) if row!=\"\" else 0).astype(\"uint8\")\n",
        "train[\"hashtags\"]-=np.mean(train[\"hashtags\"].values)\n",
        "train[\"hashtags\"]/=np.std(train[\"hashtags\"].values)\n",
        "train[\"present_media\"]-=np.mean(train[\"present_media\"].values)\n",
        "train[\"present_media\"]/=np.std(train[\"present_media\"].values)\n",
        "train[\"present_links\"]-=np.mean(train[\"present_links\"].values)\n",
        "train[\"present_links\"]/=np.std(train[\"present_links\"].values)\n",
        "train[\"present_domains\"]-=np.mean(train[\"present_domains\"].values)\n",
        "train[\"present_domains\"]/=np.std(train[\"present_domains\"].values)\n",
        "\n",
        "#Relation \n",
        "train[\"engagee_follows_engager\"]=train[\"engagee_follows_engager\"].apply(lambda row: 1 if row else 0).astype(\"uint8\")\n",
        "train[\"engaged_with_user_is_verified\"]=train[\"engaged_with_user_is_verified\"].apply(lambda row: 1 if row else 0).astype(\"uint8\")\n",
        "train[\"engaging_user_is_verified\"]=train[\"engaging_user_is_verified\"].apply(lambda row: 1 if row else 0).astype(\"uint8\")"
      ],
      "execution_count": null,
      "outputs": []
    },
    {
      "cell_type": "code",
      "metadata": {
        "id": "3LWenCba98xT"
      },
      "source": [
        "train[\"like\"]=train[\"like_timestamp\"].apply(lambda row: 1 if row>0 else 0).astype(\"uint8\")\n",
        "train.drop(\"like_timestamp\",axis=1,inplace=True)"
      ],
      "execution_count": null,
      "outputs": []
    },
    {
      "cell_type": "code",
      "metadata": {
        "id": "NBeYBxeI98xT"
      },
      "source": [
        "features=[\"text_tokens\",\"retweet\",\"quote\",\"top\", \"hashtags\",\"text_len\", \"present_media\", \"present_links\", \"present_domains\",\\\n",
        "             \"engaging_user_id\",\\\n",
        "                \"engaged_with_user_is_verified\",\\\n",
        "                 \"engaging_user_is_verified\",\\\n",
        "             \"engagee_follows_engager\"]"
      ],
      "execution_count": null,
      "outputs": []
    },
    {
      "cell_type": "code",
      "metadata": {
        "id": "WyTPcqTd98xU"
      },
      "source": [
        "train[\"engaging_user_id\"], uniques = pd.factorize(train[\"engaging_user_id\"])"
      ],
      "execution_count": null,
      "outputs": []
    },
    {
      "cell_type": "code",
      "metadata": {
        "id": "M5gqr1gp98xU"
      },
      "source": [
        "temp=pd.DataFrame(train[\"engaging_user_id\"]).copy()\n",
        "temp[\"frequency\"]=1\n",
        "temp=temp.groupby(\"engaging_user_id\").transform('sum')"
      ],
      "execution_count": null,
      "outputs": []
    },
    {
      "cell_type": "code",
      "metadata": {
        "id": "C9PoZnNU98xU"
      },
      "source": [
        "temp=temp[temp[\"frequency\"]>=8]"
      ],
      "execution_count": null,
      "outputs": []
    },
    {
      "cell_type": "code",
      "metadata": {
        "colab": {
          "base_uri": "https://localhost:8080/"
        },
        "id": "4VK11ALC98xV",
        "outputId": "01884747-1ab3-432f-8d9a-c89525378821"
      },
      "source": [
        "temp"
      ],
      "execution_count": null,
      "outputs": [
        {
          "output_type": "execute_result",
          "data": {
            "text/html": [
              "<div>\n",
              "<style scoped>\n",
              "    .dataframe tbody tr th:only-of-type {\n",
              "        vertical-align: middle;\n",
              "    }\n",
              "\n",
              "    .dataframe tbody tr th {\n",
              "        vertical-align: top;\n",
              "    }\n",
              "\n",
              "    .dataframe thead th {\n",
              "        text-align: right;\n",
              "    }\n",
              "</style>\n",
              "<table border=\"1\" class=\"dataframe\">\n",
              "  <thead>\n",
              "    <tr style=\"text-align: right;\">\n",
              "      <th></th>\n",
              "      <th>frequency</th>\n",
              "    </tr>\n",
              "  </thead>\n",
              "  <tbody>\n",
              "    <tr>\n",
              "      <th>7</th>\n",
              "      <td>8</td>\n",
              "    </tr>\n",
              "    <tr>\n",
              "      <th>42</th>\n",
              "      <td>10</td>\n",
              "    </tr>\n",
              "    <tr>\n",
              "      <th>88</th>\n",
              "      <td>15</td>\n",
              "    </tr>\n",
              "    <tr>\n",
              "      <th>100</th>\n",
              "      <td>9</td>\n",
              "    </tr>\n",
              "    <tr>\n",
              "      <th>102</th>\n",
              "      <td>8</td>\n",
              "    </tr>\n",
              "    <tr>\n",
              "      <th>...</th>\n",
              "      <td>...</td>\n",
              "    </tr>\n",
              "    <tr>\n",
              "      <th>3033693</th>\n",
              "      <td>8</td>\n",
              "    </tr>\n",
              "    <tr>\n",
              "      <th>3033743</th>\n",
              "      <td>8</td>\n",
              "    </tr>\n",
              "    <tr>\n",
              "      <th>3033797</th>\n",
              "      <td>8</td>\n",
              "    </tr>\n",
              "    <tr>\n",
              "      <th>3033805</th>\n",
              "      <td>9</td>\n",
              "    </tr>\n",
              "    <tr>\n",
              "      <th>3033845</th>\n",
              "      <td>8</td>\n",
              "    </tr>\n",
              "  </tbody>\n",
              "</table>\n",
              "<p>118535 rows × 1 columns</p>\n",
              "</div>"
            ],
            "text/plain": [
              "         frequency\n",
              "7                8\n",
              "42              10\n",
              "88              15\n",
              "100              9\n",
              "102              8\n",
              "...            ...\n",
              "3033693          8\n",
              "3033743          8\n",
              "3033797          8\n",
              "3033805          9\n",
              "3033845          8\n",
              "\n",
              "[118535 rows x 1 columns]"
            ]
          },
          "metadata": {
            "tags": []
          },
          "execution_count": 14
        }
      ]
    },
    {
      "cell_type": "code",
      "metadata": {
        "colab": {
          "base_uri": "https://localhost:8080/"
        },
        "id": "XvVsOddV98xV",
        "outputId": "2240deaa-1f14-4421-ce7e-793cb2dd7059"
      },
      "source": [
        "train"
      ],
      "execution_count": null,
      "outputs": [
        {
          "output_type": "execute_result",
          "data": {
            "text/html": [
              "<div>\n",
              "<style scoped>\n",
              "    .dataframe tbody tr th:only-of-type {\n",
              "        vertical-align: middle;\n",
              "    }\n",
              "\n",
              "    .dataframe tbody tr th {\n",
              "        vertical-align: top;\n",
              "    }\n",
              "\n",
              "    .dataframe thead th {\n",
              "        text-align: right;\n",
              "    }\n",
              "</style>\n",
              "<table border=\"1\" class=\"dataframe\">\n",
              "  <thead>\n",
              "    <tr style=\"text-align: right;\">\n",
              "      <th></th>\n",
              "      <th>text_tokens</th>\n",
              "      <th>hashtags</th>\n",
              "      <th>tweet_id</th>\n",
              "      <th>present_media</th>\n",
              "      <th>present_links</th>\n",
              "      <th>present_domains</th>\n",
              "      <th>language</th>\n",
              "      <th>tweet_timestamp</th>\n",
              "      <th>engaged_with_user_id</th>\n",
              "      <th>engaged_with_user_follower_count</th>\n",
              "      <th>engaged_with_user_following_count</th>\n",
              "      <th>engaged_with_user_is_verified</th>\n",
              "      <th>engaged_with_user_account_creation</th>\n",
              "      <th>engaging_user_id</th>\n",
              "      <th>engaging_user_follower_count</th>\n",
              "      <th>engaging_user_following_count</th>\n",
              "      <th>engaging_user_is_verified</th>\n",
              "      <th>engaging_user_account_creation</th>\n",
              "      <th>engagee_follows_engager</th>\n",
              "      <th>reply_timestamp</th>\n",
              "      <th>retweet_timestamp</th>\n",
              "      <th>retweet_with_comment_timestamp</th>\n",
              "      <th>text_len</th>\n",
              "      <th>retweet</th>\n",
              "      <th>quote</th>\n",
              "      <th>top</th>\n",
              "      <th>like</th>\n",
              "    </tr>\n",
              "  </thead>\n",
              "  <tbody>\n",
              "    <tr>\n",
              "      <th>0</th>\n",
              "      <td>101\\t56898\\t137\\t16925\\t10731\\t11481\\t13980\\t1...</td>\n",
              "      <td>-0.354747</td>\n",
              "      <td>5DCE3020423313CB0AC2631DEF94D2F5</td>\n",
              "      <td>-0.621253</td>\n",
              "      <td>-0.338471</td>\n",
              "      <td>-0.338471</td>\n",
              "      <td>488B32D24BD4BB44172EB981C1BCA6FA</td>\n",
              "      <td>1613237034</td>\n",
              "      <td>BC9980C5385A68894C2862F41884FB27</td>\n",
              "      <td>2473</td>\n",
              "      <td>662</td>\n",
              "      <td>0</td>\n",
              "      <td>1261859734</td>\n",
              "      <td>0</td>\n",
              "      <td>169</td>\n",
              "      <td>339</td>\n",
              "      <td>0</td>\n",
              "      <td>1520886748</td>\n",
              "      <td>0</td>\n",
              "      <td>NaN</td>\n",
              "      <td>NaN</td>\n",
              "      <td>NaN</td>\n",
              "      <td>0.144138</td>\n",
              "      <td>1</td>\n",
              "      <td>0</td>\n",
              "      <td>0</td>\n",
              "      <td>0</td>\n",
              "    </tr>\n",
              "    <tr>\n",
              "      <th>1</th>\n",
              "      <td>101\\t10159\\t11322\\t58550\\t10836\\t10126\\t25900\\...</td>\n",
              "      <td>-0.354747</td>\n",
              "      <td>2B6F5C7C4F04F34543C09DD6E58C8F66</td>\n",
              "      <td>-0.621253</td>\n",
              "      <td>2.577894</td>\n",
              "      <td>2.577894</td>\n",
              "      <td>B0FA488F2911701DD8EC5B1EA5E322D8</td>\n",
              "      <td>1613748600</td>\n",
              "      <td>C0EBA033A5C0D2AD91B4500958E2C633</td>\n",
              "      <td>4418640</td>\n",
              "      <td>228</td>\n",
              "      <td>1</td>\n",
              "      <td>1266804490</td>\n",
              "      <td>1</td>\n",
              "      <td>393</td>\n",
              "      <td>1190</td>\n",
              "      <td>0</td>\n",
              "      <td>1237570695</td>\n",
              "      <td>0</td>\n",
              "      <td>NaN</td>\n",
              "      <td>NaN</td>\n",
              "      <td>NaN</td>\n",
              "      <td>1.099749</td>\n",
              "      <td>0</td>\n",
              "      <td>0</td>\n",
              "      <td>0</td>\n",
              "      <td>0</td>\n",
              "    </tr>\n",
              "    <tr>\n",
              "      <th>2</th>\n",
              "      <td>101\\t10159\\t56314\\t14364\\t10109\\t14657\\t11359\\...</td>\n",
              "      <td>-0.354747</td>\n",
              "      <td>784D3AE5E6429392245BD34FF4C82B5C</td>\n",
              "      <td>-0.621253</td>\n",
              "      <td>2.577894</td>\n",
              "      <td>2.577894</td>\n",
              "      <td>B0FA488F2911701DD8EC5B1EA5E322D8</td>\n",
              "      <td>1613386238</td>\n",
              "      <td>03EA05E7440140ABF047BC216CE34917</td>\n",
              "      <td>219715</td>\n",
              "      <td>3685</td>\n",
              "      <td>1</td>\n",
              "      <td>1202617218</td>\n",
              "      <td>2</td>\n",
              "      <td>629</td>\n",
              "      <td>1473</td>\n",
              "      <td>0</td>\n",
              "      <td>1263176351</td>\n",
              "      <td>0</td>\n",
              "      <td>NaN</td>\n",
              "      <td>NaN</td>\n",
              "      <td>NaN</td>\n",
              "      <td>-0.231280</td>\n",
              "      <td>0</td>\n",
              "      <td>0</td>\n",
              "      <td>0</td>\n",
              "      <td>1</td>\n",
              "    </tr>\n",
              "    <tr>\n",
              "      <th>3</th>\n",
              "      <td>101\\t56898\\t137\\t10224\\t10731\\t64194\\t41939\\t3...</td>\n",
              "      <td>-0.354747</td>\n",
              "      <td>CA49ACBB31921F2A0FAC1CCCC99541F6</td>\n",
              "      <td>-0.621253</td>\n",
              "      <td>-0.338471</td>\n",
              "      <td>-0.338471</td>\n",
              "      <td>B0FA488F2911701DD8EC5B1EA5E322D8</td>\n",
              "      <td>1613708640</td>\n",
              "      <td>2700B9E175757F126C082D6A5742787D</td>\n",
              "      <td>2388283</td>\n",
              "      <td>13511</td>\n",
              "      <td>1</td>\n",
              "      <td>1251645191</td>\n",
              "      <td>3</td>\n",
              "      <td>123</td>\n",
              "      <td>200</td>\n",
              "      <td>0</td>\n",
              "      <td>1268276559</td>\n",
              "      <td>0</td>\n",
              "      <td>NaN</td>\n",
              "      <td>NaN</td>\n",
              "      <td>NaN</td>\n",
              "      <td>-0.197151</td>\n",
              "      <td>1</td>\n",
              "      <td>0</td>\n",
              "      <td>0</td>\n",
              "      <td>0</td>\n",
              "    </tr>\n",
              "    <tr>\n",
              "      <th>4</th>\n",
              "      <td>101\\t7143\\t1938\\t113\\t100\\t10097\\t100\\t10097\\t...</td>\n",
              "      <td>-0.354747</td>\n",
              "      <td>2C95B42C651B36D84584F3653D722142</td>\n",
              "      <td>0.499838</td>\n",
              "      <td>-0.338471</td>\n",
              "      <td>-0.338471</td>\n",
              "      <td>E7F038DE3EAD397AEC9193686C911677</td>\n",
              "      <td>1612586018</td>\n",
              "      <td>B7E441F2D886830FB3F0CE29CB35CB6B</td>\n",
              "      <td>414</td>\n",
              "      <td>720</td>\n",
              "      <td>0</td>\n",
              "      <td>1578273274</td>\n",
              "      <td>4</td>\n",
              "      <td>134</td>\n",
              "      <td>379</td>\n",
              "      <td>0</td>\n",
              "      <td>1483862063</td>\n",
              "      <td>1</td>\n",
              "      <td>NaN</td>\n",
              "      <td>NaN</td>\n",
              "      <td>NaN</td>\n",
              "      <td>0.690202</td>\n",
              "      <td>0</td>\n",
              "      <td>0</td>\n",
              "      <td>0</td>\n",
              "      <td>1</td>\n",
              "    </tr>\n",
              "    <tr>\n",
              "      <th>...</th>\n",
              "      <td>...</td>\n",
              "      <td>...</td>\n",
              "      <td>...</td>\n",
              "      <td>...</td>\n",
              "      <td>...</td>\n",
              "      <td>...</td>\n",
              "      <td>...</td>\n",
              "      <td>...</td>\n",
              "      <td>...</td>\n",
              "      <td>...</td>\n",
              "      <td>...</td>\n",
              "      <td>...</td>\n",
              "      <td>...</td>\n",
              "      <td>...</td>\n",
              "      <td>...</td>\n",
              "      <td>...</td>\n",
              "      <td>...</td>\n",
              "      <td>...</td>\n",
              "      <td>...</td>\n",
              "      <td>...</td>\n",
              "      <td>...</td>\n",
              "      <td>...</td>\n",
              "      <td>...</td>\n",
              "      <td>...</td>\n",
              "      <td>...</td>\n",
              "      <td>...</td>\n",
              "      <td>...</td>\n",
              "    </tr>\n",
              "    <tr>\n",
              "      <th>3033897</th>\n",
              "      <td>101\\t56898\\t137\\t40431\\t14678\\t11710\\t12985\\t1...</td>\n",
              "      <td>-0.354747</td>\n",
              "      <td>25B1D557E6B6D7298CA3888C72F9F7B5</td>\n",
              "      <td>-0.621253</td>\n",
              "      <td>-0.338471</td>\n",
              "      <td>-0.338471</td>\n",
              "      <td>B8B04128918BBF54E2E178BFF1ABA833</td>\n",
              "      <td>1612804061</td>\n",
              "      <td>D61350A37DDC6E19AD5B1D44C607FF7D</td>\n",
              "      <td>2230</td>\n",
              "      <td>2332</td>\n",
              "      <td>0</td>\n",
              "      <td>1562591414</td>\n",
              "      <td>2174192</td>\n",
              "      <td>254</td>\n",
              "      <td>342</td>\n",
              "      <td>0</td>\n",
              "      <td>1505241576</td>\n",
              "      <td>1</td>\n",
              "      <td>NaN</td>\n",
              "      <td>NaN</td>\n",
              "      <td>NaN</td>\n",
              "      <td>-0.026507</td>\n",
              "      <td>1</td>\n",
              "      <td>0</td>\n",
              "      <td>0</td>\n",
              "      <td>0</td>\n",
              "    </tr>\n",
              "    <tr>\n",
              "      <th>3033898</th>\n",
              "      <td>101\\t10747\\t57667\\t10123\\t10124\\t30776\\t20149\\...</td>\n",
              "      <td>-0.354747</td>\n",
              "      <td>3A656480D09FCCBA39B0E28FBFA64B72</td>\n",
              "      <td>0.499838</td>\n",
              "      <td>-0.338471</td>\n",
              "      <td>-0.338471</td>\n",
              "      <td>488B32D24BD4BB44172EB981C1BCA6FA</td>\n",
              "      <td>1613964078</td>\n",
              "      <td>9009A33FB64F15F71D689C46FD40DA0E</td>\n",
              "      <td>90842</td>\n",
              "      <td>687</td>\n",
              "      <td>0</td>\n",
              "      <td>1591895377</td>\n",
              "      <td>2174193</td>\n",
              "      <td>238</td>\n",
              "      <td>511</td>\n",
              "      <td>0</td>\n",
              "      <td>1587168543</td>\n",
              "      <td>0</td>\n",
              "      <td>1.613964e+09</td>\n",
              "      <td>NaN</td>\n",
              "      <td>NaN</td>\n",
              "      <td>-0.743215</td>\n",
              "      <td>0</td>\n",
              "      <td>0</td>\n",
              "      <td>0</td>\n",
              "      <td>0</td>\n",
              "    </tr>\n",
              "    <tr>\n",
              "      <th>3033899</th>\n",
              "      <td>101\\t56898\\t137\\t10211\\t10589\\t21428\\t12620\\t1...</td>\n",
              "      <td>-0.354747</td>\n",
              "      <td>E236B2359B119B2A7668FA83AC5E750B</td>\n",
              "      <td>-0.621253</td>\n",
              "      <td>-0.338471</td>\n",
              "      <td>-0.338471</td>\n",
              "      <td>488B32D24BD4BB44172EB981C1BCA6FA</td>\n",
              "      <td>1614124187</td>\n",
              "      <td>57F1EBC5767EA3F7CE3EEDB6EAE9B097</td>\n",
              "      <td>608</td>\n",
              "      <td>328</td>\n",
              "      <td>0</td>\n",
              "      <td>1341523778</td>\n",
              "      <td>2174194</td>\n",
              "      <td>814</td>\n",
              "      <td>803</td>\n",
              "      <td>0</td>\n",
              "      <td>1336720553</td>\n",
              "      <td>1</td>\n",
              "      <td>NaN</td>\n",
              "      <td>NaN</td>\n",
              "      <td>NaN</td>\n",
              "      <td>-0.709086</td>\n",
              "      <td>1</td>\n",
              "      <td>0</td>\n",
              "      <td>0</td>\n",
              "      <td>0</td>\n",
              "    </tr>\n",
              "    <tr>\n",
              "      <th>3033900</th>\n",
              "      <td>101\\t19561\\t10605\\t97764\\t10729\\t64008\\t30297\\...</td>\n",
              "      <td>-0.354747</td>\n",
              "      <td>B42CB5B47ABCCA8700686CD8F32696B6</td>\n",
              "      <td>-0.621253</td>\n",
              "      <td>-0.338471</td>\n",
              "      <td>-0.338471</td>\n",
              "      <td>B0FA488F2911701DD8EC5B1EA5E322D8</td>\n",
              "      <td>1613329929</td>\n",
              "      <td>D3D9F1F6F4CCFA079891511B0818FF03</td>\n",
              "      <td>6777417</td>\n",
              "      <td>888</td>\n",
              "      <td>1</td>\n",
              "      <td>1263785737</td>\n",
              "      <td>2174195</td>\n",
              "      <td>27</td>\n",
              "      <td>83</td>\n",
              "      <td>0</td>\n",
              "      <td>1540658011</td>\n",
              "      <td>0</td>\n",
              "      <td>NaN</td>\n",
              "      <td>NaN</td>\n",
              "      <td>NaN</td>\n",
              "      <td>-1.255149</td>\n",
              "      <td>0</td>\n",
              "      <td>0</td>\n",
              "      <td>0</td>\n",
              "      <td>1</td>\n",
              "    </tr>\n",
              "    <tr>\n",
              "      <th>3033901</th>\n",
              "      <td>101\\t56898\\t137\\t12480\\t11447\\t11272\\t168\\t131...</td>\n",
              "      <td>-0.354747</td>\n",
              "      <td>0A3692BBC4209238759F79D392C225C8</td>\n",
              "      <td>-0.621253</td>\n",
              "      <td>-0.338471</td>\n",
              "      <td>-0.338471</td>\n",
              "      <td>488B32D24BD4BB44172EB981C1BCA6FA</td>\n",
              "      <td>1612602313</td>\n",
              "      <td>79E0210EA9B5D9CD0A6950A1DCEBD9CA</td>\n",
              "      <td>2334</td>\n",
              "      <td>746</td>\n",
              "      <td>0</td>\n",
              "      <td>1277437851</td>\n",
              "      <td>2174196</td>\n",
              "      <td>344</td>\n",
              "      <td>638</td>\n",
              "      <td>0</td>\n",
              "      <td>1337620805</td>\n",
              "      <td>1</td>\n",
              "      <td>NaN</td>\n",
              "      <td>1.612604e+09</td>\n",
              "      <td>NaN</td>\n",
              "      <td>0.041751</td>\n",
              "      <td>1</td>\n",
              "      <td>0</td>\n",
              "      <td>0</td>\n",
              "      <td>0</td>\n",
              "    </tr>\n",
              "  </tbody>\n",
              "</table>\n",
              "<p>3033902 rows × 27 columns</p>\n",
              "</div>"
            ],
            "text/plain": [
              "                                               text_tokens  hashtags  ... top  like\n",
              "0        101\\t56898\\t137\\t16925\\t10731\\t11481\\t13980\\t1... -0.354747  ...   0     0\n",
              "1        101\\t10159\\t11322\\t58550\\t10836\\t10126\\t25900\\... -0.354747  ...   0     0\n",
              "2        101\\t10159\\t56314\\t14364\\t10109\\t14657\\t11359\\... -0.354747  ...   0     1\n",
              "3        101\\t56898\\t137\\t10224\\t10731\\t64194\\t41939\\t3... -0.354747  ...   0     0\n",
              "4        101\\t7143\\t1938\\t113\\t100\\t10097\\t100\\t10097\\t... -0.354747  ...   0     1\n",
              "...                                                    ...       ...  ...  ..   ...\n",
              "3033897  101\\t56898\\t137\\t40431\\t14678\\t11710\\t12985\\t1... -0.354747  ...   0     0\n",
              "3033898  101\\t10747\\t57667\\t10123\\t10124\\t30776\\t20149\\... -0.354747  ...   0     0\n",
              "3033899  101\\t56898\\t137\\t10211\\t10589\\t21428\\t12620\\t1... -0.354747  ...   0     0\n",
              "3033900  101\\t19561\\t10605\\t97764\\t10729\\t64008\\t30297\\... -0.354747  ...   0     1\n",
              "3033901  101\\t56898\\t137\\t12480\\t11447\\t11272\\t168\\t131... -0.354747  ...   0     0\n",
              "\n",
              "[3033902 rows x 27 columns]"
            ]
          },
          "metadata": {
            "tags": []
          },
          "execution_count": 15
        }
      ]
    },
    {
      "cell_type": "code",
      "metadata": {
        "colab": {
          "base_uri": "https://localhost:8080/"
        },
        "id": "cV75CP2n98xW",
        "outputId": "62d3ffc3-bd3d-49b6-e46e-add99912f921"
      },
      "source": [
        "gc.collect()"
      ],
      "execution_count": null,
      "outputs": [
        {
          "output_type": "execute_result",
          "data": {
            "text/plain": [
              "65"
            ]
          },
          "metadata": {
            "tags": []
          },
          "execution_count": 16
        }
      ]
    },
    {
      "cell_type": "code",
      "metadata": {
        "id": "Tl1NdCDc98xW"
      },
      "source": [
        "temp['engaging_user_id'] = temp.index"
      ],
      "execution_count": null,
      "outputs": []
    },
    {
      "cell_type": "code",
      "metadata": {
        "colab": {
          "base_uri": "https://localhost:8080/"
        },
        "id": "QVOy9OV798xX",
        "outputId": "9fcd448f-5f28-45ac-8283-d8ef62dbabe3"
      },
      "source": [
        "temp.head()"
      ],
      "execution_count": null,
      "outputs": [
        {
          "output_type": "execute_result",
          "data": {
            "text/html": [
              "<div>\n",
              "<style scoped>\n",
              "    .dataframe tbody tr th:only-of-type {\n",
              "        vertical-align: middle;\n",
              "    }\n",
              "\n",
              "    .dataframe tbody tr th {\n",
              "        vertical-align: top;\n",
              "    }\n",
              "\n",
              "    .dataframe thead th {\n",
              "        text-align: right;\n",
              "    }\n",
              "</style>\n",
              "<table border=\"1\" class=\"dataframe\">\n",
              "  <thead>\n",
              "    <tr style=\"text-align: right;\">\n",
              "      <th></th>\n",
              "      <th>frequency</th>\n",
              "      <th>engaging_user_id</th>\n",
              "    </tr>\n",
              "  </thead>\n",
              "  <tbody>\n",
              "    <tr>\n",
              "      <th>7</th>\n",
              "      <td>8</td>\n",
              "      <td>7</td>\n",
              "    </tr>\n",
              "    <tr>\n",
              "      <th>42</th>\n",
              "      <td>10</td>\n",
              "      <td>42</td>\n",
              "    </tr>\n",
              "    <tr>\n",
              "      <th>88</th>\n",
              "      <td>15</td>\n",
              "      <td>88</td>\n",
              "    </tr>\n",
              "    <tr>\n",
              "      <th>100</th>\n",
              "      <td>9</td>\n",
              "      <td>100</td>\n",
              "    </tr>\n",
              "    <tr>\n",
              "      <th>102</th>\n",
              "      <td>8</td>\n",
              "      <td>102</td>\n",
              "    </tr>\n",
              "  </tbody>\n",
              "</table>\n",
              "</div>"
            ],
            "text/plain": [
              "     frequency  engaging_user_id\n",
              "7            8                 7\n",
              "42          10                42\n",
              "88          15                88\n",
              "100          9               100\n",
              "102          8               102"
            ]
          },
          "metadata": {
            "tags": []
          },
          "execution_count": 18
        }
      ]
    },
    {
      "cell_type": "code",
      "metadata": {
        "id": "3HVZu6AV98xX"
      },
      "source": [
        "train=train.merge(temp,how=\"left\",on=\"engaging_user_id\")"
      ],
      "execution_count": null,
      "outputs": []
    },
    {
      "cell_type": "code",
      "metadata": {
        "id": "SCXaV6Xi98xY"
      },
      "source": [
        "train = train[train['frequency']>0]"
      ],
      "execution_count": null,
      "outputs": []
    },
    {
      "cell_type": "code",
      "metadata": {
        "colab": {
          "base_uri": "https://localhost:8080/"
        },
        "id": "UKz3ZVbX98xY",
        "outputId": "07b878f3-a607-4ce8-a4f9-1b0448a67a20"
      },
      "source": [
        "train"
      ],
      "execution_count": null,
      "outputs": [
        {
          "output_type": "execute_result",
          "data": {
            "text/html": [
              "<div>\n",
              "<style scoped>\n",
              "    .dataframe tbody tr th:only-of-type {\n",
              "        vertical-align: middle;\n",
              "    }\n",
              "\n",
              "    .dataframe tbody tr th {\n",
              "        vertical-align: top;\n",
              "    }\n",
              "\n",
              "    .dataframe thead th {\n",
              "        text-align: right;\n",
              "    }\n",
              "</style>\n",
              "<table border=\"1\" class=\"dataframe\">\n",
              "  <thead>\n",
              "    <tr style=\"text-align: right;\">\n",
              "      <th></th>\n",
              "      <th>text_tokens</th>\n",
              "      <th>hashtags</th>\n",
              "      <th>tweet_id</th>\n",
              "      <th>present_media</th>\n",
              "      <th>present_links</th>\n",
              "      <th>present_domains</th>\n",
              "      <th>language</th>\n",
              "      <th>tweet_timestamp</th>\n",
              "      <th>engaged_with_user_id</th>\n",
              "      <th>engaged_with_user_follower_count</th>\n",
              "      <th>engaged_with_user_following_count</th>\n",
              "      <th>engaged_with_user_is_verified</th>\n",
              "      <th>engaged_with_user_account_creation</th>\n",
              "      <th>engaging_user_id</th>\n",
              "      <th>engaging_user_follower_count</th>\n",
              "      <th>engaging_user_following_count</th>\n",
              "      <th>engaging_user_is_verified</th>\n",
              "      <th>engaging_user_account_creation</th>\n",
              "      <th>engagee_follows_engager</th>\n",
              "      <th>reply_timestamp</th>\n",
              "      <th>retweet_timestamp</th>\n",
              "      <th>retweet_with_comment_timestamp</th>\n",
              "      <th>text_len</th>\n",
              "      <th>retweet</th>\n",
              "      <th>quote</th>\n",
              "      <th>top</th>\n",
              "      <th>like</th>\n",
              "      <th>frequency</th>\n",
              "    </tr>\n",
              "  </thead>\n",
              "  <tbody>\n",
              "    <tr>\n",
              "      <th>7</th>\n",
              "      <td>101\\t164\\t100\\t166\\t47464\\t17734\\t10114\\t11850...</td>\n",
              "      <td>-0.354747</td>\n",
              "      <td>787DEDA041736D0B55A0C15E993682C1</td>\n",
              "      <td>-0.621253</td>\n",
              "      <td>-0.338471</td>\n",
              "      <td>-0.338471</td>\n",
              "      <td>488B32D24BD4BB44172EB981C1BCA6FA</td>\n",
              "      <td>1614132656</td>\n",
              "      <td>223797E039AFAC669C3A24A43B59CD5E</td>\n",
              "      <td>209681</td>\n",
              "      <td>141</td>\n",
              "      <td>0</td>\n",
              "      <td>1516334262</td>\n",
              "      <td>7</td>\n",
              "      <td>35</td>\n",
              "      <td>106</td>\n",
              "      <td>0</td>\n",
              "      <td>1581377629</td>\n",
              "      <td>0</td>\n",
              "      <td>NaN</td>\n",
              "      <td>NaN</td>\n",
              "      <td>NaN</td>\n",
              "      <td>-0.572570</td>\n",
              "      <td>0</td>\n",
              "      <td>1</td>\n",
              "      <td>0</td>\n",
              "      <td>1</td>\n",
              "      <td>8.0</td>\n",
              "    </tr>\n",
              "    <tr>\n",
              "      <th>42</th>\n",
              "      <td>101\\t15764\\t10700\\t763\\t24455\\t17329\\t19163\\t1...</td>\n",
              "      <td>-0.354747</td>\n",
              "      <td>9B25FA25E79D31D3BCC37C45F4C731E5</td>\n",
              "      <td>-0.621253</td>\n",
              "      <td>-0.338471</td>\n",
              "      <td>-0.338471</td>\n",
              "      <td>9A78FC330083E72BE0DD1EA92656F3B5</td>\n",
              "      <td>1612472571</td>\n",
              "      <td>A5A49E65DE6B45652AFCA96BB96EB7D0</td>\n",
              "      <td>15152</td>\n",
              "      <td>1563</td>\n",
              "      <td>0</td>\n",
              "      <td>1427441187</td>\n",
              "      <td>42</td>\n",
              "      <td>167</td>\n",
              "      <td>394</td>\n",
              "      <td>0</td>\n",
              "      <td>1546022960</td>\n",
              "      <td>1</td>\n",
              "      <td>NaN</td>\n",
              "      <td>NaN</td>\n",
              "      <td>NaN</td>\n",
              "      <td>-1.152762</td>\n",
              "      <td>0</td>\n",
              "      <td>0</td>\n",
              "      <td>0</td>\n",
              "      <td>1</td>\n",
              "      <td>10.0</td>\n",
              "    </tr>\n",
              "    <tr>\n",
              "      <th>88</th>\n",
              "      <td>101\\t100\\t14120\\t131\\t120\\t120\\t188\\t119\\t1117...</td>\n",
              "      <td>-0.354747</td>\n",
              "      <td>23EED02EF54627746864178BEC619BAB</td>\n",
              "      <td>0.499838</td>\n",
              "      <td>-0.338471</td>\n",
              "      <td>-0.338471</td>\n",
              "      <td>313ECD3A1E5BB07406E4249475C2D6D6</td>\n",
              "      <td>1613219107</td>\n",
              "      <td>6F20AD7BE5CFA479678F28F4D8DF7EED</td>\n",
              "      <td>151</td>\n",
              "      <td>254</td>\n",
              "      <td>0</td>\n",
              "      <td>1599062672</td>\n",
              "      <td>88</td>\n",
              "      <td>799</td>\n",
              "      <td>958</td>\n",
              "      <td>0</td>\n",
              "      <td>1599118585</td>\n",
              "      <td>1</td>\n",
              "      <td>NaN</td>\n",
              "      <td>NaN</td>\n",
              "      <td>NaN</td>\n",
              "      <td>-0.879731</td>\n",
              "      <td>0</td>\n",
              "      <td>0</td>\n",
              "      <td>0</td>\n",
              "      <td>1</td>\n",
              "      <td>15.0</td>\n",
              "    </tr>\n",
              "    <tr>\n",
              "      <th>100</th>\n",
              "      <td>101\\t10117\\t10817\\t10124\\t16683\\t10452\\t89025\\...</td>\n",
              "      <td>-0.354747</td>\n",
              "      <td>0B8A89DC11512E31049B6A7225F86531</td>\n",
              "      <td>-0.621253</td>\n",
              "      <td>-0.338471</td>\n",
              "      <td>-0.338471</td>\n",
              "      <td>488B32D24BD4BB44172EB981C1BCA6FA</td>\n",
              "      <td>1612663152</td>\n",
              "      <td>5C5AAD876AB3B53AB1E70E77C9324EAA</td>\n",
              "      <td>35474</td>\n",
              "      <td>1938</td>\n",
              "      <td>1</td>\n",
              "      <td>1356917793</td>\n",
              "      <td>100</td>\n",
              "      <td>424</td>\n",
              "      <td>493</td>\n",
              "      <td>0</td>\n",
              "      <td>1169766828</td>\n",
              "      <td>0</td>\n",
              "      <td>NaN</td>\n",
              "      <td>NaN</td>\n",
              "      <td>NaN</td>\n",
              "      <td>-0.572570</td>\n",
              "      <td>0</td>\n",
              "      <td>0</td>\n",
              "      <td>0</td>\n",
              "      <td>1</td>\n",
              "      <td>9.0</td>\n",
              "    </tr>\n",
              "    <tr>\n",
              "      <th>102</th>\n",
              "      <td>101\\t14962\\t10114\\t29922\\t10105\\t14428\\t26623\\...</td>\n",
              "      <td>-0.354747</td>\n",
              "      <td>803258AB3CE7D4F7971B634D79D96BA6</td>\n",
              "      <td>-0.621253</td>\n",
              "      <td>2.577894</td>\n",
              "      <td>2.577894</td>\n",
              "      <td>488B32D24BD4BB44172EB981C1BCA6FA</td>\n",
              "      <td>1613505146</td>\n",
              "      <td>9C0302E820C42214B6678FB77E1CF4D2</td>\n",
              "      <td>7620139</td>\n",
              "      <td>1730</td>\n",
              "      <td>1</td>\n",
              "      <td>1232922624</td>\n",
              "      <td>102</td>\n",
              "      <td>200</td>\n",
              "      <td>335</td>\n",
              "      <td>0</td>\n",
              "      <td>1344541813</td>\n",
              "      <td>0</td>\n",
              "      <td>NaN</td>\n",
              "      <td>NaN</td>\n",
              "      <td>NaN</td>\n",
              "      <td>-0.504312</td>\n",
              "      <td>0</td>\n",
              "      <td>0</td>\n",
              "      <td>0</td>\n",
              "      <td>0</td>\n",
              "      <td>8.0</td>\n",
              "    </tr>\n",
              "    <tr>\n",
              "      <th>...</th>\n",
              "      <td>...</td>\n",
              "      <td>...</td>\n",
              "      <td>...</td>\n",
              "      <td>...</td>\n",
              "      <td>...</td>\n",
              "      <td>...</td>\n",
              "      <td>...</td>\n",
              "      <td>...</td>\n",
              "      <td>...</td>\n",
              "      <td>...</td>\n",
              "      <td>...</td>\n",
              "      <td>...</td>\n",
              "      <td>...</td>\n",
              "      <td>...</td>\n",
              "      <td>...</td>\n",
              "      <td>...</td>\n",
              "      <td>...</td>\n",
              "      <td>...</td>\n",
              "      <td>...</td>\n",
              "      <td>...</td>\n",
              "      <td>...</td>\n",
              "      <td>...</td>\n",
              "      <td>...</td>\n",
              "      <td>...</td>\n",
              "      <td>...</td>\n",
              "      <td>...</td>\n",
              "      <td>...</td>\n",
              "      <td>...</td>\n",
              "    </tr>\n",
              "    <tr>\n",
              "      <th>3033821</th>\n",
              "      <td>101\\t17073\\t146\\t19556\\t169\\t12229\\t55785\\t419...</td>\n",
              "      <td>-0.354747</td>\n",
              "      <td>ECF31ED9BC29E57064DEDF7647DCDBFC</td>\n",
              "      <td>-0.621253</td>\n",
              "      <td>-0.338471</td>\n",
              "      <td>-0.338471</td>\n",
              "      <td>488B32D24BD4BB44172EB981C1BCA6FA</td>\n",
              "      <td>1613887057</td>\n",
              "      <td>31009B27BF3B4BF8C87588C0E0C2924B</td>\n",
              "      <td>2245</td>\n",
              "      <td>716</td>\n",
              "      <td>0</td>\n",
              "      <td>1233876885</td>\n",
              "      <td>2174144</td>\n",
              "      <td>766</td>\n",
              "      <td>412</td>\n",
              "      <td>0</td>\n",
              "      <td>1326762970</td>\n",
              "      <td>1</td>\n",
              "      <td>NaN</td>\n",
              "      <td>NaN</td>\n",
              "      <td>NaN</td>\n",
              "      <td>-0.777344</td>\n",
              "      <td>0</td>\n",
              "      <td>0</td>\n",
              "      <td>0</td>\n",
              "      <td>0</td>\n",
              "      <td>12.0</td>\n",
              "    </tr>\n",
              "    <tr>\n",
              "      <th>3033838</th>\n",
              "      <td>101\\t56898\\t137\\t67952\\t98486\\t10157\\t63615\\t1...</td>\n",
              "      <td>-0.354747</td>\n",
              "      <td>D3E2FE3908C4D90CE784E852D4B7E2FE</td>\n",
              "      <td>-0.621253</td>\n",
              "      <td>-0.338471</td>\n",
              "      <td>-0.338471</td>\n",
              "      <td>488B32D24BD4BB44172EB981C1BCA6FA</td>\n",
              "      <td>1613589544</td>\n",
              "      <td>0F322FA675F4E0A8AB685E97BC9351A1</td>\n",
              "      <td>237</td>\n",
              "      <td>139</td>\n",
              "      <td>0</td>\n",
              "      <td>1380646920</td>\n",
              "      <td>2174156</td>\n",
              "      <td>61</td>\n",
              "      <td>82</td>\n",
              "      <td>0</td>\n",
              "      <td>1535477278</td>\n",
              "      <td>0</td>\n",
              "      <td>NaN</td>\n",
              "      <td>NaN</td>\n",
              "      <td>NaN</td>\n",
              "      <td>-0.845602</td>\n",
              "      <td>1</td>\n",
              "      <td>0</td>\n",
              "      <td>0</td>\n",
              "      <td>1</td>\n",
              "      <td>9.0</td>\n",
              "    </tr>\n",
              "    <tr>\n",
              "      <th>3033845</th>\n",
              "      <td>101\\t36448\\t13013\\t11559\\t10126\\t33478\\t13904\\...</td>\n",
              "      <td>-0.354747</td>\n",
              "      <td>82EDEC74FCC1E0276B8C1FC946949E5D</td>\n",
              "      <td>-0.621253</td>\n",
              "      <td>-0.338471</td>\n",
              "      <td>-0.338471</td>\n",
              "      <td>B8B04128918BBF54E2E178BFF1ABA833</td>\n",
              "      <td>1613320217</td>\n",
              "      <td>CDDD553B7B28EAEC321E2F2E65DBBAC8</td>\n",
              "      <td>34485</td>\n",
              "      <td>95</td>\n",
              "      <td>0</td>\n",
              "      <td>1296677208</td>\n",
              "      <td>78332</td>\n",
              "      <td>140</td>\n",
              "      <td>686</td>\n",
              "      <td>0</td>\n",
              "      <td>1409997952</td>\n",
              "      <td>0</td>\n",
              "      <td>NaN</td>\n",
              "      <td>NaN</td>\n",
              "      <td>NaN</td>\n",
              "      <td>-0.811473</td>\n",
              "      <td>0</td>\n",
              "      <td>0</td>\n",
              "      <td>0</td>\n",
              "      <td>1</td>\n",
              "      <td>8.0</td>\n",
              "    </tr>\n",
              "    <tr>\n",
              "      <th>3033856</th>\n",
              "      <td>101\\t108\\t177\\t57277\\t69196\\t12396\\t33893\\t722...</td>\n",
              "      <td>7.709830</td>\n",
              "      <td>A131922DCE502E5CE7FF5737BEF3F285</td>\n",
              "      <td>0.499838</td>\n",
              "      <td>-0.338471</td>\n",
              "      <td>-0.338471</td>\n",
              "      <td>8729EBF694C3DAF61208A209C2A542C8</td>\n",
              "      <td>1613897121</td>\n",
              "      <td>F7A7DB4563C6177579D581CE80D4F24D</td>\n",
              "      <td>1029865</td>\n",
              "      <td>11</td>\n",
              "      <td>1</td>\n",
              "      <td>1437139395</td>\n",
              "      <td>2174166</td>\n",
              "      <td>47</td>\n",
              "      <td>153</td>\n",
              "      <td>0</td>\n",
              "      <td>1517834704</td>\n",
              "      <td>0</td>\n",
              "      <td>NaN</td>\n",
              "      <td>NaN</td>\n",
              "      <td>NaN</td>\n",
              "      <td>1.509297</td>\n",
              "      <td>0</td>\n",
              "      <td>0</td>\n",
              "      <td>0</td>\n",
              "      <td>1</td>\n",
              "      <td>8.0</td>\n",
              "    </tr>\n",
              "    <tr>\n",
              "      <th>3033897</th>\n",
              "      <td>101\\t56898\\t137\\t40431\\t14678\\t11710\\t12985\\t1...</td>\n",
              "      <td>-0.354747</td>\n",
              "      <td>25B1D557E6B6D7298CA3888C72F9F7B5</td>\n",
              "      <td>-0.621253</td>\n",
              "      <td>-0.338471</td>\n",
              "      <td>-0.338471</td>\n",
              "      <td>B8B04128918BBF54E2E178BFF1ABA833</td>\n",
              "      <td>1612804061</td>\n",
              "      <td>D61350A37DDC6E19AD5B1D44C607FF7D</td>\n",
              "      <td>2230</td>\n",
              "      <td>2332</td>\n",
              "      <td>0</td>\n",
              "      <td>1562591414</td>\n",
              "      <td>2174192</td>\n",
              "      <td>254</td>\n",
              "      <td>342</td>\n",
              "      <td>0</td>\n",
              "      <td>1505241576</td>\n",
              "      <td>1</td>\n",
              "      <td>NaN</td>\n",
              "      <td>NaN</td>\n",
              "      <td>NaN</td>\n",
              "      <td>-0.026507</td>\n",
              "      <td>1</td>\n",
              "      <td>0</td>\n",
              "      <td>0</td>\n",
              "      <td>0</td>\n",
              "      <td>8.0</td>\n",
              "    </tr>\n",
              "  </tbody>\n",
              "</table>\n",
              "<p>118541 rows × 28 columns</p>\n",
              "</div>"
            ],
            "text/plain": [
              "                                               text_tokens  ...  frequency\n",
              "7        101\\t164\\t100\\t166\\t47464\\t17734\\t10114\\t11850...  ...        8.0\n",
              "42       101\\t15764\\t10700\\t763\\t24455\\t17329\\t19163\\t1...  ...       10.0\n",
              "88       101\\t100\\t14120\\t131\\t120\\t120\\t188\\t119\\t1117...  ...       15.0\n",
              "100      101\\t10117\\t10817\\t10124\\t16683\\t10452\\t89025\\...  ...        9.0\n",
              "102      101\\t14962\\t10114\\t29922\\t10105\\t14428\\t26623\\...  ...        8.0\n",
              "...                                                    ...  ...        ...\n",
              "3033821  101\\t17073\\t146\\t19556\\t169\\t12229\\t55785\\t419...  ...       12.0\n",
              "3033838  101\\t56898\\t137\\t67952\\t98486\\t10157\\t63615\\t1...  ...        9.0\n",
              "3033845  101\\t36448\\t13013\\t11559\\t10126\\t33478\\t13904\\...  ...        8.0\n",
              "3033856  101\\t108\\t177\\t57277\\t69196\\t12396\\t33893\\t722...  ...        8.0\n",
              "3033897  101\\t56898\\t137\\t40431\\t14678\\t11710\\t12985\\t1...  ...        8.0\n",
              "\n",
              "[118541 rows x 28 columns]"
            ]
          },
          "metadata": {
            "tags": []
          },
          "execution_count": 21
        }
      ]
    },
    {
      "cell_type": "code",
      "metadata": {
        "colab": {
          "base_uri": "https://localhost:8080/"
        },
        "id": "iL4rCPk598xY",
        "outputId": "75330ec9-c123-4fdd-87da-34c4629e50e5"
      },
      "source": [
        "train[train[\"engaging_user_id\"]==7]"
      ],
      "execution_count": null,
      "outputs": [
        {
          "output_type": "execute_result",
          "data": {
            "text/html": [
              "<div>\n",
              "<style scoped>\n",
              "    .dataframe tbody tr th:only-of-type {\n",
              "        vertical-align: middle;\n",
              "    }\n",
              "\n",
              "    .dataframe tbody tr th {\n",
              "        vertical-align: top;\n",
              "    }\n",
              "\n",
              "    .dataframe thead th {\n",
              "        text-align: right;\n",
              "    }\n",
              "</style>\n",
              "<table border=\"1\" class=\"dataframe\">\n",
              "  <thead>\n",
              "    <tr style=\"text-align: right;\">\n",
              "      <th></th>\n",
              "      <th>text_tokens</th>\n",
              "      <th>hashtags</th>\n",
              "      <th>tweet_id</th>\n",
              "      <th>present_media</th>\n",
              "      <th>present_links</th>\n",
              "      <th>present_domains</th>\n",
              "      <th>language</th>\n",
              "      <th>tweet_timestamp</th>\n",
              "      <th>engaged_with_user_id</th>\n",
              "      <th>engaged_with_user_follower_count</th>\n",
              "      <th>engaged_with_user_following_count</th>\n",
              "      <th>engaged_with_user_is_verified</th>\n",
              "      <th>engaged_with_user_account_creation</th>\n",
              "      <th>engaging_user_id</th>\n",
              "      <th>engaging_user_follower_count</th>\n",
              "      <th>engaging_user_following_count</th>\n",
              "      <th>engaging_user_is_verified</th>\n",
              "      <th>engaging_user_account_creation</th>\n",
              "      <th>engagee_follows_engager</th>\n",
              "      <th>reply_timestamp</th>\n",
              "      <th>retweet_timestamp</th>\n",
              "      <th>retweet_with_comment_timestamp</th>\n",
              "      <th>text_len</th>\n",
              "      <th>retweet</th>\n",
              "      <th>quote</th>\n",
              "      <th>top</th>\n",
              "      <th>like</th>\n",
              "      <th>frequency</th>\n",
              "    </tr>\n",
              "  </thead>\n",
              "  <tbody>\n",
              "    <tr>\n",
              "      <th>7</th>\n",
              "      <td>101\\t164\\t100\\t166\\t47464\\t17734\\t10114\\t11850...</td>\n",
              "      <td>-0.354747</td>\n",
              "      <td>787DEDA041736D0B55A0C15E993682C1</td>\n",
              "      <td>-0.621253</td>\n",
              "      <td>-0.338471</td>\n",
              "      <td>-0.338471</td>\n",
              "      <td>488B32D24BD4BB44172EB981C1BCA6FA</td>\n",
              "      <td>1614132656</td>\n",
              "      <td>223797E039AFAC669C3A24A43B59CD5E</td>\n",
              "      <td>209681</td>\n",
              "      <td>141</td>\n",
              "      <td>0</td>\n",
              "      <td>1516334262</td>\n",
              "      <td>7</td>\n",
              "      <td>35</td>\n",
              "      <td>106</td>\n",
              "      <td>0</td>\n",
              "      <td>1581377629</td>\n",
              "      <td>0</td>\n",
              "      <td>NaN</td>\n",
              "      <td>NaN</td>\n",
              "      <td>NaN</td>\n",
              "      <td>-0.572570</td>\n",
              "      <td>0</td>\n",
              "      <td>1</td>\n",
              "      <td>0</td>\n",
              "      <td>1</td>\n",
              "      <td>8.0</td>\n",
              "    </tr>\n",
              "    <tr>\n",
              "      <th>543445</th>\n",
              "      <td>101\\t56898\\t137\\t148\\t42031\\t15417\\t19088\\t114...</td>\n",
              "      <td>-0.354747</td>\n",
              "      <td>29847B144E32F30C5C2DD16CDC1EF259</td>\n",
              "      <td>-0.621253</td>\n",
              "      <td>-0.338471</td>\n",
              "      <td>-0.338471</td>\n",
              "      <td>488B32D24BD4BB44172EB981C1BCA6FA</td>\n",
              "      <td>1613748193</td>\n",
              "      <td>3C89DB0BFC4D0207969515683D8A1058</td>\n",
              "      <td>607730</td>\n",
              "      <td>104</td>\n",
              "      <td>0</td>\n",
              "      <td>1400243591</td>\n",
              "      <td>7</td>\n",
              "      <td>35</td>\n",
              "      <td>106</td>\n",
              "      <td>0</td>\n",
              "      <td>1581377629</td>\n",
              "      <td>0</td>\n",
              "      <td>NaN</td>\n",
              "      <td>1.613749e+09</td>\n",
              "      <td>NaN</td>\n",
              "      <td>0.348912</td>\n",
              "      <td>1</td>\n",
              "      <td>0</td>\n",
              "      <td>0</td>\n",
              "      <td>0</td>\n",
              "      <td>8.0</td>\n",
              "    </tr>\n",
              "    <tr>\n",
              "      <th>680439</th>\n",
              "      <td>101\\t58573\\t131\\t137\\t193\\t22500\\t168\\t14731\\t...</td>\n",
              "      <td>0.541317</td>\n",
              "      <td>55EA3882CDC9369BF9A5344D76F6C5EC</td>\n",
              "      <td>0.499838</td>\n",
              "      <td>-0.338471</td>\n",
              "      <td>-0.338471</td>\n",
              "      <td>8729EBF694C3DAF61208A209C2A542C8</td>\n",
              "      <td>1612917000</td>\n",
              "      <td>1E4380A3AE8DBCD4E16BE7815A826FBA</td>\n",
              "      <td>341445</td>\n",
              "      <td>206</td>\n",
              "      <td>0</td>\n",
              "      <td>1461311652</td>\n",
              "      <td>7</td>\n",
              "      <td>35</td>\n",
              "      <td>106</td>\n",
              "      <td>0</td>\n",
              "      <td>1581377629</td>\n",
              "      <td>0</td>\n",
              "      <td>NaN</td>\n",
              "      <td>NaN</td>\n",
              "      <td>NaN</td>\n",
              "      <td>2.601423</td>\n",
              "      <td>0</td>\n",
              "      <td>0</td>\n",
              "      <td>0</td>\n",
              "      <td>1</td>\n",
              "      <td>8.0</td>\n",
              "    </tr>\n",
              "    <tr>\n",
              "      <th>1369403</th>\n",
              "      <td>101\\t100\\t14120\\t131\\t120\\t120\\t188\\t119\\t1117...</td>\n",
              "      <td>-0.354747</td>\n",
              "      <td>AE62799DC2A663D542FB92AAF531E5D1</td>\n",
              "      <td>0.499838</td>\n",
              "      <td>-0.338471</td>\n",
              "      <td>-0.338471</td>\n",
              "      <td>313ECD3A1E5BB07406E4249475C2D6D6</td>\n",
              "      <td>1612752917</td>\n",
              "      <td>4E94CC63145741EC47F0B7F657202BA6</td>\n",
              "      <td>32807755</td>\n",
              "      <td>141</td>\n",
              "      <td>1</td>\n",
              "      <td>1305959576</td>\n",
              "      <td>7</td>\n",
              "      <td>35</td>\n",
              "      <td>106</td>\n",
              "      <td>0</td>\n",
              "      <td>1581377629</td>\n",
              "      <td>0</td>\n",
              "      <td>NaN</td>\n",
              "      <td>NaN</td>\n",
              "      <td>NaN</td>\n",
              "      <td>-0.879731</td>\n",
              "      <td>0</td>\n",
              "      <td>0</td>\n",
              "      <td>0</td>\n",
              "      <td>1</td>\n",
              "      <td>8.0</td>\n",
              "    </tr>\n",
              "    <tr>\n",
              "      <th>1900419</th>\n",
              "      <td>101\\t56898\\t137\\t66238\\t11127\\t46382\\t131\\t827...</td>\n",
              "      <td>0.541317</td>\n",
              "      <td>48473E29DD77282DC875E137BA01A140</td>\n",
              "      <td>-0.621253</td>\n",
              "      <td>-0.338471</td>\n",
              "      <td>-0.338471</td>\n",
              "      <td>488B32D24BD4BB44172EB981C1BCA6FA</td>\n",
              "      <td>1613832624</td>\n",
              "      <td>167DA54259962F752BB57CDADDC49D89</td>\n",
              "      <td>141736</td>\n",
              "      <td>54</td>\n",
              "      <td>0</td>\n",
              "      <td>1543333956</td>\n",
              "      <td>7</td>\n",
              "      <td>35</td>\n",
              "      <td>106</td>\n",
              "      <td>0</td>\n",
              "      <td>1581377629</td>\n",
              "      <td>0</td>\n",
              "      <td>NaN</td>\n",
              "      <td>NaN</td>\n",
              "      <td>NaN</td>\n",
              "      <td>0.212396</td>\n",
              "      <td>1</td>\n",
              "      <td>0</td>\n",
              "      <td>0</td>\n",
              "      <td>1</td>\n",
              "      <td>8.0</td>\n",
              "    </tr>\n",
              "    <tr>\n",
              "      <th>2421270</th>\n",
              "      <td>101\\t164\\t10109\\t91113\\t12536\\t10113\\t168\\t181...</td>\n",
              "      <td>1.437381</td>\n",
              "      <td>C39BF4C5EAA5E25BC0717E2D45432192</td>\n",
              "      <td>0.499838</td>\n",
              "      <td>-0.338471</td>\n",
              "      <td>-0.338471</td>\n",
              "      <td>5A0759FB938B1D9B1E08B7A3A14F1042</td>\n",
              "      <td>1614179521</td>\n",
              "      <td>23592AA28F01AB84FC2D4C6C5EB8B996</td>\n",
              "      <td>70677</td>\n",
              "      <td>46</td>\n",
              "      <td>0</td>\n",
              "      <td>1566458680</td>\n",
              "      <td>7</td>\n",
              "      <td>35</td>\n",
              "      <td>106</td>\n",
              "      <td>0</td>\n",
              "      <td>1581377629</td>\n",
              "      <td>0</td>\n",
              "      <td>NaN</td>\n",
              "      <td>1.614180e+09</td>\n",
              "      <td>NaN</td>\n",
              "      <td>1.168007</td>\n",
              "      <td>0</td>\n",
              "      <td>0</td>\n",
              "      <td>0</td>\n",
              "      <td>1</td>\n",
              "      <td>8.0</td>\n",
              "    </tr>\n",
              "    <tr>\n",
              "      <th>2617249</th>\n",
              "      <td>101\\t97362\\t48281\\t106433\\t10415\\t10462\\t131\\t...</td>\n",
              "      <td>-0.354747</td>\n",
              "      <td>D8B794EE89D63F3D0AAF4336A919A336</td>\n",
              "      <td>-0.621253</td>\n",
              "      <td>2.577894</td>\n",
              "      <td>2.577894</td>\n",
              "      <td>488B32D24BD4BB44172EB981C1BCA6FA</td>\n",
              "      <td>1613501715</td>\n",
              "      <td>CE13D4ACB25B483D0B32E866E406BCFF</td>\n",
              "      <td>50701</td>\n",
              "      <td>76</td>\n",
              "      <td>0</td>\n",
              "      <td>1463690469</td>\n",
              "      <td>7</td>\n",
              "      <td>35</td>\n",
              "      <td>106</td>\n",
              "      <td>0</td>\n",
              "      <td>1581377629</td>\n",
              "      <td>0</td>\n",
              "      <td>NaN</td>\n",
              "      <td>NaN</td>\n",
              "      <td>NaN</td>\n",
              "      <td>0.212396</td>\n",
              "      <td>0</td>\n",
              "      <td>0</td>\n",
              "      <td>0</td>\n",
              "      <td>1</td>\n",
              "      <td>8.0</td>\n",
              "    </tr>\n",
              "    <tr>\n",
              "      <th>2687647</th>\n",
              "      <td>101\\t100\\t196\\t27277\\t49248\\t32992\\t82834\\t358...</td>\n",
              "      <td>0.541317</td>\n",
              "      <td>DA815D8556F98F0271D1D2E516B52AB4</td>\n",
              "      <td>0.499838</td>\n",
              "      <td>2.577894</td>\n",
              "      <td>2.577894</td>\n",
              "      <td>488B32D24BD4BB44172EB981C1BCA6FA</td>\n",
              "      <td>1612854213</td>\n",
              "      <td>F3115402B4DD8515B5A7E595AF752F09</td>\n",
              "      <td>53630</td>\n",
              "      <td>64</td>\n",
              "      <td>0</td>\n",
              "      <td>1554606279</td>\n",
              "      <td>7</td>\n",
              "      <td>35</td>\n",
              "      <td>106</td>\n",
              "      <td>0</td>\n",
              "      <td>1581377629</td>\n",
              "      <td>0</td>\n",
              "      <td>NaN</td>\n",
              "      <td>NaN</td>\n",
              "      <td>NaN</td>\n",
              "      <td>2.362521</td>\n",
              "      <td>0</td>\n",
              "      <td>0</td>\n",
              "      <td>0</td>\n",
              "      <td>1</td>\n",
              "      <td>8.0</td>\n",
              "    </tr>\n",
              "  </tbody>\n",
              "</table>\n",
              "</div>"
            ],
            "text/plain": [
              "                                               text_tokens  ...  frequency\n",
              "7        101\\t164\\t100\\t166\\t47464\\t17734\\t10114\\t11850...  ...        8.0\n",
              "543445   101\\t56898\\t137\\t148\\t42031\\t15417\\t19088\\t114...  ...        8.0\n",
              "680439   101\\t58573\\t131\\t137\\t193\\t22500\\t168\\t14731\\t...  ...        8.0\n",
              "1369403  101\\t100\\t14120\\t131\\t120\\t120\\t188\\t119\\t1117...  ...        8.0\n",
              "1900419  101\\t56898\\t137\\t66238\\t11127\\t46382\\t131\\t827...  ...        8.0\n",
              "2421270  101\\t164\\t10109\\t91113\\t12536\\t10113\\t168\\t181...  ...        8.0\n",
              "2617249  101\\t97362\\t48281\\t106433\\t10415\\t10462\\t131\\t...  ...        8.0\n",
              "2687647  101\\t100\\t196\\t27277\\t49248\\t32992\\t82834\\t358...  ...        8.0\n",
              "\n",
              "[8 rows x 28 columns]"
            ]
          },
          "metadata": {
            "tags": []
          },
          "execution_count": 22
        }
      ]
    },
    {
      "cell_type": "code",
      "metadata": {
        "id": "3WViM5q198xZ"
      },
      "source": [
        "msk = np.random.rand(len(train)) < 0.8\n",
        "test=train[~msk]\n",
        "train=train[msk]"
      ],
      "execution_count": null,
      "outputs": []
    },
    {
      "cell_type": "code",
      "metadata": {
        "colab": {
          "base_uri": "https://localhost:8080/"
        },
        "id": "yaHQJkPb98xZ",
        "outputId": "34e03f3e-f2c7-4fc4-a401-b0ecdfce4c9d"
      },
      "source": [
        "target=train[\"like\"].values\n",
        "targetTest=test[\"like\"].values\n",
        "gc.collect()"
      ],
      "execution_count": null,
      "outputs": [
        {
          "output_type": "execute_result",
          "data": {
            "text/plain": [
              "50"
            ]
          },
          "metadata": {
            "tags": []
          },
          "execution_count": 24
        }
      ]
    },
    {
      "cell_type": "code",
      "metadata": {
        "colab": {
          "base_uri": "https://localhost:8080/"
        },
        "id": "LlaczuZZ98xc",
        "outputId": "2fe768f0-72a3-49f7-ec06-92689fb3017e"
      },
      "source": [
        "for col in train.columns:\n",
        "    if col not in features:\n",
        "        train.drop(col,axis=1,inplace=True)\n",
        "        test.drop(col,axis=1,inplace=True)"
      ],
      "execution_count": null,
      "outputs": [
        {
          "output_type": "stream",
          "text": [
            "/usr/local/lib/python3.7/dist-packages/pandas/core/frame.py:4174: SettingWithCopyWarning: \n",
            "A value is trying to be set on a copy of a slice from a DataFrame\n",
            "\n",
            "See the caveats in the documentation: https://pandas.pydata.org/pandas-docs/stable/user_guide/indexing.html#returning-a-view-versus-a-copy\n",
            "  errors=errors,\n"
          ],
          "name": "stderr"
        }
      ]
    },
    {
      "cell_type": "code",
      "metadata": {
        "colab": {
          "base_uri": "https://localhost:8080/"
        },
        "id": "LzBcQKdl98xd",
        "outputId": "e33454c7-958f-4596-8ab4-2535e22dfc7f"
      },
      "source": [
        "train.columns"
      ],
      "execution_count": null,
      "outputs": [
        {
          "output_type": "execute_result",
          "data": {
            "text/plain": [
              "Index(['text_tokens', 'hashtags', 'present_media', 'present_links',\n",
              "       'present_domains', 'engaged_with_user_is_verified', 'engaging_user_id',\n",
              "       'engaging_user_is_verified', 'engagee_follows_engager', 'text_len',\n",
              "       'retweet', 'quote', 'top'],\n",
              "      dtype='object')"
            ]
          },
          "metadata": {
            "tags": []
          },
          "execution_count": 26
        }
      ]
    },
    {
      "cell_type": "code",
      "metadata": {
        "id": "R-1oQeZL98xd"
      },
      "source": [
        "train=train[['text_tokens', 'hashtags', 'present_media', 'present_links',\n",
        "       'present_domains', 'text_len',\n",
        "       'retweet', 'quote', 'top',\n",
        "       'engaging_user_is_verified', 'engagee_follows_engager','engaged_with_user_is_verified',  'engaging_user_id']]\n",
        "test=test[['text_tokens', 'hashtags', 'present_media', 'present_links',\n",
        "       'present_domains', 'text_len',\n",
        "       'retweet', 'quote', 'top',\n",
        "       'engaging_user_is_verified', 'engagee_follows_engager','engaged_with_user_is_verified',  'engaging_user_id']]"
      ],
      "execution_count": null,
      "outputs": []
    },
    {
      "cell_type": "code",
      "metadata": {
        "colab": {
          "base_uri": "https://localhost:8080/"
        },
        "id": "HZWpFDHz98xe",
        "outputId": "e2203d8c-0190-4b2d-defd-fa066a65f0dc"
      },
      "source": [
        "train.head()"
      ],
      "execution_count": null,
      "outputs": [
        {
          "output_type": "execute_result",
          "data": {
            "text/html": [
              "<div>\n",
              "<style scoped>\n",
              "    .dataframe tbody tr th:only-of-type {\n",
              "        vertical-align: middle;\n",
              "    }\n",
              "\n",
              "    .dataframe tbody tr th {\n",
              "        vertical-align: top;\n",
              "    }\n",
              "\n",
              "    .dataframe thead th {\n",
              "        text-align: right;\n",
              "    }\n",
              "</style>\n",
              "<table border=\"1\" class=\"dataframe\">\n",
              "  <thead>\n",
              "    <tr style=\"text-align: right;\">\n",
              "      <th></th>\n",
              "      <th>text_tokens</th>\n",
              "      <th>hashtags</th>\n",
              "      <th>present_media</th>\n",
              "      <th>present_links</th>\n",
              "      <th>present_domains</th>\n",
              "      <th>text_len</th>\n",
              "      <th>retweet</th>\n",
              "      <th>quote</th>\n",
              "      <th>top</th>\n",
              "      <th>engaging_user_is_verified</th>\n",
              "      <th>engagee_follows_engager</th>\n",
              "      <th>engaged_with_user_is_verified</th>\n",
              "      <th>engaging_user_id</th>\n",
              "    </tr>\n",
              "  </thead>\n",
              "  <tbody>\n",
              "    <tr>\n",
              "      <th>7</th>\n",
              "      <td>101\\t164\\t100\\t166\\t47464\\t17734\\t10114\\t11850...</td>\n",
              "      <td>-0.354747</td>\n",
              "      <td>-0.621253</td>\n",
              "      <td>-0.338471</td>\n",
              "      <td>-0.338471</td>\n",
              "      <td>-0.572570</td>\n",
              "      <td>0</td>\n",
              "      <td>1</td>\n",
              "      <td>0</td>\n",
              "      <td>0</td>\n",
              "      <td>0</td>\n",
              "      <td>0</td>\n",
              "      <td>7</td>\n",
              "    </tr>\n",
              "    <tr>\n",
              "      <th>42</th>\n",
              "      <td>101\\t15764\\t10700\\t763\\t24455\\t17329\\t19163\\t1...</td>\n",
              "      <td>-0.354747</td>\n",
              "      <td>-0.621253</td>\n",
              "      <td>-0.338471</td>\n",
              "      <td>-0.338471</td>\n",
              "      <td>-1.152762</td>\n",
              "      <td>0</td>\n",
              "      <td>0</td>\n",
              "      <td>0</td>\n",
              "      <td>0</td>\n",
              "      <td>1</td>\n",
              "      <td>0</td>\n",
              "      <td>42</td>\n",
              "    </tr>\n",
              "    <tr>\n",
              "      <th>88</th>\n",
              "      <td>101\\t100\\t14120\\t131\\t120\\t120\\t188\\t119\\t1117...</td>\n",
              "      <td>-0.354747</td>\n",
              "      <td>0.499838</td>\n",
              "      <td>-0.338471</td>\n",
              "      <td>-0.338471</td>\n",
              "      <td>-0.879731</td>\n",
              "      <td>0</td>\n",
              "      <td>0</td>\n",
              "      <td>0</td>\n",
              "      <td>0</td>\n",
              "      <td>1</td>\n",
              "      <td>0</td>\n",
              "      <td>88</td>\n",
              "    </tr>\n",
              "    <tr>\n",
              "      <th>100</th>\n",
              "      <td>101\\t10117\\t10817\\t10124\\t16683\\t10452\\t89025\\...</td>\n",
              "      <td>-0.354747</td>\n",
              "      <td>-0.621253</td>\n",
              "      <td>-0.338471</td>\n",
              "      <td>-0.338471</td>\n",
              "      <td>-0.572570</td>\n",
              "      <td>0</td>\n",
              "      <td>0</td>\n",
              "      <td>0</td>\n",
              "      <td>0</td>\n",
              "      <td>0</td>\n",
              "      <td>1</td>\n",
              "      <td>100</td>\n",
              "    </tr>\n",
              "    <tr>\n",
              "      <th>102</th>\n",
              "      <td>101\\t14962\\t10114\\t29922\\t10105\\t14428\\t26623\\...</td>\n",
              "      <td>-0.354747</td>\n",
              "      <td>-0.621253</td>\n",
              "      <td>2.577894</td>\n",
              "      <td>2.577894</td>\n",
              "      <td>-0.504312</td>\n",
              "      <td>0</td>\n",
              "      <td>0</td>\n",
              "      <td>0</td>\n",
              "      <td>0</td>\n",
              "      <td>0</td>\n",
              "      <td>1</td>\n",
              "      <td>102</td>\n",
              "    </tr>\n",
              "  </tbody>\n",
              "</table>\n",
              "</div>"
            ],
            "text/plain": [
              "                                           text_tokens  ...  engaging_user_id\n",
              "7    101\\t164\\t100\\t166\\t47464\\t17734\\t10114\\t11850...  ...                 7\n",
              "42   101\\t15764\\t10700\\t763\\t24455\\t17329\\t19163\\t1...  ...                42\n",
              "88   101\\t100\\t14120\\t131\\t120\\t120\\t188\\t119\\t1117...  ...                88\n",
              "100  101\\t10117\\t10817\\t10124\\t16683\\t10452\\t89025\\...  ...               100\n",
              "102  101\\t14962\\t10114\\t29922\\t10105\\t14428\\t26623\\...  ...               102\n",
              "\n",
              "[5 rows x 13 columns]"
            ]
          },
          "metadata": {
            "tags": []
          },
          "execution_count": 28
        }
      ]
    },
    {
      "cell_type": "code",
      "metadata": {
        "colab": {
          "base_uri": "https://localhost:8080/"
        },
        "id": "F_R8iwVE98xe",
        "outputId": "eb61b2ff-7337-4d08-815d-096f906eb58f"
      },
      "source": [
        "test.head()"
      ],
      "execution_count": null,
      "outputs": [
        {
          "output_type": "execute_result",
          "data": {
            "text/html": [
              "<div>\n",
              "<style scoped>\n",
              "    .dataframe tbody tr th:only-of-type {\n",
              "        vertical-align: middle;\n",
              "    }\n",
              "\n",
              "    .dataframe tbody tr th {\n",
              "        vertical-align: top;\n",
              "    }\n",
              "\n",
              "    .dataframe thead th {\n",
              "        text-align: right;\n",
              "    }\n",
              "</style>\n",
              "<table border=\"1\" class=\"dataframe\">\n",
              "  <thead>\n",
              "    <tr style=\"text-align: right;\">\n",
              "      <th></th>\n",
              "      <th>text_tokens</th>\n",
              "      <th>hashtags</th>\n",
              "      <th>present_media</th>\n",
              "      <th>present_links</th>\n",
              "      <th>present_domains</th>\n",
              "      <th>text_len</th>\n",
              "      <th>retweet</th>\n",
              "      <th>quote</th>\n",
              "      <th>top</th>\n",
              "      <th>engaging_user_is_verified</th>\n",
              "      <th>engagee_follows_engager</th>\n",
              "      <th>engaged_with_user_is_verified</th>\n",
              "      <th>engaging_user_id</th>\n",
              "    </tr>\n",
              "  </thead>\n",
              "  <tbody>\n",
              "    <tr>\n",
              "      <th>161</th>\n",
              "      <td>101\\t14120\\t131\\t120\\t120\\t188\\t119\\t11170\\t12...</td>\n",
              "      <td>-0.354747</td>\n",
              "      <td>3.863112</td>\n",
              "      <td>-0.338471</td>\n",
              "      <td>-0.338471</td>\n",
              "      <td>-0.913860</td>\n",
              "      <td>0</td>\n",
              "      <td>0</td>\n",
              "      <td>0</td>\n",
              "      <td>0</td>\n",
              "      <td>1</td>\n",
              "      <td>0</td>\n",
              "      <td>161</td>\n",
              "    </tr>\n",
              "    <tr>\n",
              "      <th>163</th>\n",
              "      <td>101\\t752\\t216\\t775\\t105563\\t105563\\t105563\\t10...</td>\n",
              "      <td>0.541317</td>\n",
              "      <td>-0.621253</td>\n",
              "      <td>-0.338471</td>\n",
              "      <td>-0.338471</td>\n",
              "      <td>0.144138</td>\n",
              "      <td>0</td>\n",
              "      <td>0</td>\n",
              "      <td>0</td>\n",
              "      <td>0</td>\n",
              "      <td>1</td>\n",
              "      <td>0</td>\n",
              "      <td>163</td>\n",
              "    </tr>\n",
              "    <tr>\n",
              "      <th>174</th>\n",
              "      <td>101\\t56898\\t137\\t10105\\t17353\\t42241\\t10219\\t1...</td>\n",
              "      <td>1.437381</td>\n",
              "      <td>-0.621253</td>\n",
              "      <td>-0.338471</td>\n",
              "      <td>-0.338471</td>\n",
              "      <td>0.212396</td>\n",
              "      <td>1</td>\n",
              "      <td>0</td>\n",
              "      <td>0</td>\n",
              "      <td>0</td>\n",
              "      <td>1</td>\n",
              "      <td>0</td>\n",
              "      <td>174</td>\n",
              "    </tr>\n",
              "    <tr>\n",
              "      <th>376</th>\n",
              "      <td>101\\t2072\\t2179\\t4340\\t216\\t216\\t108\\t7143\\t19...</td>\n",
              "      <td>0.541317</td>\n",
              "      <td>1.620930</td>\n",
              "      <td>-0.338471</td>\n",
              "      <td>-0.338471</td>\n",
              "      <td>-0.197151</td>\n",
              "      <td>0</td>\n",
              "      <td>0</td>\n",
              "      <td>0</td>\n",
              "      <td>0</td>\n",
              "      <td>1</td>\n",
              "      <td>0</td>\n",
              "      <td>376</td>\n",
              "    </tr>\n",
              "    <tr>\n",
              "      <th>401</th>\n",
              "      <td>101\\t100\\t216\\t108\\t1915\\t26554\\t38352\\t64126\\...</td>\n",
              "      <td>1.437381</td>\n",
              "      <td>0.499838</td>\n",
              "      <td>-0.338471</td>\n",
              "      <td>-0.338471</td>\n",
              "      <td>-0.231280</td>\n",
              "      <td>0</td>\n",
              "      <td>0</td>\n",
              "      <td>0</td>\n",
              "      <td>0</td>\n",
              "      <td>0</td>\n",
              "      <td>0</td>\n",
              "      <td>401</td>\n",
              "    </tr>\n",
              "  </tbody>\n",
              "</table>\n",
              "</div>"
            ],
            "text/plain": [
              "                                           text_tokens  ...  engaging_user_id\n",
              "161  101\\t14120\\t131\\t120\\t120\\t188\\t119\\t11170\\t12...  ...               161\n",
              "163  101\\t752\\t216\\t775\\t105563\\t105563\\t105563\\t10...  ...               163\n",
              "174  101\\t56898\\t137\\t10105\\t17353\\t42241\\t10219\\t1...  ...               174\n",
              "376  101\\t2072\\t2179\\t4340\\t216\\t216\\t108\\t7143\\t19...  ...               376\n",
              "401  101\\t100\\t216\\t108\\t1915\\t26554\\t38352\\t64126\\...  ...               401\n",
              "\n",
              "[5 rows x 13 columns]"
            ]
          },
          "metadata": {
            "tags": []
          },
          "execution_count": 29
        }
      ]
    },
    {
      "cell_type": "code",
      "metadata": {
        "colab": {
          "base_uri": "https://localhost:8080/"
        },
        "id": "zX8hqY8h98xf",
        "outputId": "a3287352-adab-4fcb-96a1-4db59f233b63"
      },
      "source": [
        "train['engaging_user_id'].nunique()"
      ],
      "execution_count": null,
      "outputs": [
        {
          "output_type": "execute_result",
          "data": {
            "text/plain": [
              "70899"
            ]
          },
          "metadata": {
            "tags": []
          },
          "execution_count": 30
        }
      ]
    },
    {
      "cell_type": "code",
      "metadata": {
        "colab": {
          "base_uri": "https://localhost:8080/"
        },
        "id": "aTYuGjw498xf",
        "outputId": "272f3577-88a4-4336-9fa6-9a2bf051ea4c"
      },
      "source": [
        "test['engaging_user_id'].nunique()"
      ],
      "execution_count": null,
      "outputs": [
        {
          "output_type": "execute_result",
          "data": {
            "text/plain": [
              "21335"
            ]
          },
          "metadata": {
            "tags": []
          },
          "execution_count": 31
        }
      ]
    },
    {
      "cell_type": "code",
      "metadata": {
        "colab": {
          "base_uri": "https://localhost:8080/"
        },
        "id": "vMsjEx3t98xg",
        "outputId": "5ef6d757-ae34-4bda-938f-68f31503269a"
      },
      "source": [
        "gc.collect()"
      ],
      "execution_count": null,
      "outputs": [
        {
          "output_type": "execute_result",
          "data": {
            "text/plain": [
              "226"
            ]
          },
          "metadata": {
            "tags": []
          },
          "execution_count": 32
        }
      ]
    },
    {
      "cell_type": "code",
      "metadata": {
        "id": "ksls-p8X98xg"
      },
      "source": [
        "input=train.values\n",
        "inputTest=test.values"
      ],
      "execution_count": null,
      "outputs": []
    },
    {
      "cell_type": "code",
      "metadata": {
        "id": "0BSAOHni98xg"
      },
      "source": [
        "import random\n",
        "idx=0\n",
        "\n",
        "#random.Random(idx).shuffle(input)\n",
        "#random.Random(idx).shuffle(target)"
      ],
      "execution_count": null,
      "outputs": []
    },
    {
      "cell_type": "markdown",
      "metadata": {
        "id": "0OIy6huJ98xh"
      },
      "source": [
        "###Model Definition"
      ]
    },
    {
      "cell_type": "code",
      "metadata": {
        "id": "jepE5vUn98xh"
      },
      "source": [
        "NUM_TOKENS=511\n",
        "NUM_FEATURES=8\n",
        "REL_FEATURES=3\n",
        "EMB_SIZE=64\n",
        "EMBEDDING_INPUT_SIZE=len(uniques)+1"
      ],
      "execution_count": null,
      "outputs": []
    },
    {
      "cell_type": "code",
      "metadata": {
        "id": "keJCZLSl98xh"
      },
      "source": [
        "config = BertConfig.from_pretrained(\"bert-base-multilingual-cased\", output_hidden_states=False)"
      ],
      "execution_count": null,
      "outputs": []
    },
    {
      "cell_type": "code",
      "metadata": {
        "colab": {
          "base_uri": "https://localhost:8080/"
        },
        "id": "2tmYShVd98xi",
        "outputId": "420451de-c543-4148-e85e-6f07e7191309"
      },
      "source": [
        "#encoder = TFBertModel.from_pretrained('bert-base-multilingual-cased', config=config)\n",
        "#encoder = TFBertForSequenceClassification.from_pretrained('bert-base-multilingual-cased', config=config)\n",
        "encoder = TFDistilBertModel.from_pretrained('distilbert-base-multilingual-cased')"
      ],
      "execution_count": null,
      "outputs": [
        {
          "output_type": "stream",
          "text": [
            "Some layers from the model checkpoint at distilbert-base-multilingual-cased were not used when initializing TFDistilBertModel: ['vocab_transform', 'vocab_projector', 'activation_13', 'vocab_layer_norm']\n",
            "- This IS expected if you are initializing TFDistilBertModel from the checkpoint of a model trained on another task or with another architecture (e.g. initializing a BertForSequenceClassification model from a BertForPreTraining model).\n",
            "- This IS NOT expected if you are initializing TFDistilBertModel from the checkpoint of a model that you expect to be exactly identical (initializing a BertForSequenceClassification model from a BertForSequenceClassification model).\n",
            "All the layers of TFDistilBertModel were initialized from the model checkpoint at distilbert-base-multilingual-cased.\n",
            "If your task is similar to the task the model of the checkpoint was trained on, you can already use TFDistilBertModel for predictions without further training.\n"
          ],
          "name": "stderr"
        }
      ]
    },
    {
      "cell_type": "code",
      "metadata": {
        "id": "ObddgG5P98xi"
      },
      "source": [
        "encoder.trainable=False"
      ],
      "execution_count": null,
      "outputs": []
    },
    {
      "cell_type": "code",
      "metadata": {
        "id": "ULnkzdc498xi"
      },
      "source": [
        "input_ids = layers.Input(shape=(NUM_TOKENS,), dtype=tf.int32,name=\"tokens\")\n",
        "attention_mask = layers.Input(shape=(NUM_TOKENS,), dtype=tf.int32,name=\"mask\")\n",
        "#embedding = encoder(       {\"input_ids\":input_ids,\"attention_mask\":attention_mask})[1]\n",
        "embedding = encoder(       {\"input_ids\":input_ids,\"attention_mask\":attention_mask})[0]\n",
        "#encoder({\"input_ids\":input_ids,\"attention_mask\":attention_mask})\n",
        "\n",
        "#embeddingFixed=layers.Flatten()(embedding)\n",
        "embeddingFixed=layers.GlobalAveragePooling1D()(embedding)\n"
      ],
      "execution_count": null,
      "outputs": []
    },
    {
      "cell_type": "code",
      "metadata": {
        "id": "DiAmuc1n98xj"
      },
      "source": [
        "inputs1 = layers.Dense(EMB_SIZE, name=\"emb_text\",activation=\"relu\")(embeddingFixed)\n",
        "\n",
        "inputs2 = layers.Input(shape=(NUM_FEATURES,), name=\"tweet_features\")\n",
        "inputs3 = layers.Input(shape=(REL_FEATURES,), name=\"relationship_features\")\n",
        "inputs4 = layers.Input(shape=(1,), name=\"userId\")\n",
        "#emb_init=tf.keras.initializers.Zeros()\n",
        "#emb_init=tf.keras.initializers.glorot_normal(seed=1)\n",
        "emb_init=tf.keras.initializers.Constant(0.01)\n",
        "\n",
        "user_emb = layers.Embedding(EMBEDDING_INPUT_SIZE, EMB_SIZE, input_length=1,embeddings_initializer=emb_init)(inputs4)\n",
        "user_emb_flat = layers.Flatten()(user_emb)\n",
        "concat = layers.Concatenate()([inputs1,inputs2,inputs3,user_emb_flat])\n",
        "\n",
        "#concat = layers.Concatenate()([embeddingFixed,inputs2,inputs3,user_emb_flat])\n",
        "\n",
        "hiddenLayer= layers.Dense(64,activation=\"relu\")(concat)\n",
        "drop=layers.Dropout(0.5)(hiddenLayer)\n",
        "out=layers.Dense(1,kernel_regularizer=regularizers.l2(1e-4),activation=\"sigmoid\")(drop)"
      ],
      "execution_count": null,
      "outputs": []
    },
    {
      "cell_type": "code",
      "metadata": {
        "id": "HLODsvyd98xj"
      },
      "source": [
        "#model=keras.Model(inputs=[input_ids,inputs2,inputs3,inputs4], outputs=out, name=\"NN\")\n",
        "model=keras.Model(inputs=[input_ids,attention_mask,inputs2,inputs3,inputs4], outputs=out, name=\"NN\")\n",
        "model2=keras.Model(inputs=[inputs4],outputs=user_emb_flat)"
      ],
      "execution_count": null,
      "outputs": []
    },
    {
      "cell_type": "code",
      "metadata": {
        "colab": {
          "base_uri": "https://localhost:8080/"
        },
        "id": "gAlptglO98xj",
        "outputId": "5d10c6ca-6a30-45c0-aea7-b43bccf8b301"
      },
      "source": [
        "from keras.utils.vis_utils import plot_model\n",
        "plot_model(model, to_file='model_plot.png', show_shapes=True, show_layer_names=True)"
      ],
      "execution_count": null,
      "outputs": [
        {
          "output_type": "execute_result",
          "data": {
            "image/png": "[encoded data removed]",
            "text/plain": [
              "<IPython.core.display.Image object>"
            ]
          },
          "metadata": {
            "tags": []
          },
          "execution_count": 42
        }
      ]
    },
    {
      "cell_type": "code",
      "metadata": {
        "colab": {
          "base_uri": "https://localhost:8080/"
        },
        "id": "Fl0DTnKF98xk",
        "outputId": "e9b66424-d0c3-4025-916d-03bf10728223"
      },
      "source": [
        "from keras.utils.vis_utils import plot_model\n",
        "plot_model(model2, to_file='model2_plot.png', show_shapes=True, show_layer_names=True)"
      ],
      "execution_count": null,
      "outputs": [
        {
          "output_type": "execute_result",
          "data": {
            "image/png": "[encoded data removed]",
            "text/plain": [
              "<IPython.core.display.Image object>"
            ]
          },
          "metadata": {
            "tags": []
          },
          "execution_count": 43
        }
      ]
    },
    {
      "cell_type": "code",
      "metadata": {
        "id": "yd_QaYka98xk"
      },
      "source": [
        "text=[101,3653,1291,102]+[0]*(NUM_TOKENS-4)\n",
        "def att(token):\n",
        "    return 0 if token==0 else 1\n",
        "attention=[att(t) for t in text]"
      ],
      "execution_count": null,
      "outputs": []
    },
    {
      "cell_type": "code",
      "metadata": {
        "colab": {
          "base_uri": "https://localhost:8080/"
        },
        "id": "7ryYKc8R98xk",
        "outputId": "c4a7b9e2-3765-43d8-d239-5c6c3bc2620a"
      },
      "source": [
        "model([tf.constant(text,shape=(1,NUM_TOKENS)),tf.constant(attention,shape=(1,NUM_TOKENS)),tf.constant([0]*NUM_FEATURES,shape=(1,NUM_FEATURES)),tf.constant([0]*REL_FEATURES,shape=(1,REL_FEATURES)),tf.constant(1,shape=(1,1))])\n",
        "#model([tf.constant(text,shape=(1,NUM_TOKENS)),tf.constant([0]*NUM_FEATURES,shape=(1,NUM_FEATURES)),tf.constant([0]*REL_FEATURES,shape=(1,REL_FEATURES)),tf.constant([0]*EMB_SIZE,shape=(1,EMB_SIZE))])"
      ],
      "execution_count": null,
      "outputs": [
        {
          "output_type": "execute_result",
          "data": {
            "text/plain": [
              "<tf.Tensor: shape=(1, 1), dtype=float32, numpy=array([[0.48479447]], dtype=float32)>"
            ]
          },
          "metadata": {
            "tags": []
          },
          "execution_count": 45
        }
      ]
    },
    {
      "cell_type": "code",
      "metadata": {
        "colab": {
          "base_uri": "https://localhost:8080/"
        },
        "id": "XJ8NxMUf98xl",
        "outputId": "c84bb926-ba98-47b4-80a2-0d31274d70f6"
      },
      "source": [
        "model2([tf.constant(0,shape=(1,1))])"
      ],
      "execution_count": null,
      "outputs": [
        {
          "output_type": "execute_result",
          "data": {
            "text/plain": [
              "<tf.Tensor: shape=(1, 64), dtype=float32, numpy=\n",
              "array([[0.01, 0.01, 0.01, 0.01, 0.01, 0.01, 0.01, 0.01, 0.01, 0.01, 0.01,\n",
              "        0.01, 0.01, 0.01, 0.01, 0.01, 0.01, 0.01, 0.01, 0.01, 0.01, 0.01,\n",
              "        0.01, 0.01, 0.01, 0.01, 0.01, 0.01, 0.01, 0.01, 0.01, 0.01, 0.01,\n",
              "        0.01, 0.01, 0.01, 0.01, 0.01, 0.01, 0.01, 0.01, 0.01, 0.01, 0.01,\n",
              "        0.01, 0.01, 0.01, 0.01, 0.01, 0.01, 0.01, 0.01, 0.01, 0.01, 0.01,\n",
              "        0.01, 0.01, 0.01, 0.01, 0.01, 0.01, 0.01, 0.01, 0.01]],\n",
              "      dtype=float32)>"
            ]
          },
          "metadata": {
            "tags": []
          },
          "execution_count": 46
        }
      ]
    },
    {
      "cell_type": "code",
      "metadata": {
        "colab": {
          "base_uri": "https://localhost:8080/"
        },
        "id": "-xSoorNG98xl",
        "outputId": "44da2c34-8a9b-4a36-ebe8-c56bb6b54ae4"
      },
      "source": [
        "model2([tf.constant(1,shape=(1,1))])"
      ],
      "execution_count": null,
      "outputs": [
        {
          "output_type": "execute_result",
          "data": {
            "text/plain": [
              "<tf.Tensor: shape=(1, 64), dtype=float32, numpy=\n",
              "array([[0.01, 0.01, 0.01, 0.01, 0.01, 0.01, 0.01, 0.01, 0.01, 0.01, 0.01,\n",
              "        0.01, 0.01, 0.01, 0.01, 0.01, 0.01, 0.01, 0.01, 0.01, 0.01, 0.01,\n",
              "        0.01, 0.01, 0.01, 0.01, 0.01, 0.01, 0.01, 0.01, 0.01, 0.01, 0.01,\n",
              "        0.01, 0.01, 0.01, 0.01, 0.01, 0.01, 0.01, 0.01, 0.01, 0.01, 0.01,\n",
              "        0.01, 0.01, 0.01, 0.01, 0.01, 0.01, 0.01, 0.01, 0.01, 0.01, 0.01,\n",
              "        0.01, 0.01, 0.01, 0.01, 0.01, 0.01, 0.01, 0.01, 0.01]],\n",
              "      dtype=float32)>"
            ]
          },
          "metadata": {
            "tags": []
          },
          "execution_count": 47
        }
      ]
    },
    {
      "cell_type": "markdown",
      "metadata": {
        "id": "uYtQFyda98xm"
      },
      "source": [
        "###Model parameters"
      ]
    },
    {
      "cell_type": "code",
      "metadata": {
        "id": "vZTQmWan98xm"
      },
      "source": [
        "import tensorflow.keras.backend as K\n",
        "\n",
        "def create_weighted_binary_crossentropy(zero_weight, one_weight):\n",
        "    def weighted_binary_crossentropy(y_true, y_pred):\n",
        "        b_ce = K.binary_crossentropy(y_true, y_pred)\n",
        "        weight_vector = y_true * one_weight + (1. - y_true) * zero_weight\n",
        "        weighted_b_ce = weight_vector * b_ce\n",
        "        return K.mean(weighted_b_ce)\n",
        "    return weighted_binary_crossentropy"
      ],
      "execution_count": null,
      "outputs": []
    },
    {
      "cell_type": "code",
      "metadata": {
        "id": "mIg_1xlL98xm"
      },
      "source": [
        "loss=create_weighted_binary_crossentropy(1, 3)\n",
        "#loss=tf.keras.losses.BinaryCrossentropy()#   from_logits=True)\n",
        "lr=0.0003\n",
        "optimizer=tf.keras.optimizers.Adam(learning_rate=lr)\n",
        "train_acc_metric=tf.keras.metrics.AUC(curve=\"PR\")\n",
        "#train_acc_metric=tf.keras.metrics.BinaryCrossentropy(name=\"binary_crossentropy\", dtype=None, from_logits=False, label_smoothing=0)\n",
        "#train_acc_metric=tf.keras.metrics.MeanSquaredError()\n",
        "#train_acc_metric=tf.keras.metrics.MeanAbsoluteError(name=\"mean_absolute_error\", dtype=None)\n",
        "model.compile(loss=loss,optimizer=optimizer,metrics=train_acc_metric)"
      ],
      "execution_count": null,
      "outputs": []
    },
    {
      "cell_type": "markdown",
      "metadata": {
        "id": "dVV5n0QV98xn"
      },
      "source": [
        "###Custom Dataset"
      ]
    },
    {
      "cell_type": "markdown",
      "metadata": {
        "id": "54G785wi98xn"
      },
      "source": [
        "####CreateDatasetObject"
      ]
    },
    {
      "cell_type": "markdown",
      "metadata": {
        "id": "IbRS6iPY98xp"
      },
      "source": [
        "#####Single KerasCustomGenerator"
      ]
    },
    {
      "cell_type": "code",
      "metadata": {
        "id": "91oy5S3e98xp"
      },
      "source": [
        "import numpy as np\n",
        "import keras\n",
        "\n",
        "class SingleDataGenerator(keras.utils.Sequence):\n",
        "    'Generates data for Keras'\n",
        "    def __init__(self,inputs, outputs,tweet_data_size,rel_data_size,num_tokens):\n",
        "        'Initialization'\n",
        "        self.inputs = inputs\n",
        "        self.outputs = outputs\n",
        "        self.length= len(inputs)\n",
        "        self.tweet_data_size=tweet_data_size\n",
        "        self.rel_data_size=rel_data_size\n",
        "        self.num_tokens=num_tokens\n",
        "        self.on_epoch_end()\n",
        "\n",
        "    def __len__(self):\n",
        "        'Denotes the number of batches per epoch'\n",
        "        return self.length\n",
        "\n",
        "    def __getitem__(self, index):\n",
        "        'Generate one batch of data'\n",
        "        # Generate indexes of the batch\n",
        "\n",
        "        # Find list of IDs\n",
        "\n",
        "        # Generate data\n",
        "        X, y = self.__data_generation(index)\n",
        "\n",
        "        return X, y\n",
        "\n",
        "    def on_epoch_end(self):\n",
        "        'Updates indexes after each epoch'\n",
        "        pass\n",
        "\n",
        "    def __data_generation(self, indexes):\n",
        "        'Generates data containing batch_size samples' # X : (n_samples, *dim, n_channels)\n",
        "        # Initialization\n",
        "        text_batch = np.empty((self.num_tokens))\n",
        "        mask = np.empty((self.num_tokens))\n",
        "        tweet = np.empty((self.tweet_data_size))\n",
        "        rel = np.empty((self.rel_data_size))\n",
        "        id = np.empty((1))\n",
        "        y = np.empty((1), dtype=np.float32)\n",
        "\n",
        "        # Generate data\n",
        "        for i in [indexes]:\n",
        "            row=self.inputs[i]\n",
        "            text=row[0]\n",
        "            \n",
        "            pad=self.num_tokens-len(text)\n",
        "            att=([1]*len(text))+[0]*(pad)\n",
        "            text=text+([0]*(pad))\n",
        "\n",
        "            feats=[*row[1:9]]\n",
        "            relations=[*row[9:12]]\n",
        "            user=row[12]\n",
        "            i-=indexes[0]\n",
        "            # Store sample\n",
        "            text_batch = np.array(text)\n",
        "            mask=np.array(att)\n",
        "            tweet=np.array(feats)\n",
        "            rel=np.array(relations)\n",
        "            id=np.array(user)\n",
        "\n",
        "            # Store class\n",
        "            y[0] = self.outputs[i]\n",
        "\n",
        "        return (text_batch,mask,tweet,rel,id), y"
      ],
      "execution_count": null,
      "outputs": []
    },
    {
      "cell_type": "markdown",
      "metadata": {
        "id": "6GIniJXA98xq"
      },
      "source": [
        "#####KerasCustomGenerator"
      ]
    },
    {
      "cell_type": "code",
      "metadata": {
        "id": "fpn7ziYU98xq"
      },
      "source": [
        "import numpy as np\n",
        "import keras\n",
        "\n",
        "class DataGenerator(keras.utils.Sequence):\n",
        "    'Generates data for Keras'\n",
        "    def __init__(self,inputs, outputs,tweet_data_size,rel_data_size,num_tokens, batch_size=32):\n",
        "        'Initialization'\n",
        "        self.batch_size = batch_size\n",
        "        self.inputs = inputs\n",
        "        self.outputs = outputs\n",
        "        self.length= len(inputs)\n",
        "        self.tweet_data_size=tweet_data_size\n",
        "        self.rel_data_size=rel_data_size\n",
        "        self.num_tokens=num_tokens\n",
        "        self.on_epoch_end()\n",
        "\n",
        "    def __len__(self):\n",
        "        'Denotes the number of batches per epoch'\n",
        "        return int(np.floor(self.length / self.batch_size))\n",
        "\n",
        "    def __getitem__(self, index):\n",
        "        'Generate one batch of data'\n",
        "        # Generate indexes of the batch\n",
        "        indexes = range(index*self.batch_size,(index+1)*self.batch_size)\n",
        "\n",
        "        # Find list of IDs\n",
        "\n",
        "        # Generate data\n",
        "        X, y = self.__data_generation(indexes)\n",
        "\n",
        "        return X, y\n",
        "\n",
        "    def on_epoch_end(self):\n",
        "        'Updates indexes after each epoch'\n",
        "        pass\n",
        "\n",
        "    def __data_generation(self, indexes):\n",
        "        'Generates data containing batch_size samples' # X : (n_samples, *dim, n_channels)\n",
        "        # Initialization\n",
        "        text_batch = np.empty((self.batch_size,self.num_tokens))\n",
        "        mask = np.empty((self.batch_size,self.num_tokens))\n",
        "        tweet = np.empty((self.batch_size,self.tweet_data_size))\n",
        "        rel = np.empty((self.batch_size,self.rel_data_size))\n",
        "        id = np.empty((self.batch_size,1))\n",
        "        y = np.empty((self.batch_size), dtype=np.float32)\n",
        "\n",
        "        # Generate data\n",
        "        for i in indexes:\n",
        "            row=self.inputs[i]\n",
        "            text=row[0]\n",
        "            \n",
        "            pad=self.num_tokens-len(text)\n",
        "            att=([1]*len(text))+[0]*(pad)\n",
        "            text=text+([0]*(pad))\n",
        "\n",
        "            feats=[*row[1:9]]\n",
        "            relations=[*row[9:12]]\n",
        "            user=row[12]\n",
        "            i-=indexes[0]\n",
        "            # Store sample\n",
        "            text_batch[i,] = np.array(text)\n",
        "            mask[i,]=np.array(att)\n",
        "            tweet[i,]=np.array(feats)\n",
        "            rel[i,]=np.array(relations)\n",
        "            id[i,]=np.array(user)\n",
        "\n",
        "            # Store class\n",
        "            y[i] = self.outputs[i]\n",
        "\n",
        "        return (text_batch,mask,tweet,rel,id), y"
      ],
      "execution_count": null,
      "outputs": []
    },
    {
      "cell_type": "markdown",
      "metadata": {
        "id": "7prwAdvT98xq"
      },
      "source": [
        "##Training"
      ]
    },
    {
      "cell_type": "markdown",
      "metadata": {
        "id": "Y_-Dgh3V98xr"
      },
      "source": [
        "###Fit"
      ]
    },
    {
      "cell_type": "code",
      "metadata": {
        "id": "8YIMy13998xs"
      },
      "source": [
        "gc.collect()"
      ],
      "execution_count": null,
      "outputs": []
    },
    {
      "cell_type": "code",
      "metadata": {
        "id": "6X864Asj98xs"
      },
      "source": [
        "BATCH_SIZE=128"
      ],
      "execution_count": null,
      "outputs": []
    },
    {
      "cell_type": "code",
      "metadata": {
        "id": "swgslS6Z98xs"
      },
      "source": [
        "training_generator = DataGenerator(input[:len(input)], target[:len(input)],tweet_data_size=NUM_FEATURES,rel_data_size=REL_FEATURES,num_tokens=NUM_TOKENS,batch_size=BATCH_SIZE)\n",
        "test_generator = DataGenerator(inputTest[:len(inputTest)], targetTest[:len(inputTest)],tweet_data_size=NUM_FEATURES,rel_data_size=REL_FEATURES,num_tokens=NUM_TOKENS,batch_size=BATCH_SIZE)"
      ],
      "execution_count": null,
      "outputs": []
    },
    {
      "cell_type": "code",
      "metadata": {
        "id": "ciQyIAIu98xt"
      },
      "source": [
        "training_generator.__getitem__(1)[0][0][0][0]"
      ],
      "execution_count": null,
      "outputs": []
    },
    {
      "cell_type": "code",
      "metadata": {
        "id": "V6NU0N6098xt"
      },
      "source": [
        "model.fit(training_generator,epochs=1)"
      ],
      "execution_count": null,
      "outputs": []
    },
    {
      "cell_type": "code",
      "metadata": {
        "id": "Ol-LvLgV98xt"
      },
      "source": [
        "model.evaluate(test_generator)"
      ],
      "execution_count": null,
      "outputs": []
    },
    {
      "cell_type": "code",
      "metadata": {
        "id": "BaLwnjES98xu"
      },
      "source": [
        "model.fit(training_generator,epochs=1)"
      ],
      "execution_count": null,
      "outputs": []
    },
    {
      "cell_type": "code",
      "metadata": {
        "id": "Kk5budCs98xu"
      },
      "source": [
        "model.evaluate(test_generator)"
      ],
      "execution_count": null,
      "outputs": []
    },
    {
      "cell_type": "code",
      "metadata": {
        "id": "bJGN7qdP98xu"
      },
      "source": [
        "model2([tf.constant(0,shape=(1,1))])"
      ],
      "execution_count": null,
      "outputs": []
    },
    {
      "cell_type": "code",
      "metadata": {
        "id": "sB9pNIuv98xu"
      },
      "source": [
        "model2([tf.constant(1,shape=(1,1))])"
      ],
      "execution_count": null,
      "outputs": []
    },
    {
      "cell_type": "markdown",
      "metadata": {
        "id": "A8bMGZei98xv"
      },
      "source": [
        "###Try using sequence to get a tf.dataset"
      ]
    },
    {
      "cell_type": "code",
      "metadata": {
        "id": "1kCCBI4V98xv"
      },
      "source": [
        "BATCH_SIZE=128"
      ],
      "execution_count": null,
      "outputs": []
    },
    {
      "cell_type": "code",
      "metadata": {
        "colab": {
          "base_uri": "https://localhost:8080/",
          "height": 260
        },
        "id": "Jlf_JhXl98xv",
        "outputId": "d3814fa2-7258-4e18-f75e-94e072cc65ea"
      },
      "source": [
        "training_generator=SingleDataGenerator(input[:len(input)//10], target[:len(input)//10],tweet_data_size=NUM_FEATURES,rel_data_size=REL_FEATURES,num_tokens=NUM_TOKENS)\n",
        "data_iter = lambda: (s for s in training_generator )\n",
        "\n",
        "\n",
        "# then you can use tf.data.Dataset.from_generator\n",
        "dataset_tf = tf.data.Dataset.from_generator(\n",
        "    data_iter,\n",
        "    output_signature=(\n",
        "                        (\n",
        "                        tf.TensorSpec(shape=(511,), dtype=tf.float32),\n",
        "                        tf.TensorSpec(shape=(511,), dtype=tf.float32),\n",
        "                        tf.TensorSpec(shape=(training_generator.tweet_data_size,), dtype=tf.float32),\n",
        "                        tf.TensorSpec(shape=(training_generator.rel_data_size,), dtype=tf.float32),\n",
        "                        tf.TensorSpec(shape=(1,), dtype=tf.int32)\n",
        "                        ),\n",
        "                    tf.TensorSpec(shape=(1,), dtype=tf.float32, name='input_4')\n",
        "                    ))\n",
        "\n",
        "# now you can add a prefetch option that builds the next batch ready for consumption by the GPU as it is working on the current batch.\n",
        "#dataset_tf = dataset_tf.prefetch(1)"
      ],
      "execution_count": null,
      "outputs": [
        {
          "output_type": "error",
          "ename": "NameError",
          "evalue": "ignored",
          "traceback": [
            "\u001b[0;31m---------------------------------------------------------------------------\u001b[0m",
            "\u001b[0;31mNameError\u001b[0m                                 Traceback (most recent call last)",
            "\u001b[0;32m<ipython-input-2-b072949392c6>\u001b[0m in \u001b[0;36m<module>\u001b[0;34m()\u001b[0m\n\u001b[0;32m----> 1\u001b[0;31m \u001b[0mtraining_generator\u001b[0m\u001b[0;34m=\u001b[0m\u001b[0mSingleDataGenerator\u001b[0m\u001b[0;34m(\u001b[0m\u001b[0minput\u001b[0m\u001b[0;34m[\u001b[0m\u001b[0;34m:\u001b[0m\u001b[0mlen\u001b[0m\u001b[0;34m(\u001b[0m\u001b[0minput\u001b[0m\u001b[0;34m)\u001b[0m\u001b[0;34m//\u001b[0m\u001b[0;36m10\u001b[0m\u001b[0;34m]\u001b[0m\u001b[0;34m,\u001b[0m \u001b[0mtarget\u001b[0m\u001b[0;34m[\u001b[0m\u001b[0;34m:\u001b[0m\u001b[0mlen\u001b[0m\u001b[0;34m(\u001b[0m\u001b[0minput\u001b[0m\u001b[0;34m)\u001b[0m\u001b[0;34m//\u001b[0m\u001b[0;36m10\u001b[0m\u001b[0;34m]\u001b[0m\u001b[0;34m,\u001b[0m\u001b[0mtweet_data_size\u001b[0m\u001b[0;34m=\u001b[0m\u001b[0mNUM_FEATURES\u001b[0m\u001b[0;34m,\u001b[0m\u001b[0mrel_data_size\u001b[0m\u001b[0;34m=\u001b[0m\u001b[0mREL_FEATURES\u001b[0m\u001b[0;34m,\u001b[0m\u001b[0mnum_tokens\u001b[0m\u001b[0;34m=\u001b[0m\u001b[0mNUM_TOKENS\u001b[0m\u001b[0;34m)\u001b[0m\u001b[0;34m\u001b[0m\u001b[0;34m\u001b[0m\u001b[0m\n\u001b[0m\u001b[1;32m      2\u001b[0m \u001b[0mdata_iter\u001b[0m \u001b[0;34m=\u001b[0m \u001b[0;32mlambda\u001b[0m\u001b[0;34m:\u001b[0m \u001b[0;34m(\u001b[0m\u001b[0ms\u001b[0m \u001b[0;32mfor\u001b[0m \u001b[0ms\u001b[0m \u001b[0;32min\u001b[0m \u001b[0mtraining_generator\u001b[0m \u001b[0;34m)\u001b[0m\u001b[0;34m\u001b[0m\u001b[0;34m\u001b[0m\u001b[0m\n\u001b[1;32m      3\u001b[0m \u001b[0;34m\u001b[0m\u001b[0m\n\u001b[1;32m      4\u001b[0m \u001b[0;34m\u001b[0m\u001b[0m\n\u001b[1;32m      5\u001b[0m \u001b[0;31m# then you can use tf.data.Dataset.from_generator\u001b[0m\u001b[0;34m\u001b[0m\u001b[0;34m\u001b[0m\u001b[0;34m\u001b[0m\u001b[0m\n",
            "\u001b[0;31mNameError\u001b[0m: name 'SingleDataGenerator' is not defined"
          ]
        }
      ]
    },
    {
      "cell_type": "code",
      "metadata": {
        "id": "aokR0F4p98xw"
      },
      "source": [
        "dataset_tf = dataset_tf.batch(BATCH_SIZE)\n",
        "\n",
        "dataset_tf = dataset_tf.repeat()"
      ],
      "execution_count": null,
      "outputs": []
    },
    {
      "cell_type": "code",
      "metadata": {
        "id": "4NuszArJ98xw"
      },
      "source": [
        "dataset_tf.take(1)"
      ],
      "execution_count": null,
      "outputs": []
    },
    {
      "cell_type": "code",
      "metadata": {
        "id": "5RH8qBNY98xw"
      },
      "source": [
        "gc.collect()"
      ],
      "execution_count": null,
      "outputs": []
    },
    {
      "cell_type": "code",
      "metadata": {
        "id": "LMICjMG998xx"
      },
      "source": [
        "import math"
      ],
      "execution_count": null,
      "outputs": []
    },
    {
      "cell_type": "code",
      "metadata": {
        "id": "vGwc-9sz98xx"
      },
      "source": [
        "steps=math.floor(len(training_generator)/BATCH_SIZE)"
      ],
      "execution_count": null,
      "outputs": []
    },
    {
      "cell_type": "code",
      "metadata": {
        "id": "Ym-2fRS598xx"
      },
      "source": [
        "model.fit(dataset_tf,steps_per_epoch=steps)"
      ],
      "execution_count": null,
      "outputs": []
    },
    {
      "cell_type": "markdown",
      "metadata": {
        "id": "8AgGjkjY98xy"
      },
      "source": [
        "###batched generator version"
      ]
    },
    {
      "cell_type": "code",
      "metadata": {
        "id": "c8n6WPYo98xy"
      },
      "source": [
        "BATCH_SIZE=64"
      ],
      "execution_count": null,
      "outputs": []
    },
    {
      "cell_type": "code",
      "metadata": {
        "id": "PgJpYJ6198xy"
      },
      "source": [
        "training_generator = DataGenerator(input[:len(input)//2], target[:len(input)//2],tweet_data_size=NUM_FEATURES,rel_data_size=REL_FEATURES,num_tokens=NUM_TOKENS,batch_size=BATCH_SIZE)\n",
        "\n",
        "data_iter = lambda: (s for s in training_generator )\n",
        "\n",
        "dataset_tf = tf.data.Dataset.from_generator(\n",
        "    data_iter,\n",
        "    output_signature=(\n",
        "                        (\n",
        "                        tf.TensorSpec(shape=(BATCH_SIZE,511), dtype=tf.float32),\n",
        "                        tf.TensorSpec(shape=(BATCH_SIZE,511), dtype=tf.float32),\n",
        "                        tf.TensorSpec(shape=(BATCH_SIZE,training_generator.tweet_data_size), dtype=tf.float32),\n",
        "                        tf.TensorSpec(shape=(BATCH_SIZE,training_generator.rel_data_size), dtype=tf.float32),\n",
        "                        tf.TensorSpec(shape=(BATCH_SIZE,1), dtype=tf.int32)\n",
        "                        ),\n",
        "                    tf.TensorSpec(shape=(BATCH_SIZE), dtype=tf.float32, name='input_4')\n",
        "                    ))\n",
        "dataset_tf = dataset_tf.prefetch(2)"
      ],
      "execution_count": null,
      "outputs": []
    },
    {
      "cell_type": "code",
      "metadata": {
        "id": "l4zURK8d98xy"
      },
      "source": [
        "steps=len(training_generator)"
      ],
      "execution_count": null,
      "outputs": []
    },
    {
      "cell_type": "code",
      "metadata": {
        "colab": {
          "base_uri": "https://localhost:8080/"
        },
        "id": "6OjZKRnO98xz",
        "outputId": "d55394e9-415f-49cc-a15c-e4bcf98a17da"
      },
      "source": [
        "steps"
      ],
      "execution_count": null,
      "outputs": [
        {
          "output_type": "execute_result",
          "data": {
            "text/plain": [
              "741"
            ]
          },
          "metadata": {
            "tags": []
          },
          "execution_count": 64
        }
      ]
    },
    {
      "cell_type": "code",
      "metadata": {
        "colab": {
          "base_uri": "https://localhost:8080/"
        },
        "id": "xlH8od8e98xz",
        "outputId": "19840e64-1658-4e53-b346-38c5ae785e07"
      },
      "source": [
        "gc.collect()"
      ],
      "execution_count": null,
      "outputs": [
        {
          "output_type": "execute_result",
          "data": {
            "text/plain": [
              "272"
            ]
          },
          "metadata": {
            "tags": []
          },
          "execution_count": 65
        }
      ]
    },
    {
      "cell_type": "code",
      "metadata": {
        "colab": {
          "base_uri": "https://localhost:8080/"
        },
        "id": "rwLj8_Zi98xz",
        "outputId": "72bb1c4e-449d-454a-cf46-e3a2d3043027"
      },
      "source": [
        "model.fit(dataset_tf,steps_per_epoch=steps)"
      ],
      "execution_count": null,
      "outputs": [
        {
          "output_type": "stream",
          "text": [
            "741/741 [==============================] - 1710s 2s/step - loss: 0.6967 - auc: 0.5009\n"
          ],
          "name": "stdout"
        },
        {
          "output_type": "execute_result",
          "data": {
            "text/plain": [
              "<tensorflow.python.keras.callbacks.History at 0x7f9b3c3e37d0>"
            ]
          },
          "metadata": {
            "tags": []
          },
          "execution_count": 66
        }
      ]
    },
    {
      "cell_type": "code",
      "metadata": {
        "id": "VonIExG-98x0"
      },
      "source": [
        "test_generator = DataGenerator(inputTest[:len(inputTest)], targetTest[:len(inputTest)],tweet_data_size=NUM_FEATURES,rel_data_size=REL_FEATURES,num_tokens=NUM_TOKENS,batch_size=BATCH_SIZE)\n"
      ],
      "execution_count": null,
      "outputs": []
    },
    {
      "cell_type": "code",
      "metadata": {
        "colab": {
          "base_uri": "https://localhost:8080/"
        },
        "id": "2w3EWbB-98x0",
        "outputId": "13ea7a67-5743-4319-fe06-fca64e450d60"
      },
      "source": [
        "model.evaluate(test_generator)"
      ],
      "execution_count": null,
      "outputs": [
        {
          "output_type": "stream",
          "text": [
            "369/369 [==============================] - 447s 1s/step - loss: 0.6907 - auc: 0.5023\n"
          ],
          "name": "stdout"
        },
        {
          "output_type": "execute_result",
          "data": {
            "text/plain": [
              "[0.6906828284263611, 0.5022758841514587]"
            ]
          },
          "metadata": {
            "tags": []
          },
          "execution_count": 68
        }
      ]
    },
    {
      "cell_type": "code",
      "metadata": {
        "colab": {
          "base_uri": "https://localhost:8080/"
        },
        "id": "wuMtmWjz98x1",
        "outputId": "9b904cb7-61e4-4ee7-a442-e4fb69354aee"
      },
      "source": [
        "model.fit(dataset_tf,steps_per_epoch=steps)"
      ],
      "execution_count": null,
      "outputs": [
        {
          "output_type": "stream",
          "text": [
            "741/741 [==============================] - 1708s 2s/step - loss: 0.6786 - auc: 0.6051\n"
          ],
          "name": "stdout"
        },
        {
          "output_type": "execute_result",
          "data": {
            "text/plain": [
              "<tensorflow.python.keras.callbacks.History at 0x7f9b2f1b3950>"
            ]
          },
          "metadata": {
            "tags": []
          },
          "execution_count": 69
        }
      ]
    },
    {
      "cell_type": "code",
      "metadata": {
        "colab": {
          "base_uri": "https://localhost:8080/"
        },
        "id": "YFwHANhb98x1",
        "outputId": "fbccf5cf-6fac-425e-a10f-d13d6bc3c187"
      },
      "source": [
        "model.evaluate(test_generator)"
      ],
      "execution_count": null,
      "outputs": [
        {
          "output_type": "stream",
          "text": [
            "369/369 [==============================] - 445s 1s/step - loss: 0.6939 - auc: 0.5113\n"
          ],
          "name": "stdout"
        },
        {
          "output_type": "execute_result",
          "data": {
            "text/plain": [
              "[0.6939453482627869, 0.5113154053688049]"
            ]
          },
          "metadata": {
            "tags": []
          },
          "execution_count": 70
        }
      ]
    },
    {
      "cell_type": "code",
      "metadata": {
        "id": "NLj7267d98x2"
      },
      "source": [
        "!kill -9 -1"
      ],
      "execution_count": null,
      "outputs": []
    },
    {
      "cell_type": "markdown",
      "metadata": {
        "id": "CJwjTkgd98x2"
      },
      "source": [
        "###Custom Training loop"
      ]
    },
    {
      "cell_type": "code",
      "metadata": {
        "id": "gkhVY2Sh98x2"
      },
      "source": [
        "@tf.function\n",
        "def trainStep(text,att,features,rel,user,out):\n",
        "    with tf.GradientTape() as tape:\n",
        "        logits = model([text,att,features,rel,user], training=True)  # Logits for this minibatch\n",
        "        loss_value = loss(out, logits)\n",
        "            \n",
        "    train_acc_metric.update_state(out, logits)\n",
        "        \n",
        "    grad = tape.gradient(loss_value, model.trainable_weights)\n",
        "    optimizer.apply_gradients(zip(grad, model.trainable_weights))\n",
        "    return logits"
      ],
      "execution_count": null,
      "outputs": []
    },
    {
      "cell_type": "code",
      "metadata": {
        "colab": {
          "base_uri": "https://localhost:8080/"
        },
        "id": "w1-XcqOP98x3",
        "outputId": "c7d1faeb-2c20-4191-fbcf-1384504ecb42"
      },
      "source": [
        "gc.collect()"
      ],
      "execution_count": null,
      "outputs": [
        {
          "output_type": "execute_result",
          "data": {
            "text/plain": [
              "28106"
            ]
          },
          "metadata": {
            "tags": []
          },
          "execution_count": 46
        }
      ]
    },
    {
      "cell_type": "code",
      "metadata": {
        "colab": {
          "base_uri": "https://localhost:8080/",
          "height": 686
        },
        "id": "jJdDJDUb98x3",
        "outputId": "6d42635d-0596-4217-ba1d-0c4109542c0b"
      },
      "source": [
        "epochs = 10\n",
        "loss_value=10\n",
        "train_dataset=DatasetFixed(input,target)\n",
        "for epoch in range(epochs):\n",
        "    train_acc_metric.reset_states()\n",
        "    if loss_value<=0.01:\n",
        "                break\n",
        "    print(\"\\nStart of epoch %d\" % (epoch,))\n",
        "    for step, (text,att,features,rel,engaged_Id,out) in enumerate(train_dataset):\n",
        "        logits=trainStep(text,att,features,rel,engaged_Id,out)\n",
        "        if step % 100 == 0:\n",
        "            #print(model2(engaged_Id).numpy())\n",
        "            train_acc = train_acc_metric.result()\n",
        "            print(f\"Training abs error at step {step}: {train_acc}\")\n",
        "            print(f\"target{out.numpy()} => predict {logits.numpy()}\")\n",
        "            gc.collect()\n",
        "    train_acc = train_acc_metric.result()\n",
        "    print(f\"Training abs error over epoch {epoch}: {train_acc}\")\n",
        "    train_acc_metric.reset_states()"
      ],
      "execution_count": null,
      "outputs": [
        {
          "output_type": "stream",
          "text": [
            "\n",
            "Start of epoch 0\n",
            "Training abs error at step 0: 0.48795750737190247\n",
            "target[[0.]] => predict [[0.4879575]]\n",
            "Training abs error at step 100: 0.4684427082538605\n",
            "target[[1.]] => predict [[0.33095264]]\n",
            "Training abs error at step 200: 0.4653521478176117\n",
            "target[[0.]] => predict [[0.74113363]]\n",
            "Training abs error at step 300: 0.47499024868011475\n",
            "target[[1.]] => predict [[0.2997694]]\n",
            "Training abs error at step 400: 0.4641820788383484\n",
            "target[[1.]] => predict [[0.34601104]]\n",
            "Training abs error at step 500: 0.46867963671684265\n",
            "target[[1.]] => predict [[0.4215265]]\n",
            "Training abs error at step 600: 0.4710558354854584\n",
            "target[[0.]] => predict [[0.6465208]]\n",
            "Training abs error at step 700: 0.4764944612979889\n",
            "target[[0.]] => predict [[0.5367392]]\n",
            "Training abs error at step 800: 0.4795038402080536\n",
            "target[[0.]] => predict [[0.77697635]]\n"
          ],
          "name": "stdout"
        },
        {
          "output_type": "error",
          "ename": "KeyboardInterrupt",
          "evalue": "ignored",
          "traceback": [
            "\u001b[0;31m---------------------------------------------------------------------------\u001b[0m",
            "\u001b[0;31mKeyboardInterrupt\u001b[0m                         Traceback (most recent call last)",
            "\u001b[0;32m<ipython-input-47-2b2ec7720723>\u001b[0m in \u001b[0;36m<module>\u001b[0;34m()\u001b[0m\n\u001b[1;32m      8\u001b[0m     \u001b[0mprint\u001b[0m\u001b[0;34m(\u001b[0m\u001b[0;34m\"\\nStart of epoch %d\"\u001b[0m \u001b[0;34m%\u001b[0m \u001b[0;34m(\u001b[0m\u001b[0mepoch\u001b[0m\u001b[0;34m,\u001b[0m\u001b[0;34m)\u001b[0m\u001b[0;34m)\u001b[0m\u001b[0;34m\u001b[0m\u001b[0;34m\u001b[0m\u001b[0m\n\u001b[1;32m      9\u001b[0m     \u001b[0;32mfor\u001b[0m \u001b[0mstep\u001b[0m\u001b[0;34m,\u001b[0m \u001b[0;34m(\u001b[0m\u001b[0mtext\u001b[0m\u001b[0;34m,\u001b[0m\u001b[0matt\u001b[0m\u001b[0;34m,\u001b[0m\u001b[0mfeatures\u001b[0m\u001b[0;34m,\u001b[0m\u001b[0mrel\u001b[0m\u001b[0;34m,\u001b[0m\u001b[0mengaged_Id\u001b[0m\u001b[0;34m,\u001b[0m\u001b[0mout\u001b[0m\u001b[0;34m)\u001b[0m \u001b[0;32min\u001b[0m \u001b[0menumerate\u001b[0m\u001b[0;34m(\u001b[0m\u001b[0mtrain_dataset\u001b[0m\u001b[0;34m)\u001b[0m\u001b[0;34m:\u001b[0m\u001b[0;34m\u001b[0m\u001b[0;34m\u001b[0m\u001b[0m\n\u001b[0;32m---> 10\u001b[0;31m         \u001b[0mlogits\u001b[0m\u001b[0;34m=\u001b[0m\u001b[0mtrainStep\u001b[0m\u001b[0;34m(\u001b[0m\u001b[0mtext\u001b[0m\u001b[0;34m,\u001b[0m\u001b[0matt\u001b[0m\u001b[0;34m,\u001b[0m\u001b[0mfeatures\u001b[0m\u001b[0;34m,\u001b[0m\u001b[0mrel\u001b[0m\u001b[0;34m,\u001b[0m\u001b[0mengaged_Id\u001b[0m\u001b[0;34m,\u001b[0m\u001b[0mout\u001b[0m\u001b[0;34m)\u001b[0m\u001b[0;34m\u001b[0m\u001b[0;34m\u001b[0m\u001b[0m\n\u001b[0m\u001b[1;32m     11\u001b[0m         \u001b[0;32mif\u001b[0m \u001b[0mstep\u001b[0m \u001b[0;34m%\u001b[0m \u001b[0;36m100\u001b[0m \u001b[0;34m==\u001b[0m \u001b[0;36m0\u001b[0m\u001b[0;34m:\u001b[0m\u001b[0;34m\u001b[0m\u001b[0;34m\u001b[0m\u001b[0m\n\u001b[1;32m     12\u001b[0m             \u001b[0;31m#print(model2(engaged_Id).numpy())\u001b[0m\u001b[0;34m\u001b[0m\u001b[0;34m\u001b[0m\u001b[0;34m\u001b[0m\u001b[0m\n",
            "\u001b[0;32m/usr/local/lib/python3.7/dist-packages/tensorflow/python/eager/def_function.py\u001b[0m in \u001b[0;36m__call__\u001b[0;34m(self, *args, **kwds)\u001b[0m\n\u001b[1;32m    826\u001b[0m     \u001b[0mtracing_count\u001b[0m \u001b[0;34m=\u001b[0m \u001b[0mself\u001b[0m\u001b[0;34m.\u001b[0m\u001b[0mexperimental_get_tracing_count\u001b[0m\u001b[0;34m(\u001b[0m\u001b[0;34m)\u001b[0m\u001b[0;34m\u001b[0m\u001b[0;34m\u001b[0m\u001b[0m\n\u001b[1;32m    827\u001b[0m     \u001b[0;32mwith\u001b[0m \u001b[0mtrace\u001b[0m\u001b[0;34m.\u001b[0m\u001b[0mTrace\u001b[0m\u001b[0;34m(\u001b[0m\u001b[0mself\u001b[0m\u001b[0;34m.\u001b[0m\u001b[0m_name\u001b[0m\u001b[0;34m)\u001b[0m \u001b[0;32mas\u001b[0m \u001b[0mtm\u001b[0m\u001b[0;34m:\u001b[0m\u001b[0;34m\u001b[0m\u001b[0;34m\u001b[0m\u001b[0m\n\u001b[0;32m--> 828\u001b[0;31m       \u001b[0mresult\u001b[0m \u001b[0;34m=\u001b[0m \u001b[0mself\u001b[0m\u001b[0;34m.\u001b[0m\u001b[0m_call\u001b[0m\u001b[0;34m(\u001b[0m\u001b[0;34m*\u001b[0m\u001b[0margs\u001b[0m\u001b[0;34m,\u001b[0m \u001b[0;34m**\u001b[0m\u001b[0mkwds\u001b[0m\u001b[0;34m)\u001b[0m\u001b[0;34m\u001b[0m\u001b[0;34m\u001b[0m\u001b[0m\n\u001b[0m\u001b[1;32m    829\u001b[0m       \u001b[0mcompiler\u001b[0m \u001b[0;34m=\u001b[0m \u001b[0;34m\"xla\"\u001b[0m \u001b[0;32mif\u001b[0m \u001b[0mself\u001b[0m\u001b[0;34m.\u001b[0m\u001b[0m_experimental_compile\u001b[0m \u001b[0;32melse\u001b[0m \u001b[0;34m\"nonXla\"\u001b[0m\u001b[0;34m\u001b[0m\u001b[0;34m\u001b[0m\u001b[0m\n\u001b[1;32m    830\u001b[0m       \u001b[0mnew_tracing_count\u001b[0m \u001b[0;34m=\u001b[0m \u001b[0mself\u001b[0m\u001b[0;34m.\u001b[0m\u001b[0mexperimental_get_tracing_count\u001b[0m\u001b[0;34m(\u001b[0m\u001b[0;34m)\u001b[0m\u001b[0;34m\u001b[0m\u001b[0;34m\u001b[0m\u001b[0m\n",
            "\u001b[0;32m/usr/local/lib/python3.7/dist-packages/tensorflow/python/eager/def_function.py\u001b[0m in \u001b[0;36m_call\u001b[0;34m(self, *args, **kwds)\u001b[0m\n\u001b[1;32m    853\u001b[0m       \u001b[0;31m# In this case we have created variables on the first call, so we run the\u001b[0m\u001b[0;34m\u001b[0m\u001b[0;34m\u001b[0m\u001b[0;34m\u001b[0m\u001b[0m\n\u001b[1;32m    854\u001b[0m       \u001b[0;31m# defunned version which is guaranteed to never create variables.\u001b[0m\u001b[0;34m\u001b[0m\u001b[0;34m\u001b[0m\u001b[0;34m\u001b[0m\u001b[0m\n\u001b[0;32m--> 855\u001b[0;31m       \u001b[0;32mreturn\u001b[0m \u001b[0mself\u001b[0m\u001b[0;34m.\u001b[0m\u001b[0m_stateless_fn\u001b[0m\u001b[0;34m(\u001b[0m\u001b[0;34m*\u001b[0m\u001b[0margs\u001b[0m\u001b[0;34m,\u001b[0m \u001b[0;34m**\u001b[0m\u001b[0mkwds\u001b[0m\u001b[0;34m)\u001b[0m  \u001b[0;31m# pylint: disable=not-callable\u001b[0m\u001b[0;34m\u001b[0m\u001b[0;34m\u001b[0m\u001b[0m\n\u001b[0m\u001b[1;32m    856\u001b[0m     \u001b[0;32melif\u001b[0m \u001b[0mself\u001b[0m\u001b[0;34m.\u001b[0m\u001b[0m_stateful_fn\u001b[0m \u001b[0;32mis\u001b[0m \u001b[0;32mnot\u001b[0m \u001b[0;32mNone\u001b[0m\u001b[0;34m:\u001b[0m\u001b[0;34m\u001b[0m\u001b[0;34m\u001b[0m\u001b[0m\n\u001b[1;32m    857\u001b[0m       \u001b[0;31m# Release the lock early so that multiple threads can perform the call\u001b[0m\u001b[0;34m\u001b[0m\u001b[0;34m\u001b[0m\u001b[0;34m\u001b[0m\u001b[0m\n",
            "\u001b[0;32m/usr/local/lib/python3.7/dist-packages/tensorflow/python/eager/function.py\u001b[0m in \u001b[0;36m__call__\u001b[0;34m(self, *args, **kwargs)\u001b[0m\n\u001b[1;32m   2941\u001b[0m        filtered_flat_args) = self._maybe_define_function(args, kwargs)\n\u001b[1;32m   2942\u001b[0m     return graph_function._call_flat(\n\u001b[0;32m-> 2943\u001b[0;31m         filtered_flat_args, captured_inputs=graph_function.captured_inputs)  # pylint: disable=protected-access\n\u001b[0m\u001b[1;32m   2944\u001b[0m \u001b[0;34m\u001b[0m\u001b[0m\n\u001b[1;32m   2945\u001b[0m   \u001b[0;34m@\u001b[0m\u001b[0mproperty\u001b[0m\u001b[0;34m\u001b[0m\u001b[0;34m\u001b[0m\u001b[0m\n",
            "\u001b[0;32m/usr/local/lib/python3.7/dist-packages/tensorflow/python/eager/function.py\u001b[0m in \u001b[0;36m_call_flat\u001b[0;34m(self, args, captured_inputs, cancellation_manager)\u001b[0m\n\u001b[1;32m   1917\u001b[0m       \u001b[0;31m# No tape is watching; skip to running the function.\u001b[0m\u001b[0;34m\u001b[0m\u001b[0;34m\u001b[0m\u001b[0;34m\u001b[0m\u001b[0m\n\u001b[1;32m   1918\u001b[0m       return self._build_call_outputs(self._inference_function.call(\n\u001b[0;32m-> 1919\u001b[0;31m           ctx, args, cancellation_manager=cancellation_manager))\n\u001b[0m\u001b[1;32m   1920\u001b[0m     forward_backward = self._select_forward_and_backward_functions(\n\u001b[1;32m   1921\u001b[0m         \u001b[0margs\u001b[0m\u001b[0;34m,\u001b[0m\u001b[0;34m\u001b[0m\u001b[0;34m\u001b[0m\u001b[0m\n",
            "\u001b[0;32m/usr/local/lib/python3.7/dist-packages/tensorflow/python/eager/function.py\u001b[0m in \u001b[0;36mcall\u001b[0;34m(self, ctx, args, cancellation_manager)\u001b[0m\n\u001b[1;32m    558\u001b[0m               \u001b[0minputs\u001b[0m\u001b[0;34m=\u001b[0m\u001b[0margs\u001b[0m\u001b[0;34m,\u001b[0m\u001b[0;34m\u001b[0m\u001b[0;34m\u001b[0m\u001b[0m\n\u001b[1;32m    559\u001b[0m               \u001b[0mattrs\u001b[0m\u001b[0;34m=\u001b[0m\u001b[0mattrs\u001b[0m\u001b[0;34m,\u001b[0m\u001b[0;34m\u001b[0m\u001b[0;34m\u001b[0m\u001b[0m\n\u001b[0;32m--> 560\u001b[0;31m               ctx=ctx)\n\u001b[0m\u001b[1;32m    561\u001b[0m         \u001b[0;32melse\u001b[0m\u001b[0;34m:\u001b[0m\u001b[0;34m\u001b[0m\u001b[0;34m\u001b[0m\u001b[0m\n\u001b[1;32m    562\u001b[0m           outputs = execute.execute_with_cancellation(\n",
            "\u001b[0;32m/usr/local/lib/python3.7/dist-packages/tensorflow/python/eager/execute.py\u001b[0m in \u001b[0;36mquick_execute\u001b[0;34m(op_name, num_outputs, inputs, attrs, ctx, name)\u001b[0m\n\u001b[1;32m     58\u001b[0m     \u001b[0mctx\u001b[0m\u001b[0;34m.\u001b[0m\u001b[0mensure_initialized\u001b[0m\u001b[0;34m(\u001b[0m\u001b[0;34m)\u001b[0m\u001b[0;34m\u001b[0m\u001b[0;34m\u001b[0m\u001b[0m\n\u001b[1;32m     59\u001b[0m     tensors = pywrap_tfe.TFE_Py_Execute(ctx._handle, device_name, op_name,\n\u001b[0;32m---> 60\u001b[0;31m                                         inputs, attrs, num_outputs)\n\u001b[0m\u001b[1;32m     61\u001b[0m   \u001b[0;32mexcept\u001b[0m \u001b[0mcore\u001b[0m\u001b[0;34m.\u001b[0m\u001b[0m_NotOkStatusException\u001b[0m \u001b[0;32mas\u001b[0m \u001b[0me\u001b[0m\u001b[0;34m:\u001b[0m\u001b[0;34m\u001b[0m\u001b[0;34m\u001b[0m\u001b[0m\n\u001b[1;32m     62\u001b[0m     \u001b[0;32mif\u001b[0m \u001b[0mname\u001b[0m \u001b[0;32mis\u001b[0m \u001b[0;32mnot\u001b[0m \u001b[0;32mNone\u001b[0m\u001b[0;34m:\u001b[0m\u001b[0;34m\u001b[0m\u001b[0;34m\u001b[0m\u001b[0m\n",
            "\u001b[0;31mKeyboardInterrupt\u001b[0m: "
          ]
        }
      ]
    }
  ]
}