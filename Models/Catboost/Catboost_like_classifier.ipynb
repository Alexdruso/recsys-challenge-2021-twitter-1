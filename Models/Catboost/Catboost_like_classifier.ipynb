{
 "cells": [
  {
   "cell_type": "code",
   "execution_count": 9,
   "id": "d46f3854",
   "metadata": {},
   "outputs": [],
   "source": [
    "import pandas as pd\n",
    "import dask.dataframe as dd\n",
    "from catboost import CatBoost, Pool, CatBoostClassifier\n",
    "from sklearn.model_selection import train_test_split\n",
    "from sklearn.metrics import average_precision_score, log_loss"
   ]
  },
  {
   "cell_type": "code",
   "execution_count": 10,
   "id": "cf63a9bb",
   "metadata": {},
   "outputs": [],
   "source": [
    "def calculate_ctr(gt):\n",
    "  positive = len([x for x in gt if x == 1])\n",
    "  ctr = positive/float(len(gt))\n",
    "  return ctr\n",
    "\n",
    "def compute_rce(pred, gt):\n",
    "    cross_entropy = log_loss(gt, pred)\n",
    "    data_ctr = calculate_ctr(gt)\n",
    "    strawman_cross_entropy = log_loss(gt, [data_ctr for _ in range(len(gt))])\n",
    "    return (1.0 - cross_entropy/strawman_cross_entropy)*100.0"
   ]
  },
  {
   "cell_type": "code",
   "execution_count": 11,
   "metadata": {},
   "outputs": [],
   "source": [
    "import numpy as np\n",
    "\n",
    "def getBoolean(n):\n",
    "    if n == 'False':\n",
    "        return False \n",
    "\n",
    "    return True\n",
    "\n",
    "def getBooleanList(pred):\n",
    "    return np.array(list(map(getBoolean, pred)))"
   ]
  },
  {
   "cell_type": "markdown",
   "id": "be8cdd97",
   "metadata": {},
   "source": [
    "## Proof of concept of catboost"
   ]
  },
  {
   "cell_type": "code",
   "execution_count": 12,
   "id": "83b0fecb",
   "metadata": {},
   "outputs": [
    {
     "output_type": "stream",
     "name": "stderr",
     "text": [
      "/Users/arcangelopisa/Library/Python/3.8/lib/python/site-packages/dask/dataframe/core.py:1389: UserWarning: sample does not support the number of sampled items parameter, 'n'. Please use the 'frac' parameter instead.\n",
      "  warnings.warn(msg)\n",
      "<class 'pandas.core.frame.DataFrame'>\n",
      "Int64Index: 59815580 entries, 66752 to 32846\n",
      "Data columns (total 14 columns):\n",
      " #   Column                              Dtype\n",
      "---  ------                              -----\n",
      " 0   tweet_timestamp                     int32\n",
      " 1   creator_follower_count              int32\n",
      " 2   creator_following_count             int32\n",
      " 3   creator_is_verified                 bool \n",
      " 4   creator_creation_timestamp          int32\n",
      " 5   engager_follower_count              int32\n",
      " 6   engager_following_count             int32\n",
      " 7   engager_is_verified                 bool \n",
      " 8   engager_creation_timestamp          int32\n",
      " 9   engagement_creator_follows_engager  bool \n",
      " 10  number_of_photo                     uint8\n",
      " 11  number_of_gif                       uint8\n",
      " 12  number_of_video                     uint8\n",
      " 13  engagement_like_timestamp           uint8\n",
      "dtypes: bool(3), int32(7), uint8(4)\n",
      "memory usage: 2.4 GB\n",
      "CPU times: user 20.5 s, sys: 12.2 s, total: 32.7 s\n",
      "Wall time: 20.3 s\n"
     ]
    }
   ],
   "source": [
    "%%time\n",
    "\n",
    "columns = [\n",
    "    'tweet_timestamp', \n",
    "    'creator_follower_count', \n",
    "    'creator_following_count',\n",
    "    'creator_is_verified', \n",
    "    'creator_creation_timestamp',\n",
    "    'engager_follower_count', \n",
    "    'engager_following_count',\n",
    "    'engager_is_verified', \n",
    "    'engager_creation_timestamp',\n",
    "    'engagement_creator_follows_engager', \n",
    "    'number_of_photo', \n",
    "    'number_of_gif', \n",
    "    'number_of_video',\n",
    "    'engagement_like_timestamp',\n",
    "]\n",
    "\n",
    "dask_df = dd.read_parquet(\"/Users/arcangelopisa/Downloads/sample_dataset\", engine='pyarrow', columns=columns)\n",
    "dask_df = dask_df.sample(0.8)\n",
    "dask_df['engagement_like_timestamp'] = (dask_df['engagement_like_timestamp'] != -1).astype(np.uint8)\n",
    "\n",
    "pandas_df = dask_df.compute()\n",
    "\n",
    "del dask_df\n",
    "\n",
    "pandas_df.info()"
   ]
  },
  {
   "cell_type": "code",
   "execution_count": 13,
   "id": "1fb21122",
   "metadata": {},
   "outputs": [],
   "source": [
    "train, test = train_test_split(pandas_df, train_size=0.8)\n",
    "\n",
    "X_train = train.drop(['engagement_like_timestamp'], axis=1)\n",
    "y_train = train['engagement_like_timestamp']\n",
    "\n",
    "X_test = test.drop(['engagement_like_timestamp'], axis=1)\n",
    "y_test = test['engagement_like_timestamp']\n",
    "\n",
    "del pandas_df, train, test"
   ]
  },
  {
   "cell_type": "code",
   "execution_count": 15,
   "id": "9e0036f6",
   "metadata": {},
   "outputs": [
    {
     "output_type": "stream",
     "name": "stdout",
     "text": [
      "0:\tlearn: 0.6769802\ttotal: 11.1s\tremaining: 36m 47s\n",
      "1:\tlearn: 0.6676905\ttotal: 20.7s\tremaining: 34m 13s\n",
      "2:\tlearn: 0.6622337\ttotal: 28.8s\tremaining: 31m 31s\n",
      "3:\tlearn: 0.6589760\ttotal: 36.4s\tremaining: 29m 43s\n",
      "4:\tlearn: 0.6568149\ttotal: 44.7s\tremaining: 29m 2s\n",
      "5:\tlearn: 0.6555372\ttotal: 53s\tremaining: 28m 32s\n",
      "6:\tlearn: 0.6545651\ttotal: 1m 1s\tremaining: 28m 28s\n",
      "7:\tlearn: 0.6538272\ttotal: 1m 11s\tremaining: 28m 27s\n",
      "8:\tlearn: 0.6533410\ttotal: 1m 18s\tremaining: 27m 46s\n",
      "9:\tlearn: 0.6528154\ttotal: 1m 25s\tremaining: 27m 3s\n",
      "10:\tlearn: 0.6523025\ttotal: 1m 32s\tremaining: 26m 26s\n",
      "11:\tlearn: 0.6519275\ttotal: 1m 39s\tremaining: 25m 55s\n",
      "12:\tlearn: 0.6515228\ttotal: 1m 46s\tremaining: 25m 33s\n",
      "13:\tlearn: 0.6512405\ttotal: 1m 53s\tremaining: 25m 5s\n",
      "14:\tlearn: 0.6509289\ttotal: 2m\tremaining: 24m 46s\n",
      "15:\tlearn: 0.6507033\ttotal: 2m 7s\tremaining: 24m 25s\n",
      "16:\tlearn: 0.6504745\ttotal: 2m 14s\tremaining: 24m 10s\n",
      "17:\tlearn: 0.6501685\ttotal: 2m 21s\tremaining: 23m 52s\n",
      "18:\tlearn: 0.6500128\ttotal: 2m 28s\tremaining: 23m 37s\n",
      "19:\tlearn: 0.6498355\ttotal: 2m 35s\tremaining: 23m 20s\n",
      "20:\tlearn: 0.6496697\ttotal: 2m 42s\tremaining: 23m 7s\n",
      "21:\tlearn: 0.6495144\ttotal: 2m 49s\tremaining: 22m 53s\n",
      "22:\tlearn: 0.6492846\ttotal: 2m 56s\tremaining: 22m 39s\n",
      "23:\tlearn: 0.6491377\ttotal: 3m 4s\tremaining: 22m 30s\n",
      "24:\tlearn: 0.6489923\ttotal: 3m 12s\tremaining: 22m 24s\n",
      "25:\tlearn: 0.6488884\ttotal: 3m 18s\tremaining: 22m 11s\n",
      "26:\tlearn: 0.6486971\ttotal: 3m 25s\tremaining: 21m 59s\n",
      "27:\tlearn: 0.6485853\ttotal: 3m 32s\tremaining: 21m 44s\n",
      "28:\tlearn: 0.6483972\ttotal: 3m 38s\tremaining: 21m 30s\n",
      "29:\tlearn: 0.6483154\ttotal: 3m 45s\tremaining: 21m 17s\n",
      "30:\tlearn: 0.6481722\ttotal: 3m 51s\tremaining: 21m 3s\n",
      "31:\tlearn: 0.6480154\ttotal: 3m 58s\tremaining: 20m 50s\n",
      "32:\tlearn: 0.6478552\ttotal: 4m 3s\tremaining: 20m 34s\n",
      "33:\tlearn: 0.6476975\ttotal: 4m 11s\tremaining: 20m 25s\n",
      "34:\tlearn: 0.6476069\ttotal: 4m 18s\tremaining: 20m 16s\n",
      "35:\tlearn: 0.6475385\ttotal: 4m 24s\tremaining: 20m 5s\n",
      "36:\tlearn: 0.6474015\ttotal: 4m 31s\tremaining: 19m 55s\n",
      "37:\tlearn: 0.6472966\ttotal: 4m 37s\tremaining: 19m 44s\n",
      "38:\tlearn: 0.6472163\ttotal: 4m 45s\tremaining: 19m 36s\n",
      "39:\tlearn: 0.6470263\ttotal: 4m 51s\tremaining: 19m 26s\n",
      "40:\tlearn: 0.6469449\ttotal: 4m 58s\tremaining: 19m 16s\n",
      "41:\tlearn: 0.6468298\ttotal: 5m 4s\tremaining: 19m 4s\n",
      "42:\tlearn: 0.6467314\ttotal: 5m 10s\tremaining: 18m 53s\n",
      "43:\tlearn: 0.6466503\ttotal: 5m 17s\tremaining: 18m 44s\n",
      "44:\tlearn: 0.6465809\ttotal: 5m 23s\tremaining: 18m 33s\n",
      "45:\tlearn: 0.6464935\ttotal: 5m 29s\tremaining: 18m 24s\n",
      "46:\tlearn: 0.6464166\ttotal: 5m 37s\tremaining: 18m 17s\n",
      "47:\tlearn: 0.6461990\ttotal: 5m 43s\tremaining: 18m 8s\n",
      "48:\tlearn: 0.6461071\ttotal: 5m 50s\tremaining: 18m\n",
      "49:\tlearn: 0.6460077\ttotal: 5m 56s\tremaining: 17m 50s\n",
      "50:\tlearn: 0.6459221\ttotal: 6m 3s\tremaining: 17m 40s\n",
      "51:\tlearn: 0.6458639\ttotal: 6m 10s\tremaining: 17m 33s\n",
      "52:\tlearn: 0.6458064\ttotal: 6m 16s\tremaining: 17m 24s\n",
      "53:\tlearn: 0.6456932\ttotal: 6m 23s\tremaining: 17m 15s\n",
      "54:\tlearn: 0.6456497\ttotal: 6m 28s\tremaining: 17m 4s\n",
      "55:\tlearn: 0.6455331\ttotal: 6m 35s\tremaining: 16m 56s\n",
      "56:\tlearn: 0.6454628\ttotal: 6m 42s\tremaining: 16m 48s\n",
      "57:\tlearn: 0.6454195\ttotal: 6m 48s\tremaining: 16m 40s\n",
      "58:\tlearn: 0.6453306\ttotal: 6m 54s\tremaining: 16m 30s\n",
      "59:\tlearn: 0.6452000\ttotal: 7m\tremaining: 16m 22s\n",
      "60:\tlearn: 0.6450979\ttotal: 7m 7s\tremaining: 16m 13s\n",
      "61:\tlearn: 0.6450477\ttotal: 7m 14s\tremaining: 16m 6s\n",
      "62:\tlearn: 0.6449747\ttotal: 7m 20s\tremaining: 15m 57s\n",
      "63:\tlearn: 0.6449240\ttotal: 7m 26s\tremaining: 15m 49s\n",
      "64:\tlearn: 0.6448725\ttotal: 7m 34s\tremaining: 15m 43s\n",
      "65:\tlearn: 0.6447815\ttotal: 7m 40s\tremaining: 15m 34s\n",
      "66:\tlearn: 0.6446513\ttotal: 7m 46s\tremaining: 15m 26s\n",
      "67:\tlearn: 0.6445893\ttotal: 7m 52s\tremaining: 15m 18s\n",
      "68:\tlearn: 0.6445466\ttotal: 7m 59s\tremaining: 15m 10s\n",
      "69:\tlearn: 0.6445048\ttotal: 8m 6s\tremaining: 15m 2s\n",
      "70:\tlearn: 0.6444500\ttotal: 8m 12s\tremaining: 14m 54s\n",
      "71:\tlearn: 0.6443275\ttotal: 8m 18s\tremaining: 14m 46s\n",
      "72:\tlearn: 0.6442470\ttotal: 8m 25s\tremaining: 14m 39s\n",
      "73:\tlearn: 0.6441920\ttotal: 8m 31s\tremaining: 14m 31s\n",
      "74:\tlearn: 0.6441030\ttotal: 8m 38s\tremaining: 14m 23s\n",
      "75:\tlearn: 0.6440164\ttotal: 8m 43s\tremaining: 14m 14s\n",
      "76:\tlearn: 0.6439876\ttotal: 8m 50s\tremaining: 14m 7s\n",
      "77:\tlearn: 0.6439490\ttotal: 8m 57s\tremaining: 14m\n",
      "78:\tlearn: 0.6439044\ttotal: 9m 4s\tremaining: 13m 54s\n",
      "79:\tlearn: 0.6438740\ttotal: 9m 11s\tremaining: 13m 46s\n",
      "80:\tlearn: 0.6437880\ttotal: 9m 18s\tremaining: 13m 40s\n",
      "81:\tlearn: 0.6437425\ttotal: 9m 25s\tremaining: 13m 33s\n",
      "82:\tlearn: 0.6436774\ttotal: 9m 31s\tremaining: 13m 25s\n",
      "83:\tlearn: 0.6436539\ttotal: 9m 37s\tremaining: 13m 17s\n",
      "84:\tlearn: 0.6435638\ttotal: 9m 43s\tremaining: 13m 9s\n",
      "85:\tlearn: 0.6435401\ttotal: 9m 49s\tremaining: 13m 1s\n",
      "86:\tlearn: 0.6435023\ttotal: 9m 56s\tremaining: 12m 54s\n",
      "87:\tlearn: 0.6434672\ttotal: 10m 2s\tremaining: 12m 46s\n",
      "88:\tlearn: 0.6434006\ttotal: 10m 8s\tremaining: 12m 38s\n",
      "89:\tlearn: 0.6433701\ttotal: 10m 15s\tremaining: 12m 31s\n",
      "90:\tlearn: 0.6433156\ttotal: 10m 22s\tremaining: 12m 25s\n",
      "91:\tlearn: 0.6432596\ttotal: 10m 28s\tremaining: 12m 17s\n",
      "92:\tlearn: 0.6432158\ttotal: 10m 34s\tremaining: 12m 10s\n",
      "93:\tlearn: 0.6431829\ttotal: 10m 41s\tremaining: 12m 3s\n",
      "94:\tlearn: 0.6431375\ttotal: 10m 47s\tremaining: 11m 55s\n",
      "95:\tlearn: 0.6431100\ttotal: 10m 54s\tremaining: 11m 49s\n",
      "96:\tlearn: 0.6429922\ttotal: 11m\tremaining: 11m 41s\n",
      "97:\tlearn: 0.6429628\ttotal: 11m 7s\tremaining: 11m 34s\n",
      "98:\tlearn: 0.6428877\ttotal: 11m 13s\tremaining: 11m 27s\n",
      "99:\tlearn: 0.6428189\ttotal: 11m 20s\tremaining: 11m 20s\n",
      "100:\tlearn: 0.6427326\ttotal: 11m 27s\tremaining: 11m 14s\n",
      "101:\tlearn: 0.6427093\ttotal: 11m 35s\tremaining: 11m 8s\n",
      "102:\tlearn: 0.6426577\ttotal: 11m 42s\tremaining: 11m 1s\n",
      "103:\tlearn: 0.6426038\ttotal: 11m 50s\tremaining: 10m 55s\n",
      "104:\tlearn: 0.6425733\ttotal: 11m 57s\tremaining: 10m 49s\n",
      "105:\tlearn: 0.6425327\ttotal: 12m 5s\tremaining: 10m 43s\n",
      "106:\tlearn: 0.6424906\ttotal: 12m 12s\tremaining: 10m 36s\n",
      "107:\tlearn: 0.6424527\ttotal: 12m 19s\tremaining: 10m 30s\n",
      "108:\tlearn: 0.6423957\ttotal: 12m 26s\tremaining: 10m 23s\n",
      "109:\tlearn: 0.6423394\ttotal: 12m 33s\tremaining: 10m 16s\n",
      "110:\tlearn: 0.6423096\ttotal: 12m 41s\tremaining: 10m 10s\n",
      "111:\tlearn: 0.6422248\ttotal: 12m 48s\tremaining: 10m 3s\n",
      "112:\tlearn: 0.6421481\ttotal: 12m 55s\tremaining: 9m 57s\n",
      "113:\tlearn: 0.6420873\ttotal: 13m 2s\tremaining: 9m 50s\n",
      "114:\tlearn: 0.6420400\ttotal: 13m 10s\tremaining: 9m 44s\n",
      "115:\tlearn: 0.6419659\ttotal: 13m 18s\tremaining: 9m 37s\n",
      "116:\tlearn: 0.6419188\ttotal: 13m 25s\tremaining: 9m 31s\n",
      "117:\tlearn: 0.6418867\ttotal: 13m 32s\tremaining: 9m 24s\n",
      "118:\tlearn: 0.6418588\ttotal: 13m 40s\tremaining: 9m 18s\n",
      "119:\tlearn: 0.6418149\ttotal: 13m 49s\tremaining: 9m 12s\n",
      "120:\tlearn: 0.6417803\ttotal: 13m 57s\tremaining: 9m 6s\n",
      "121:\tlearn: 0.6417333\ttotal: 14m 3s\tremaining: 8m 59s\n",
      "122:\tlearn: 0.6416865\ttotal: 14m 10s\tremaining: 8m 52s\n",
      "123:\tlearn: 0.6416433\ttotal: 14m 17s\tremaining: 8m 45s\n",
      "124:\tlearn: 0.6416033\ttotal: 14m 24s\tremaining: 8m 38s\n",
      "125:\tlearn: 0.6415219\ttotal: 14m 31s\tremaining: 8m 31s\n",
      "126:\tlearn: 0.6414699\ttotal: 14m 37s\tremaining: 8m 24s\n",
      "127:\tlearn: 0.6414308\ttotal: 14m 44s\tremaining: 8m 17s\n",
      "128:\tlearn: 0.6413887\ttotal: 14m 50s\tremaining: 8m 10s\n",
      "129:\tlearn: 0.6413653\ttotal: 14m 56s\tremaining: 8m 2s\n",
      "130:\tlearn: 0.6413138\ttotal: 15m 2s\tremaining: 7m 55s\n",
      "131:\tlearn: 0.6412765\ttotal: 15m 8s\tremaining: 7m 48s\n",
      "132:\tlearn: 0.6412506\ttotal: 15m 15s\tremaining: 7m 41s\n",
      "133:\tlearn: 0.6412154\ttotal: 15m 21s\tremaining: 7m 33s\n",
      "134:\tlearn: 0.6411800\ttotal: 15m 27s\tremaining: 7m 26s\n",
      "135:\tlearn: 0.6411421\ttotal: 15m 33s\tremaining: 7m 19s\n",
      "136:\tlearn: 0.6411270\ttotal: 15m 39s\tremaining: 7m 12s\n",
      "137:\tlearn: 0.6410370\ttotal: 15m 45s\tremaining: 7m 4s\n",
      "138:\tlearn: 0.6410050\ttotal: 15m 52s\tremaining: 6m 57s\n",
      "139:\tlearn: 0.6409800\ttotal: 15m 59s\tremaining: 6m 51s\n",
      "140:\tlearn: 0.6409267\ttotal: 16m 6s\tremaining: 6m 44s\n",
      "141:\tlearn: 0.6409028\ttotal: 16m 13s\tremaining: 6m 37s\n",
      "142:\tlearn: 0.6408778\ttotal: 16m 21s\tremaining: 6m 31s\n",
      "143:\tlearn: 0.6408615\ttotal: 16m 28s\tremaining: 6m 24s\n",
      "144:\tlearn: 0.6407811\ttotal: 16m 35s\tremaining: 6m 17s\n",
      "145:\tlearn: 0.6407515\ttotal: 16m 40s\tremaining: 6m 10s\n",
      "146:\tlearn: 0.6407104\ttotal: 16m 47s\tremaining: 6m 3s\n",
      "147:\tlearn: 0.6406534\ttotal: 16m 53s\tremaining: 5m 56s\n",
      "148:\tlearn: 0.6405987\ttotal: 16m 59s\tremaining: 5m 48s\n",
      "149:\tlearn: 0.6405338\ttotal: 17m 5s\tremaining: 5m 41s\n",
      "150:\tlearn: 0.6404938\ttotal: 17m 11s\tremaining: 5m 34s\n",
      "151:\tlearn: 0.6404441\ttotal: 17m 17s\tremaining: 5m 27s\n",
      "152:\tlearn: 0.6403977\ttotal: 17m 23s\tremaining: 5m 20s\n",
      "153:\tlearn: 0.6403416\ttotal: 17m 29s\tremaining: 5m 13s\n",
      "154:\tlearn: 0.6403043\ttotal: 17m 35s\tremaining: 5m 6s\n",
      "155:\tlearn: 0.6402783\ttotal: 17m 42s\tremaining: 4m 59s\n",
      "156:\tlearn: 0.6402331\ttotal: 17m 48s\tremaining: 4m 52s\n",
      "157:\tlearn: 0.6402066\ttotal: 17m 55s\tremaining: 4m 45s\n",
      "158:\tlearn: 0.6401462\ttotal: 18m 2s\tremaining: 4m 39s\n",
      "159:\tlearn: 0.6400968\ttotal: 18m 8s\tremaining: 4m 32s\n",
      "160:\tlearn: 0.6400764\ttotal: 18m 14s\tremaining: 4m 25s\n",
      "161:\tlearn: 0.6400454\ttotal: 18m 20s\tremaining: 4m 18s\n",
      "162:\tlearn: 0.6400098\ttotal: 18m 27s\tremaining: 4m 11s\n",
      "163:\tlearn: 0.6399752\ttotal: 18m 33s\tremaining: 4m 4s\n",
      "164:\tlearn: 0.6398944\ttotal: 18m 39s\tremaining: 3m 57s\n",
      "165:\tlearn: 0.6398505\ttotal: 18m 45s\tremaining: 3m 50s\n",
      "166:\tlearn: 0.6398349\ttotal: 18m 52s\tremaining: 3m 43s\n",
      "167:\tlearn: 0.6397876\ttotal: 18m 58s\tremaining: 3m 36s\n",
      "168:\tlearn: 0.6397129\ttotal: 19m 4s\tremaining: 3m 29s\n",
      "169:\tlearn: 0.6396880\ttotal: 19m 11s\tremaining: 3m 23s\n",
      "170:\tlearn: 0.6396597\ttotal: 19m 17s\tremaining: 3m 16s\n",
      "171:\tlearn: 0.6396170\ttotal: 19m 23s\tremaining: 3m 9s\n",
      "172:\tlearn: 0.6395827\ttotal: 19m 30s\tremaining: 3m 2s\n",
      "173:\tlearn: 0.6395378\ttotal: 19m 36s\tremaining: 2m 55s\n",
      "174:\tlearn: 0.6395214\ttotal: 19m 42s\tremaining: 2m 48s\n",
      "175:\tlearn: 0.6395014\ttotal: 19m 49s\tremaining: 2m 42s\n",
      "176:\tlearn: 0.6394859\ttotal: 19m 55s\tremaining: 2m 35s\n",
      "177:\tlearn: 0.6394495\ttotal: 20m 1s\tremaining: 2m 28s\n",
      "178:\tlearn: 0.6394221\ttotal: 20m 7s\tremaining: 2m 21s\n",
      "179:\tlearn: 0.6393814\ttotal: 20m 13s\tremaining: 2m 14s\n",
      "180:\tlearn: 0.6393350\ttotal: 20m 19s\tremaining: 2m 8s\n",
      "181:\tlearn: 0.6392728\ttotal: 20m 25s\tremaining: 2m 1s\n",
      "182:\tlearn: 0.6392386\ttotal: 20m 32s\tremaining: 1m 54s\n",
      "183:\tlearn: 0.6392188\ttotal: 20m 39s\tremaining: 1m 47s\n",
      "184:\tlearn: 0.6391995\ttotal: 20m 47s\tremaining: 1m 41s\n",
      "185:\tlearn: 0.6391754\ttotal: 20m 57s\tremaining: 1m 34s\n",
      "186:\tlearn: 0.6391332\ttotal: 21m 5s\tremaining: 1m 27s\n",
      "187:\tlearn: 0.6390983\ttotal: 21m 12s\tremaining: 1m 21s\n",
      "188:\tlearn: 0.6390696\ttotal: 21m 20s\tremaining: 1m 14s\n",
      "189:\tlearn: 0.6390415\ttotal: 21m 28s\tremaining: 1m 7s\n",
      "190:\tlearn: 0.6390196\ttotal: 21m 34s\tremaining: 1m 1s\n",
      "191:\tlearn: 0.6389622\ttotal: 21m 41s\tremaining: 54.2s\n",
      "192:\tlearn: 0.6389335\ttotal: 21m 48s\tremaining: 47.4s\n",
      "193:\tlearn: 0.6388987\ttotal: 21m 54s\tremaining: 40.7s\n",
      "194:\tlearn: 0.6388738\ttotal: 22m 1s\tremaining: 33.9s\n",
      "195:\tlearn: 0.6388349\ttotal: 22m 7s\tremaining: 27.1s\n",
      "196:\tlearn: 0.6388130\ttotal: 22m 14s\tremaining: 20.3s\n",
      "197:\tlearn: 0.6387964\ttotal: 22m 21s\tremaining: 13.6s\n",
      "198:\tlearn: 0.6387493\ttotal: 22m 28s\tremaining: 6.77s\n",
      "199:\tlearn: 0.6387360\ttotal: 22m 34s\tremaining: 0us\n",
      "CPU times: user 2h 9min 57s, sys: 8min 9s, total: 2h 18min 7s\n",
      "Wall time: 23min 33s\n"
     ]
    },
    {
     "output_type": "execute_result",
     "data": {
      "text/plain": [
       "<catboost.core.CatBoostClassifier at 0x130aef1f0>"
      ]
     },
     "metadata": {},
     "execution_count": 15
    }
   ],
   "source": [
    "%%time\n",
    "\n",
    "classifier = CatBoostClassifier(iterations=200,\n",
    "                           depth=12,\n",
    "                           learning_rate=0.25,\n",
    "                           loss_function='CrossEntropy',\n",
    "                           verbose = True)\n",
    "\n",
    "classifier.fit(X_train, y_train, verbose = True)"
   ]
  },
  {
   "cell_type": "code",
   "execution_count": 7,
   "metadata": {},
   "outputs": [],
   "source": [
    "classifier.save_model('like_classifier', format = \"cbm\")"
   ]
  },
  {
   "cell_type": "code",
   "execution_count": 8,
   "id": "7cf7706f",
   "metadata": {},
   "outputs": [
    {
     "output_type": "stream",
     "name": "stderr",
     "text": [
      "<ipython-input-3-cb3018a4ecad>:4: FutureWarning: elementwise comparison failed; returning scalar instead, but in the future will perform elementwise comparison\n",
      "  if n == 'False':\n",
      "CPU times: user 1min 24s, sys: 1.62 s, total: 1min 26s\n",
      "Wall time: 1min 15s\n"
     ]
    }
   ],
   "source": [
    "%%time\n",
    "\n",
    "y_pred = classifier.predict_proba(X_test)\n",
    "\n",
    "result = getBooleanList(y_pred)"
   ]
  },
  {
   "cell_type": "code",
   "execution_count": 10,
   "metadata": {},
   "outputs": [
    {
     "output_type": "execute_result",
     "data": {
      "text/plain": [
       "array([[0.90085285, 0.09914715],\n",
       "       [0.71922361, 0.28077639],\n",
       "       [0.39333767, 0.60666233],\n",
       "       ...,\n",
       "       [0.72635317, 0.27364683],\n",
       "       [0.66672469, 0.33327531],\n",
       "       [0.53503352, 0.46496648]])"
      ]
     },
     "metadata": {},
     "execution_count": 10
    }
   ],
   "source": [
    "y_pred"
   ]
  },
  {
   "cell_type": "code",
   "execution_count": 9,
   "id": "7c053c72",
   "metadata": {},
   "outputs": [
    {
     "output_type": "stream",
     "name": "stdout",
     "text": [
      "RCE is -2998.4876221844934\n",
      "Average precision is 0.39726230189525874\n"
     ]
    }
   ],
   "source": [
    "print('RCE is {}'.format(compute_rce(result, y_test)))\n",
    "print('Average precision is {}'.format(average_precision_score(y_test, result)))"
   ]
  }
 ],
 "metadata": {
  "kernelspec": {
   "name": "python382jvsc74a57bd031f2aee4e71d21fbe5cf8b01ff0e069b9275f58929596ceb00d14d90e3e16cd6",
   "display_name": "Python 3.8.2 64-bit"
  },
  "language_info": {
   "codemirror_mode": {
    "name": "ipython",
    "version": 3
   },
   "file_extension": ".py",
   "mimetype": "text/x-python",
   "name": "python",
   "nbconvert_exporter": "python",
   "pygments_lexer": "ipython3",
   "version": "3.8.2"
  },
  "metadata": {
   "interpreter": {
    "hash": "31f2aee4e71d21fbe5cf8b01ff0e069b9275f58929596ceb00d14d90e3e16cd6"
   }
  }
 },
 "nbformat": 4,
 "nbformat_minor": 5
}