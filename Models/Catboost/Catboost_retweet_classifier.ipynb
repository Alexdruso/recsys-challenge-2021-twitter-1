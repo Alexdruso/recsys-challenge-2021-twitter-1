{
 "cells": [
  {
   "cell_type": "code",
   "execution_count": null,
   "id": "d46f3854",
   "metadata": {},
   "outputs": [],
   "source": [
    "import pandas as pd\n",
    "import dask.dataframe as dd\n",
    "from catboost import CatBoost, Pool, CatBoostClassifier\n",
    "from sklearn.model_selection import train_test_split\n",
    "from sklearn.metrics import average_precision_score, log_loss"
   ]
  },
  {
   "cell_type": "code",
   "execution_count": null,
   "id": "cf63a9bb",
   "metadata": {},
   "outputs": [],
   "source": [
    "def calculate_ctr(gt):\n",
    "  positive = len([x for x in gt if x == 1])\n",
    "  ctr = positive/float(len(gt))\n",
    "  return ctr\n",
    "\n",
    "def compute_rce(pred, gt):\n",
    "    cross_entropy = log_loss(gt, pred)\n",
    "    data_ctr = calculate_ctr(gt)\n",
    "    strawman_cross_entropy = log_loss(gt, [data_ctr for _ in range(len(gt))])\n",
    "    return (1.0 - cross_entropy/strawman_cross_entropy)*100.0"
   ]
  },
  {
   "cell_type": "code",
   "execution_count": null,
   "metadata": {},
   "outputs": [],
   "source": [
    "import numpy as np\n",
    "\n",
    "def getBoolean(n):\n",
    "    if n > 0.5:\n",
    "        return True \n",
    "    else:\n",
    "        return False\n",
    "\n",
    "def getBooleanList(pred):\n",
    "    return np.array(list(map(getBoolean, pred)))\n",
    "\n",
    "def getFirst(n):\n",
    "    return n[0]\n",
    "\n",
    "def getFirstValuePrediction(pred):\n",
    "    return np.array(list(map(getFirst, pred)))"
   ]
  },
  {
   "cell_type": "markdown",
   "id": "be8cdd97",
   "metadata": {},
   "source": [
    "## Proof of concept of catboost"
   ]
  },
  {
   "cell_type": "code",
   "execution_count": null,
   "id": "83b0fecb",
   "metadata": {},
   "outputs": [],
   "source": [
    "%%time\n",
    "\n",
    "columns = [\n",
    "    'tweet_timestamp', \n",
    "    'creator_follower_count', \n",
    "    'creator_following_count',\n",
    "    'creator_is_verified', \n",
    "    'creator_creation_timestamp',\n",
    "    'engager_follower_count', \n",
    "    'engager_following_count',\n",
    "    'engager_is_verified', \n",
    "    'engager_creation_timestamp',\n",
    "    'engagement_creator_follows_engager', \n",
    "    'number_of_photo', \n",
    "    'number_of_gif', \n",
    "    'number_of_video',\n",
    "    'engagement_retweet_timestamp',\n",
    "]\n",
    "\n",
    "dask_df = dd.read_parquet(\"/Users/arcangelopisa/Downloads/sample_dataset\", engine='pyarrow', columns=columns)\n",
    "dask_df = dask_df.sample(0.8)\n",
    "dask_df['engagement_retweet_timestamp'] = (dask_df['engagement_retweet_timestamp'] != -1).astype(np.uint8)\n",
    "\n",
    "pandas_df = dask_df.compute()\n",
    "\n",
    "del dask_df\n",
    "\n",
    "pandas_df.info()"
   ]
  },
  {
   "cell_type": "code",
   "execution_count": null,
   "id": "1fb21122",
   "metadata": {},
   "outputs": [],
   "source": [
    "train, test = train_test_split(pandas_df, train_size=0.8)\n",
    "\n",
    "X_train = train.drop(['engagement_retweet_timestamp'], axis=1)\n",
    "y_train = train['engagement_retweet_timestamp']\n",
    "\n",
    "X_test = test.drop(['engagement_retweet_timestamp'], axis=1)\n",
    "y_test = test['engagement_retweet_timestamp']\n",
    "\n",
    "del pandas_df, train, test"
   ]
  },
  {
   "cell_type": "code",
   "execution_count": null,
   "id": "9e0036f6",
   "metadata": {},
   "outputs": [],
   "source": [
    "%%time\n",
    "\n",
    "classifier = CatBoostClassifier(iterations=150,\n",
    "                           depth=12,\n",
    "                           learning_rate=0.25,\n",
    "                           loss_function='CrossEntropy',\n",
    "                           verbose = True)\n",
    "\n",
    "classifier.fit(X_train, y_train, verbose = True)\n",
    "\n",
    "classifier.save_model('retweet_classifier', format = \"cbm\")"
   ]
  },
  {
   "cell_type": "code",
   "execution_count": null,
   "id": "7cf7706f",
   "metadata": {},
   "outputs": [],
   "source": [
    "%%time\n",
    "\n",
    "y_pred = classifier.predict_proba(X_test)\n",
    "y_pred"
   ]
  },
  {
   "cell_type": "code",
   "execution_count": null,
   "metadata": {},
   "outputs": [],
   "source": [
    "getFirstValuePrediction(y_pred)"
   ]
  },
  {
   "cell_type": "code",
   "execution_count": null,
   "metadata": {},
   "outputs": [],
   "source": [
    "result = getBooleanList(y_pred)\n",
    "result"
   ]
  },
  {
   "cell_type": "code",
   "execution_count": null,
   "id": "7c053c72",
   "metadata": {},
   "outputs": [],
   "source": [
    "print('RCE is {}'.format(compute_rce(result, y_test)))\n",
    "print('Average precision is {}'.format(average_precision_score(y_test, result)))"
   ]
  },
  {
   "cell_type": "code",
   "execution_count": null,
   "metadata": {},
   "outputs": [],
   "source": []
  }
 ],
 "metadata": {
  "kernelspec": {
   "name": "python382jvsc74a57bd031f2aee4e71d21fbe5cf8b01ff0e069b9275f58929596ceb00d14d90e3e16cd6",
   "display_name": "Python 3.8.2 64-bit"
  },
  "language_info": {
   "codemirror_mode": {
    "name": "ipython",
    "version": 3
   },
   "file_extension": ".py",
   "mimetype": "text/x-python",
   "name": "python",
   "nbconvert_exporter": "python",
   "pygments_lexer": "ipython3",
   "version": "3.8.2"
  },
  "metadata": {
   "interpreter": {
    "hash": "31f2aee4e71d21fbe5cf8b01ff0e069b9275f58929596ceb00d14d90e3e16cd6"
   }
  }
 },
 "nbformat": 4,
 "nbformat_minor": 5
}