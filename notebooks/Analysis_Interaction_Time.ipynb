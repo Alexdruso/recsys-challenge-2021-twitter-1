{
 "cells": [
  {
   "cell_type": "code",
   "execution_count": 1,
   "metadata": {},
   "outputs": [],
   "source": [
    "import dask.dataframe as dd\n",
    "import pandas as pd\n",
    "import matplotlib.pyplot as plt\n",
    "plt.rcParams['figure.dpi'] = 110\n",
    "import numpy as np\n",
    "import gc\n",
    "import seaborn as sns\n",
    "#from dask.distributed import Client,wait,LocalCluster"
   ]
  },
  {
   "cell_type": "code",
   "execution_count": 2,
   "metadata": {},
   "outputs": [
    {
     "name": "stdout",
     "output_type": "stream",
     "text": [
      "<class 'pandas.core.frame.DataFrame'>\n",
      "Int64Index: 78599968 entries, 24664 to 26358\n",
      "Data columns (total 6 columns):\n",
      " #   Column                                    Dtype \n",
      "---  ------                                    ----- \n",
      " 0   raw_feature_tweet_id                      object\n",
      " 1   raw_feature_tweet_timestamp               Int32 \n",
      " 2   raw_feature_engagement_reply_timestamp    Int32 \n",
      " 3   raw_feature_engagement_retweet_timestamp  Int32 \n",
      " 4   raw_feature_engagement_comment_timestamp  Int32 \n",
      " 5   raw_feature_engagement_like_timestamp     Int32 \n",
      "dtypes: Int32(5), object(1)\n",
      "memory usage: 3.0+ GB\n",
      "Wall time: 5min 38s\n"
     ]
    }
   ],
   "source": [
    "%%time\n",
    "\n",
    "columns=[\n",
    "    \"raw_feature_tweet_id\",\n",
    "    \"raw_feature_tweet_timestamp\",\n",
    "    \"raw_feature_engagement_reply_timestamp\",\n",
    "    \"raw_feature_engagement_retweet_timestamp\",\n",
    "    \"raw_feature_engagement_comment_timestamp\",\n",
    "    \"raw_feature_engagement_like_timestamp\"\n",
    "]\n",
    "\n",
    "df = dd.read_parquet('G:\\RecSysChallenge2021\\sample.parquet', engine='pyarrow', columns=columns).compute()\n",
    "\n",
    "df.info()"
   ]
  },
  {
   "cell_type": "code",
   "execution_count": 3,
   "metadata": {},
   "outputs": [
    {
     "name": "stdout",
     "output_type": "stream",
     "text": [
      "Wall time: 8min 24s\n"
     ]
    },
    {
     "data": {
      "text/html": [
       "<div>\n",
       "<style scoped>\n",
       "    .dataframe tbody tr th:only-of-type {\n",
       "        vertical-align: middle;\n",
       "    }\n",
       "\n",
       "    .dataframe tbody tr th {\n",
       "        vertical-align: top;\n",
       "    }\n",
       "\n",
       "    .dataframe thead th {\n",
       "        text-align: right;\n",
       "    }\n",
       "</style>\n",
       "<table border=\"1\" class=\"dataframe\">\n",
       "  <thead>\n",
       "    <tr style=\"text-align: right;\">\n",
       "      <th></th>\n",
       "      <th>raw_feature_tweet_timestamp</th>\n",
       "      <th>raw_feature_engagement_reply_timestamp</th>\n",
       "      <th>raw_feature_engagement_retweet_timestamp</th>\n",
       "      <th>raw_feature_engagement_comment_timestamp</th>\n",
       "      <th>raw_feature_engagement_like_timestamp</th>\n",
       "      <th>mapped_feature_tweet_id</th>\n",
       "    </tr>\n",
       "  </thead>\n",
       "  <tbody>\n",
       "    <tr>\n",
       "      <th>24664</th>\n",
       "      <td>1613503486</td>\n",
       "      <td>&lt;NA&gt;</td>\n",
       "      <td>&lt;NA&gt;</td>\n",
       "      <td>&lt;NA&gt;</td>\n",
       "      <td>1613523519</td>\n",
       "      <td>37515430</td>\n",
       "    </tr>\n",
       "    <tr>\n",
       "      <th>89447</th>\n",
       "      <td>1613503794</td>\n",
       "      <td>&lt;NA&gt;</td>\n",
       "      <td>&lt;NA&gt;</td>\n",
       "      <td>&lt;NA&gt;</td>\n",
       "      <td>&lt;NA&gt;</td>\n",
       "      <td>4460350</td>\n",
       "    </tr>\n",
       "    <tr>\n",
       "      <th>87332</th>\n",
       "      <td>1612573525</td>\n",
       "      <td>&lt;NA&gt;</td>\n",
       "      <td>1612576915</td>\n",
       "      <td>&lt;NA&gt;</td>\n",
       "      <td>1612576915</td>\n",
       "      <td>42494194</td>\n",
       "    </tr>\n",
       "    <tr>\n",
       "      <th>22500</th>\n",
       "      <td>1613114858</td>\n",
       "      <td>&lt;NA&gt;</td>\n",
       "      <td>&lt;NA&gt;</td>\n",
       "      <td>&lt;NA&gt;</td>\n",
       "      <td>1613120192</td>\n",
       "      <td>16993919</td>\n",
       "    </tr>\n",
       "    <tr>\n",
       "      <th>82911</th>\n",
       "      <td>1613613548</td>\n",
       "      <td>&lt;NA&gt;</td>\n",
       "      <td>&lt;NA&gt;</td>\n",
       "      <td>&lt;NA&gt;</td>\n",
       "      <td>1613683669</td>\n",
       "      <td>8076949</td>\n",
       "    </tr>\n",
       "  </tbody>\n",
       "</table>\n",
       "</div>"
      ],
      "text/plain": [
       "       raw_feature_tweet_timestamp  raw_feature_engagement_reply_timestamp  \\\n",
       "24664                   1613503486                                    <NA>   \n",
       "89447                   1613503794                                    <NA>   \n",
       "87332                   1612573525                                    <NA>   \n",
       "22500                   1613114858                                    <NA>   \n",
       "82911                   1613613548                                    <NA>   \n",
       "\n",
       "       raw_feature_engagement_retweet_timestamp  \\\n",
       "24664                                      <NA>   \n",
       "89447                                      <NA>   \n",
       "87332                                1612576915   \n",
       "22500                                      <NA>   \n",
       "82911                                      <NA>   \n",
       "\n",
       "       raw_feature_engagement_comment_timestamp  \\\n",
       "24664                                      <NA>   \n",
       "89447                                      <NA>   \n",
       "87332                                      <NA>   \n",
       "22500                                      <NA>   \n",
       "82911                                      <NA>   \n",
       "\n",
       "       raw_feature_engagement_like_timestamp  mapped_feature_tweet_id  \n",
       "24664                             1613523519                 37515430  \n",
       "89447                                   <NA>                  4460350  \n",
       "87332                             1612576915                 42494194  \n",
       "22500                             1613120192                 16993919  \n",
       "82911                             1613683669                  8076949  "
      ]
     },
     "execution_count": 3,
     "metadata": {},
     "output_type": "execute_result"
    }
   ],
   "source": [
    "%%time\n",
    "\n",
    "df[\"mapped_feature_tweet_id\"] = df[\"raw_feature_tweet_id\"].astype('category').cat.codes\n",
    "df = df.drop('raw_feature_tweet_id', axis = 1)\n",
    "\n",
    "gc.collect()\n",
    "\n",
    "df.head()"
   ]
  },
  {
   "cell_type": "code",
   "execution_count": 4,
   "metadata": {},
   "outputs": [
    {
     "name": "stdout",
     "output_type": "stream",
     "text": [
      "Wall time: 18.3 s\n"
     ]
    },
    {
     "data": {
      "text/html": [
       "<div>\n",
       "<style scoped>\n",
       "    .dataframe tbody tr th:only-of-type {\n",
       "        vertical-align: middle;\n",
       "    }\n",
       "\n",
       "    .dataframe tbody tr th {\n",
       "        vertical-align: top;\n",
       "    }\n",
       "\n",
       "    .dataframe thead th {\n",
       "        text-align: right;\n",
       "    }\n",
       "</style>\n",
       "<table border=\"1\" class=\"dataframe\">\n",
       "  <thead>\n",
       "    <tr style=\"text-align: right;\">\n",
       "      <th></th>\n",
       "      <th>time_delta_hours</th>\n",
       "      <th>engagement_type</th>\n",
       "    </tr>\n",
       "  </thead>\n",
       "  <tbody>\n",
       "    <tr>\n",
       "      <th>0</th>\n",
       "      <td>0.034444</td>\n",
       "      <td>reply</td>\n",
       "    </tr>\n",
       "    <tr>\n",
       "      <th>1</th>\n",
       "      <td>2.891111</td>\n",
       "      <td>reply</td>\n",
       "    </tr>\n",
       "    <tr>\n",
       "      <th>2</th>\n",
       "      <td>0.012500</td>\n",
       "      <td>reply</td>\n",
       "    </tr>\n",
       "    <tr>\n",
       "      <th>3</th>\n",
       "      <td>0.008889</td>\n",
       "      <td>reply</td>\n",
       "    </tr>\n",
       "    <tr>\n",
       "      <th>4</th>\n",
       "      <td>8.162500</td>\n",
       "      <td>reply</td>\n",
       "    </tr>\n",
       "  </tbody>\n",
       "</table>\n",
       "</div>"
      ],
      "text/plain": [
       "   time_delta_hours engagement_type\n",
       "0          0.034444           reply\n",
       "1          2.891111           reply\n",
       "2          0.012500           reply\n",
       "3          0.008889           reply\n",
       "4          8.162500           reply"
      ]
     },
     "execution_count": 4,
     "metadata": {},
     "output_type": "execute_result"
    }
   ],
   "source": [
    "%%time\n",
    "\n",
    "engagement_types=[\"reply\",\"retweet\",\"comment\",\"like\"]\n",
    "type_dfs=[]\n",
    "\n",
    "for _type in engagement_types:\n",
    "    \n",
    "    columns=[\n",
    "        \"raw_feature_tweet_timestamp\",\n",
    "        \"raw_feature_engagement_{}_timestamp\".format(_type)\n",
    "    ]\n",
    "    \n",
    "    temp=df[df[columns[1]].notnull()]\n",
    "    temp=temp[columns]\n",
    "    temp['time_delta_hours']=(temp[columns[1]]-temp[columns[0]])/(60*60)\n",
    "    temp['engagement_type']=_type\n",
    "    temp=temp.drop(columns, axis=1)\n",
    "    \n",
    "    type_dfs.append(temp)\n",
    "    \n",
    "\n",
    "del temp\n",
    "gc.collect()\n",
    "\n",
    "timedelta_df=pd.concat(type_dfs).reset_index(drop=True)\n",
    "\n",
    "timedelta_df.head()"
   ]
  },
  {
   "cell_type": "markdown",
   "metadata": {},
   "source": [
    "## Common sense would suggest that the majority of the engagements happens right after creation, is it true?"
   ]
  },
  {
   "cell_type": "code",
   "execution_count": 8,
   "metadata": {},
   "outputs": [
    {
     "data": {
      "text/plain": [
       "(0.0, 24.0)"
      ]
     },
     "execution_count": 8,
     "metadata": {},
     "output_type": "execute_result"
    },
    {
     "data": {
      "text/plain": [
       "<Figure size 660x440 with 0 Axes>"
      ]
     },
     "metadata": {},
     "output_type": "display_data"
    },
    {
     "data": {
      "image/png": "[encoded data removed]",
      "text/plain": [
       "<Figure size 550x550 with 1 Axes>"
      ]
     },
     "metadata": {
      "needs_background": "light"
     },
     "output_type": "display_data"
    }
   ],
   "source": [
    "plt.clf()\n",
    "\n",
    "sns.displot(timedelta_df, x=\"time_delta_hours\", stat=\"density\", discrete=True)\n",
    "\n",
    "plt.xlim(0, 24)"
   ]
  },
  {
   "cell_type": "markdown",
   "metadata": {},
   "source": [
    "## Does this pattern change with the engagement type?"
   ]
  },
  {
   "cell_type": "code",
   "execution_count": 9,
   "metadata": {},
   "outputs": [
    {
     "data": {
      "text/plain": [
       "(0.0, 24.0)"
      ]
     },
     "execution_count": 9,
     "metadata": {},
     "output_type": "execute_result"
    },
    {
     "data": {
      "text/plain": [
       "<Figure size 660x440 with 0 Axes>"
      ]
     },
     "metadata": {},
     "output_type": "display_data"
    },
    {
     "data": {
      "image/png": "[encoded data removed]",
      "text/plain": [
       "<Figure size 2200x550 with 4 Axes>"
      ]
     },
     "metadata": {
      "needs_background": "light"
     },
     "output_type": "display_data"
    }
   ],
   "source": [
    "plt.clf()\n",
    "\n",
    "sns.displot(timedelta_df, x=\"time_delta_hours\", stat=\"density\", col=\"engagement_type\",discrete=True, common_norm=False, multiple=\"dodge\")\n",
    "\n",
    "plt.xlim(0, 24)"
   ]
  },
  {
   "cell_type": "markdown",
   "metadata": {},
   "source": [
    "## Kinda, let's make it clearer:"
   ]
  },
  {
   "cell_type": "code",
   "execution_count": 10,
   "metadata": {},
   "outputs": [
    {
     "data": {
      "text/plain": [
       "(0.0, 24.0)"
      ]
     },
     "execution_count": 10,
     "metadata": {},
     "output_type": "execute_result"
    },
    {
     "data": {
      "text/plain": [
       "<Figure size 660x440 with 0 Axes>"
      ]
     },
     "metadata": {},
     "output_type": "display_data"
    },
    {
     "data": {
      "image/png": "[encoded data removed]",
      "text/plain": [
       "<Figure size 701.597x550 with 1 Axes>"
      ]
     },
     "metadata": {
      "needs_background": "light"
     },
     "output_type": "display_data"
    }
   ],
   "source": [
    "plt.clf()\n",
    "\n",
    "sns.displot(timedelta_df, x=\"time_delta_hours\", hue=\"engagement_type\", kind=\"ecdf\")\n",
    "\n",
    "plt.xlim(0, 24)"
   ]
  },
  {
   "cell_type": "code",
   "execution_count": null,
   "metadata": {},
   "outputs": [],
   "source": []
  }
 ],
 "metadata": {
  "kernelspec": {
   "display_name": "Python (RecSysFramework)",
   "language": "python",
   "name": "recsysframework"
  },
  "language_info": {
   "codemirror_mode": {
    "name": "ipython",
    "version": 3
   },
   "file_extension": ".py",
   "mimetype": "text/x-python",
   "name": "python",
   "nbconvert_exporter": "python",
   "pygments_lexer": "ipython3",
   "version": "3.6.12"
  }
 },
 "nbformat": 4,
 "nbformat_minor": 4
}
